{
 "cells": [
  {
   "cell_type": "code",
   "execution_count": 1,
   "metadata": {},
   "outputs": [
    {
     "name": "stdout",
     "output_type": "stream",
     "text": [
      "Populating the interactive namespace from numpy and matplotlib\n"
     ]
    }
   ],
   "source": [
    "import numpy as np\n",
    "import pandas as pd\n",
    "import json\n",
    "\n",
    "from sklearn.model_selection import train_test_split\n",
    "from sklearn.model_selection import GridSearchCV\n",
    "from sklearn.model_selection import GroupKFold\n",
    "\n",
    "import matplotlib.pyplot as plt\n",
    "# import plotly.graph_objs as go\n",
    "# import plotly.plotly as py\n",
    "# import plotly.io as pio\n",
    "\n",
    "from sklearn.gaussian_process import GaussianProcessRegressor\n",
    "from sklearn.gaussian_process.kernels import (RBF, Matern, RationalQuadratic,\n",
    "                                              ExpSineSquared, DotProduct,\n",
    "                                              ConstantKernel)\n",
    "from sklearn.model_selection import train_test_split\n",
    "\n",
    "%pylab inline\n",
    "import GPy\n",
    "import GPyOpt\n",
    "from numpy.random import seed"
   ]
  },
  {
   "cell_type": "markdown",
   "metadata": {},
   "source": [
    "1. https://www.blopig.com/blog/wp-content/uploads/2019/10/GPyOpt-Tutorial1.html\n",
    "\n",
    "2. https://nbviewer.org/github/SheffieldML/GPyOpt/blob/devel/manual/GPyOpt_constrained_optimization.ipynb\n",
    "\n",
    "3. https://gpyopt.readthedocs.io/en/latest/GPyOpt.core.html"
   ]
  },
  {
   "cell_type": "code",
   "execution_count": 2,
   "metadata": {},
   "outputs": [
    {
     "name": "stdout",
     "output_type": "stream",
     "text": [
      "  Cytokine  Concentration in Serum (pg/mL)\n",
      "0     IL-7                             2.8\n",
      "1     IL-4                             8.8\n",
      "2     IL-3                            12.0\n",
      "3    IL-21                            62.6\n",
      "4     IL-2                             4.2\n",
      "5    IL-15                             2.1\n",
      "6     BAFF                             1.0\n",
      "7    IL-12                            41.0\n"
     ]
    }
   ],
   "source": [
    "Factors_Bounds = pd.read_excel('cytokinesInBlood.xlsx')\n",
    "N_factors = Factors_Bounds.shape[0]\n",
    "print(Factors_Bounds)"
   ]
  },
  {
   "cell_type": "code",
   "execution_count": 3,
   "metadata": {},
   "outputs": [],
   "source": [
    "bounds = []\n",
    "for i in range(N_factors):\n",
    "    temp_dict = {'name': Factors_Bounds[\"Cytokine\"].iloc[i], 'type': 'continuous', \n",
    "                 'domain': (0, 2 * Factors_Bounds[\"Concentration in Serum (pg/mL)\"].iloc[i])}\n",
    "    bounds.append(temp_dict)"
   ]
  },
  {
   "cell_type": "markdown",
   "metadata": {},
   "source": [
    "### Initial Design"
   ]
  },
  {
   "cell_type": "code",
   "execution_count": 4,
   "metadata": {},
   "outputs": [],
   "source": [
    "random.seed(37)\n",
    "\n",
    "feasible_region = GPyOpt.Design_space(space = bounds) \n",
    "initial_design = GPyOpt.experiment_design.initial_design('latin', feasible_region, 6)"
   ]
  },
  {
   "cell_type": "code",
   "execution_count": 5,
   "metadata": {},
   "outputs": [
    {
     "data": {
      "text/html": [
       "<div>\n",
       "<style scoped>\n",
       "    .dataframe tbody tr th:only-of-type {\n",
       "        vertical-align: middle;\n",
       "    }\n",
       "\n",
       "    .dataframe tbody tr th {\n",
       "        vertical-align: top;\n",
       "    }\n",
       "\n",
       "    .dataframe thead th {\n",
       "        text-align: right;\n",
       "    }\n",
       "</style>\n",
       "<table border=\"1\" class=\"dataframe\">\n",
       "  <thead>\n",
       "    <tr style=\"text-align: right;\">\n",
       "      <th></th>\n",
       "      <th>IL-7</th>\n",
       "      <th>IL-4</th>\n",
       "      <th>IL-3</th>\n",
       "      <th>IL-21</th>\n",
       "      <th>IL-2</th>\n",
       "      <th>IL-15</th>\n",
       "      <th>BAFF</th>\n",
       "      <th>IL-12</th>\n",
       "    </tr>\n",
       "  </thead>\n",
       "  <tbody>\n",
       "    <tr>\n",
       "      <th>0</th>\n",
       "      <td>3.266667</td>\n",
       "      <td>16.133333</td>\n",
       "      <td>2.0</td>\n",
       "      <td>52.166667</td>\n",
       "      <td>4.9</td>\n",
       "      <td>2.45</td>\n",
       "      <td>1.833333</td>\n",
       "      <td>6.833333</td>\n",
       "    </tr>\n",
       "    <tr>\n",
       "      <th>1</th>\n",
       "      <td>1.400000</td>\n",
       "      <td>10.266667</td>\n",
       "      <td>14.0</td>\n",
       "      <td>114.766667</td>\n",
       "      <td>7.7</td>\n",
       "      <td>1.75</td>\n",
       "      <td>0.166667</td>\n",
       "      <td>34.166667</td>\n",
       "    </tr>\n",
       "    <tr>\n",
       "      <th>2</th>\n",
       "      <td>2.333333</td>\n",
       "      <td>1.466667</td>\n",
       "      <td>10.0</td>\n",
       "      <td>10.433333</td>\n",
       "      <td>2.1</td>\n",
       "      <td>0.35</td>\n",
       "      <td>1.500000</td>\n",
       "      <td>20.500000</td>\n",
       "    </tr>\n",
       "    <tr>\n",
       "      <th>3</th>\n",
       "      <td>4.200000</td>\n",
       "      <td>4.400000</td>\n",
       "      <td>6.0</td>\n",
       "      <td>73.033333</td>\n",
       "      <td>0.7</td>\n",
       "      <td>3.15</td>\n",
       "      <td>1.166667</td>\n",
       "      <td>61.500000</td>\n",
       "    </tr>\n",
       "    <tr>\n",
       "      <th>4</th>\n",
       "      <td>5.133333</td>\n",
       "      <td>13.200000</td>\n",
       "      <td>18.0</td>\n",
       "      <td>31.300000</td>\n",
       "      <td>3.5</td>\n",
       "      <td>3.85</td>\n",
       "      <td>0.500000</td>\n",
       "      <td>75.166667</td>\n",
       "    </tr>\n",
       "    <tr>\n",
       "      <th>5</th>\n",
       "      <td>0.466667</td>\n",
       "      <td>7.333333</td>\n",
       "      <td>22.0</td>\n",
       "      <td>93.900000</td>\n",
       "      <td>6.3</td>\n",
       "      <td>1.05</td>\n",
       "      <td>0.833333</td>\n",
       "      <td>47.833333</td>\n",
       "    </tr>\n",
       "  </tbody>\n",
       "</table>\n",
       "</div>"
      ],
      "text/plain": [
       "       IL-7       IL-4  IL-3       IL-21  IL-2  IL-15      BAFF      IL-12\n",
       "0  3.266667  16.133333   2.0   52.166667   4.9   2.45  1.833333   6.833333\n",
       "1  1.400000  10.266667  14.0  114.766667   7.7   1.75  0.166667  34.166667\n",
       "2  2.333333   1.466667  10.0   10.433333   2.1   0.35  1.500000  20.500000\n",
       "3  4.200000   4.400000   6.0   73.033333   0.7   3.15  1.166667  61.500000\n",
       "4  5.133333  13.200000  18.0   31.300000   3.5   3.85  0.500000  75.166667\n",
       "5  0.466667   7.333333  22.0   93.900000   6.3   1.05  0.833333  47.833333"
      ]
     },
     "execution_count": 5,
     "metadata": {},
     "output_type": "execute_result"
    }
   ],
   "source": [
    "pd.DataFrame(initial_design, columns = Factors_Bounds[\"Cytokine\"].to_list())"
   ]
  },
  {
   "cell_type": "code",
   "execution_count": 6,
   "metadata": {},
   "outputs": [],
   "source": [
    "pd.DataFrame(initial_design, columns = Factors_Bounds[\"Cytokine\"].to_list()).to_csv('0_Cytokine_ExperimentalPlan.csv')"
   ]
  },
  {
   "cell_type": "code",
   "execution_count": null,
   "metadata": {},
   "outputs": [],
   "source": []
  }
 ],
 "metadata": {
  "kernelspec": {
   "display_name": "Python 3 (ipykernel)",
   "language": "python",
   "name": "python3"
  },
  "language_info": {
   "codemirror_mode": {
    "name": "ipython",
    "version": 3
   },
   "file_extension": ".py",
   "mimetype": "text/x-python",
   "name": "python",
   "nbconvert_exporter": "python",
   "pygments_lexer": "ipython3",
   "version": "3.7.13"
  }
 },
 "nbformat": 4,
 "nbformat_minor": 2
}
