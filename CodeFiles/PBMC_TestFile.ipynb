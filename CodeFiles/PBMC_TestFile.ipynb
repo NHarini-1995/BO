{
 "cells": [
  {
   "cell_type": "code",
   "execution_count": 1,
   "id": "012fe4e9",
   "metadata": {},
   "outputs": [],
   "source": [
    "from Run_Designs import design_experiments, design_initial_experiments\n",
    "import numpy as np\n",
    "import pandas as pd\n",
    "import scipy"
   ]
  },
  {
   "cell_type": "markdown",
   "id": "0dd0aba5",
   "metadata": {},
   "source": [
    "1. C - List of number of categroies corresponding to each categorical variable\n",
    "2. Nc - Number of categorical variables\n",
    "3. Nx - Continuous variables\n",
    "4. h - categorical\n",
    "5. x - continuous\n",
    "6. z - [h, x]\n",
    "\n",
    "7. nDim - Nc + Nx\n",
    "8. bounds - Lower and Upper bounds of both Catergorical variables and continuous variables\n",
    "\n",
    "9. n_iter - Number of iterations to run the algorithm\n",
    "10. initN - Number of intial data points\n",
    "11. batch_size (b) - Number of experiments to be generated in each iteration\n",
    "\n",
    "12. acq_type - Acquisition Type\n",
    "13. Meas_Noise - Measurement Noise in the target \n",
    "14. Trade-off : Explorarion exploitation balance"
   ]
  },
  {
   "cell_type": "markdown",
   "id": "e1779717",
   "metadata": {},
   "source": [
    "### 1. Defining parameters of the system"
   ]
  },
  {
   "cell_type": "code",
   "execution_count": 2,
   "id": "d491f8a9",
   "metadata": {},
   "outputs": [],
   "source": [
    "bounds = [  {'name': 'XVIVO', 'type': 'continuous', 'domain': (0, 1)},\n",
    "            {'name': 'DMEM', 'type': 'continuous', 'domain': (0, 1)},\n",
    "            {'name': 'AR5', 'type': 'continuous', 'domain': (0, 1)},\n",
    "         {'name': 'RPMI', 'type': 'continuous', 'domain': (0, 1)},]\n",
    "\n",
    "constraints = [{'name': 'constr_1', 'constraint': 'x[:,0] + x[:,1] + x[:,2] + x[:,3]-1.0001'},\n",
    "              {'name': 'constr_2', 'constraint': '-x[:,0] - x[:,1] - x[:,2] - x[:,3]+0.999'}] #for design space\n",
    "\n",
    "constraint_function = scipy.optimize.LinearConstraint([[1, 1,1, 1]], [1], [1]) #For optimization function formulation\n",
    "\n",
    "Nx = len(bounds)\n",
    "initN = 12\n",
    "Nc = 0\n",
    "Niter = 1\n",
    "batch_size = 3\n",
    "approach_type = 'Co'\n",
    "prob_type = 'Constrained'\n",
    "\n",
    "\n",
    "data_param = {'Nx': Nx, 'Nc': Nc, 'nDim': Nc+Nx, 'bounds': bounds,'C': [],\n",
    "              'Constrains': constraints, 'Constrains_function': constraint_function,\n",
    "              'approach_type': approach_type, 'Meas_Noise': 0.3, 'trade_off': 3,\n",
    "              'prob_type': prob_type, 'initN': initN, 'Meas_Noise': 0.1, 'trade_off': 3, 'batch_size': batch_size}"
   ]
  },
  {
   "cell_type": "markdown",
   "id": "22a4c5f2",
   "metadata": {},
   "source": [
    "### 2. Creating the Initial Dataset\n",
    "This function takes as input the \n",
    "1. parameter of the system defined above (data_param) - dictionary\n",
    "2. number of initial experiments (initN) - scalar integer\n",
    "3. output function file name - .csv\n",
    "4. random seed and - scalar integer\n",
    "5. File name to store background information for the modeling (including definitions in the data_param) - .pkl"
   ]
  },
  {
   "cell_type": "code",
   "execution_count": 3,
   "id": "83edd51a",
   "metadata": {},
   "outputs": [],
   "source": [
    "random_seed = 0\n",
    "background_model_parameter = '0_ModelBackground.pkl'\n",
    "Exp0 = design_initial_experiments(data_param, initN, '0_pbmc_ExperimentalDesign.csv', random_seed, background_model_parameter)"
   ]
  },
  {
   "cell_type": "markdown",
   "id": "e7d78efb",
   "metadata": {},
   "source": [
    "### 3. Designing Subsequent Iterations of experiments\n",
    "\n",
    "This function takes as input the following:\n",
    "1. experimental data collected so far (design, result) - Both numpy arrays\n",
    "3. number of experiments (batch_size) - Scalar\n",
    "4. Method of optimization - 'thompson sampling' vs 'constant_liar'\n",
    "5. File that has the task parameter summary (.pkl)\n",
    "6. New file name to store the updated task parameters (.pkl)\n",
    "7. the output file name (.csv)"
   ]
  },
  {
   "cell_type": "code",
   "execution_count": 4,
   "id": "9638f7e2",
   "metadata": {},
   "outputs": [
    {
     "data": {
      "image/png": "[encoded data removed]",
      "text/plain": [
       "<Figure size 432x288 with 1 Axes>"
      ]
     },
     "metadata": {
      "needs_background": "light"
     },
     "output_type": "display_data"
    }
   ],
   "source": [
    "#read in the data file with all experiments planned until this iteration\n",
    "design= pd.read_csv(\"./dummy_data/pbmc_test_design.csv\").values\n",
    "\n",
    "# read in the data file containing the corresponding target values\n",
    "result =pd.read_csv(\"./dummy_data/pbmc_test_results.csv\")['Average Viability [%]'].values.reshape(-1,1)\n",
    "\n",
    "batch_size = 6\n",
    "method = 'thompson_sampling'\n",
    "output_file_name = 'pbmc_RoundX_ExperimentalDesign.csv'\n",
    "background_model_parameter = '0_ModelBackground.pkl'\n",
    "new_model_parameter = '1_ModelBackground.pkl'\n",
    "\n",
    "z_next, fitted_gp = design_experiments(design, result, batch_size, method,background_model_parameter, \n",
    "                            new_model_parameter , output_file_name )"
   ]
  },
  {
   "cell_type": "code",
   "execution_count": null,
   "id": "8b366e88",
   "metadata": {},
   "outputs": [],
   "source": []
  }
 ],
 "metadata": {
  "kernelspec": {
   "display_name": "Python 3 (ipykernel)",
   "language": "python",
   "name": "python3"
  },
  "language_info": {
   "codemirror_mode": {
    "name": "ipython",
    "version": 3
   },
   "file_extension": ".py",
   "mimetype": "text/x-python",
   "name": "python",
   "nbconvert_exporter": "python",
   "pygments_lexer": "ipython3",
   "version": "3.7.13"
  }
 },
 "nbformat": 4,
 "nbformat_minor": 5
}
