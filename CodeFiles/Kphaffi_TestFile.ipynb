{
 "cells": [
  {
   "cell_type": "code",
   "execution_count": 1,
   "id": "dd4941c7",
   "metadata": {},
   "outputs": [
    {
     "ename": "ModuleNotFoundError",
     "evalue": "No module named 'methods.AcquisitionFunctions'",
     "output_type": "error",
     "traceback": [
      "\u001b[0;31m---------------------------------------------------------------------------\u001b[0m",
      "\u001b[0;31mModuleNotFoundError\u001b[0m                       Traceback (most recent call last)",
      "\u001b[0;32m/var/folders/hj/7l2lhf855092kftsxnntdg240000gn/T/ipykernel_99298/2799450911.py\u001b[0m in \u001b[0;36m<module>\u001b[0;34m\u001b[0m\n\u001b[0;32m----> 1\u001b[0;31m \u001b[0;32mfrom\u001b[0m \u001b[0mRun_Designs\u001b[0m \u001b[0;32mimport\u001b[0m \u001b[0mdesign_experiments\u001b[0m\u001b[0;34m,\u001b[0m \u001b[0mdesign_initial_experiments\u001b[0m\u001b[0;34m\u001b[0m\u001b[0;34m\u001b[0m\u001b[0m\n\u001b[0m\u001b[1;32m      2\u001b[0m \u001b[0;32mimport\u001b[0m \u001b[0mnumpy\u001b[0m \u001b[0;32mas\u001b[0m \u001b[0mnp\u001b[0m\u001b[0;34m\u001b[0m\u001b[0;34m\u001b[0m\u001b[0m\n\u001b[1;32m      3\u001b[0m \u001b[0;32mimport\u001b[0m \u001b[0mpandas\u001b[0m \u001b[0;32mas\u001b[0m \u001b[0mpd\u001b[0m\u001b[0;34m\u001b[0m\u001b[0;34m\u001b[0m\u001b[0m\n",
      "\u001b[0;32m~/Dropbox (MIT)/Harini Narayanan’s files/3_Papers/ActiveLearning_ComplexMediaOptimization/Combining_w_PBMCs/Submission/CodeFiles/Run_Designs.py\u001b[0m in \u001b[0;36m<module>\u001b[0;34m\u001b[0m\n\u001b[1;32m     33\u001b[0m \u001b[0;31m# from methods.AcquisitionFunctions import EI, PI, UCB, AcquisitionOnSubspace\u001b[0m\u001b[0;34m\u001b[0m\u001b[0;34m\u001b[0m\u001b[0;34m\u001b[0m\u001b[0m\n\u001b[1;32m     34\u001b[0m \u001b[0;31m# from methods.optimization import sample_then_minimize\u001b[0m\u001b[0;34m\u001b[0m\u001b[0;34m\u001b[0m\u001b[0;34m\u001b[0m\u001b[0m\n\u001b[0;32m---> 35\u001b[0;31m \u001b[0;32mfrom\u001b[0m \u001b[0mmethods\u001b[0m\u001b[0;34m.\u001b[0m\u001b[0mAskTell\u001b[0m \u001b[0;32mimport\u001b[0m \u001b[0mask_tell\u001b[0m\u001b[0;34m\u001b[0m\u001b[0;34m\u001b[0m\u001b[0m\n\u001b[0m\u001b[1;32m     36\u001b[0m \u001b[0;32mfrom\u001b[0m \u001b[0mscipy\u001b[0m\u001b[0;34m.\u001b[0m\u001b[0moptimize\u001b[0m \u001b[0;32mimport\u001b[0m \u001b[0mminimize\u001b[0m\u001b[0;34m\u001b[0m\u001b[0;34m\u001b[0m\u001b[0m\n\u001b[1;32m     37\u001b[0m \u001b[0;32mfrom\u001b[0m \u001b[0mtyping\u001b[0m \u001b[0;32mimport\u001b[0m \u001b[0mUnion\u001b[0m\u001b[0;34m,\u001b[0m \u001b[0mTuple\u001b[0m\u001b[0;34m\u001b[0m\u001b[0;34m\u001b[0m\u001b[0m\n",
      "\u001b[0;32m~/Dropbox (MIT)/Harini Narayanan’s files/3_Papers/ActiveLearning_ComplexMediaOptimization/Combining_w_PBMCs/Submission/CodeFiles/methods/AskTell.py\u001b[0m in \u001b[0;36m<module>\u001b[0;34m\u001b[0m\n\u001b[1;32m     16\u001b[0m \u001b[0;32mfrom\u001b[0m \u001b[0mmethods\u001b[0m\u001b[0;34m.\u001b[0m\u001b[0mUpdateCategoricalWeight\u001b[0m \u001b[0;32mimport\u001b[0m \u001b[0mcompute_reward_for_all_cat_variable\u001b[0m\u001b[0;34m,\u001b[0m \u001b[0mupdate_weights_for_all_cat_var\u001b[0m\u001b[0;34m\u001b[0m\u001b[0;34m\u001b[0m\u001b[0m\n\u001b[1;32m     17\u001b[0m \u001b[0;32mfrom\u001b[0m \u001b[0mmethods\u001b[0m\u001b[0;34m.\u001b[0m\u001b[0mKernel\u001b[0m \u001b[0;32mimport\u001b[0m \u001b[0mMixtureViaSumAndProduct\u001b[0m\u001b[0;34m,\u001b[0m \u001b[0mCategoryOverlapKernel\u001b[0m\u001b[0;34m\u001b[0m\u001b[0;34m\u001b[0m\u001b[0m\n\u001b[0;32m---> 18\u001b[0;31m \u001b[0;32mfrom\u001b[0m \u001b[0mmethods\u001b[0m\u001b[0;34m.\u001b[0m\u001b[0mSamplingCategorical\u001b[0m \u001b[0;32mimport\u001b[0m \u001b[0mcompute_prob_dist_and_draw_hts\u001b[0m\u001b[0;34m,\u001b[0m \u001b[0mdistr\u001b[0m\u001b[0;34m\u001b[0m\u001b[0;34m\u001b[0m\u001b[0m\n\u001b[0m\u001b[1;32m     19\u001b[0m \u001b[0;32mfrom\u001b[0m \u001b[0mmethods\u001b[0m\u001b[0;34m.\u001b[0m\u001b[0mInitialData_Gen\u001b[0m \u001b[0;32mimport\u001b[0m \u001b[0minitialize\u001b[0m\u001b[0;34m\u001b[0m\u001b[0;34m\u001b[0m\u001b[0m\n\u001b[1;32m     20\u001b[0m \u001b[0;31m# from methods.AcquisitionFunctions import EI, PI, UCB, AcquisitionOnSubspace\u001b[0m\u001b[0;34m\u001b[0m\u001b[0;34m\u001b[0m\u001b[0;34m\u001b[0m\u001b[0m\n",
      "\u001b[0;32m~/Dropbox (MIT)/Harini Narayanan’s files/3_Papers/ActiveLearning_ComplexMediaOptimization/Combining_w_PBMCs/Submission/CodeFiles/methods/SamplingCategorical.py\u001b[0m in \u001b[0;36m<module>\u001b[0;34m\u001b[0m\n\u001b[1;32m     17\u001b[0m \u001b[0;32mfrom\u001b[0m \u001b[0mmethods\u001b[0m\u001b[0;34m.\u001b[0m\u001b[0mKernel\u001b[0m \u001b[0;32mimport\u001b[0m \u001b[0mMixtureViaSumAndProduct\u001b[0m\u001b[0;34m,\u001b[0m \u001b[0mCategoryOverlapKernel\u001b[0m\u001b[0;34m\u001b[0m\u001b[0;34m\u001b[0m\u001b[0m\n\u001b[1;32m     18\u001b[0m \u001b[0;32mfrom\u001b[0m \u001b[0mmethods\u001b[0m\u001b[0;34m.\u001b[0m\u001b[0mInitialData_Gen\u001b[0m \u001b[0;32mimport\u001b[0m \u001b[0minitialize\u001b[0m\u001b[0;34m\u001b[0m\u001b[0;34m\u001b[0m\u001b[0m\n\u001b[0;32m---> 19\u001b[0;31m \u001b[0;32mfrom\u001b[0m \u001b[0mmethods\u001b[0m\u001b[0;34m.\u001b[0m\u001b[0mAcquisitionFunctions\u001b[0m \u001b[0;32mimport\u001b[0m \u001b[0mEI\u001b[0m\u001b[0;34m,\u001b[0m \u001b[0mPI\u001b[0m\u001b[0;34m,\u001b[0m \u001b[0mUCB\u001b[0m\u001b[0;34m,\u001b[0m \u001b[0mAcquisitionOnSubspace\u001b[0m\u001b[0;34m\u001b[0m\u001b[0;34m\u001b[0m\u001b[0m\n\u001b[0m\u001b[1;32m     20\u001b[0m \u001b[0;34m\u001b[0m\u001b[0m\n\u001b[1;32m     21\u001b[0m \u001b[0;34m\u001b[0m\u001b[0m\n",
      "\u001b[0;31mModuleNotFoundError\u001b[0m: No module named 'methods.AcquisitionFunctions'"
     ]
    }
   ],
   "source": [
    "from Run_Designs import design_experiments, design_initial_experiments\n",
    "import numpy as np\n",
    "import pandas as pd"
   ]
  },
  {
   "cell_type": "markdown",
   "id": "2e6c1563",
   "metadata": {},
   "source": [
    "1. C - List of number of categroies corresponding to each categorical variable\n",
    "2. Nc - Number of categorical variables\n",
    "3. Nx - Continuous variables\n",
    "4. h - categorical\n",
    "5. x - continuous\n",
    "6. z - [h, x]\n",
    "\n",
    "7. nDim - Nc + Nx\n",
    "8. bounds - Lower and Upper bounds of both Catergorical variables and continuous variables\n",
    "\n",
    "9. n_iter - Number of iterations to run the algorithm\n",
    "10. initN - Number of intial data points\n",
    "11. batch_size (b) - Number of experiments to be generated in each iteration\n",
    "\n",
    "12. acq_type - Acquisition Type\n",
    "13. Meas_Noise - Measurement Noise in the target \n",
    "14. Trade-off : Explorarion exploitation balance"
   ]
  },
  {
   "cell_type": "markdown",
   "id": "1ab7e7ce",
   "metadata": {},
   "source": [
    "### 1. Defining parameters of the system"
   ]
  },
  {
   "cell_type": "code",
   "execution_count": null,
   "id": "f93cfb4e",
   "metadata": {},
   "outputs": [],
   "source": [
    "initN = 23\n",
    "Nc = 1\n",
    "C_list = [19] #\n",
    "\n",
    "assert Nc == len(C_list)\n",
    "\n",
    "Nx = 3\n",
    "nDim = Nc + Nx\n",
    "Niter = 1\n",
    "batch_size = 11\n",
    "\n",
    "bounds = [{'name': 'Carbon_Type', 'type': 'categorical', 'domain': np.arange(0, 19)}, #Carbon Source type\n",
    "          {'name': 'Conc_Carbon', 'type': 'continuous', 'domain': (0, 1)},\n",
    "            {'name': 'Gly_OG', 'type': 'continuous', 'domain': (0, 1)},\n",
    "            {'name': 'Met_Prod', 'type': 'continuous', 'domain': (0, 1)}]\n",
    "\n",
    "#0 - lb and 1 - ub\n",
    "\n",
    "data_param = {'C': C_list, 'Nc': Nc, 'Nx': Nx, 'nDim': Nc+Nx, 'bounds': bounds, 'approach_type':'CoCa',\n",
    "'prob_type': 'UnConstrained', 'initN': initN, 'Meas_Noise': 0.1, 'trade_off': 3, 'batch_size': batch_size}"
   ]
  },
  {
   "cell_type": "markdown",
   "id": "a4a4b36f",
   "metadata": {},
   "source": [
    "### 2. Creating the Initial Dataset\n",
    "This function takes as input the following:\n",
    "\n",
    "1. parameter of the system defined above (data_param) - dictionary\n",
    "2. number of initial experiments (initN) - scalar integer\n",
    "3. output function file name - .csv\n",
    "4. random seed and - scalar integer\n",
    "5. File name to store background information for the modeling (including definitions in the data_param) - .pkl"
   ]
  },
  {
   "cell_type": "code",
   "execution_count": null,
   "id": "3fa06dc2",
   "metadata": {},
   "outputs": [],
   "source": [
    "random_seed = 37\n",
    "background_model_parameter = '0_ModelBackground.pkl'\n",
    "Exp0 = design_initial_experiments(data_param, initN, '0_ExperimentalDesign.', random_seed, background_model_parameter)"
   ]
  },
  {
   "cell_type": "markdown",
   "id": "5ebb1097",
   "metadata": {},
   "source": [
    "### 3. Designing Subsequent Iterations of experiments\n",
    "\n",
    "This function takes as input the following:\n",
    "1. experimental data collected so far (design, result) - Both numpy arrays\n",
    "3. number of experiments (batch_size) - Scalar\n",
    "4. Method of optimization - 'thompson sampling' vs 'constant_liar'\n",
    "5. File that has the task parameter summary (.pkl)\n",
    "6. New file name to store the updated task parameters (.pkl)\n",
    "7. the output file name (.csv)"
   ]
  },
  {
   "cell_type": "code",
   "execution_count": null,
   "id": "b1b8fff9",
   "metadata": {},
   "outputs": [],
   "source": [
    "#read in the data file with all experiments planned until this iteration\n",
    "design= pd.read_csv(\"./dummy_data/test_design.csv\").iloc[:,1:].values\n",
    "# read in the data file containing the corresponding target values\n",
    "result =pd.read_csv(\"./dummy_data/test_result.csv\")['Specific Productivity'].values.reshape(-1,1)\n",
    "batch_size = 11\n",
    "method = 'thompson_sampling'\n",
    "\n",
    "output_file_name = 'RoundX_ExperimentalDesign.csv'\n",
    "background_model_parameter = '0_ModelBackground.pkl'\n",
    "new_model_parameter = '1_ModelBackground.pkl'\n",
    "\n",
    "z_next, gp_actual = design_experiments(design, result,batch_size, method,background_model_parameter, \n",
    "                            new_model_parameter , output_file_name)"
   ]
  },
  {
   "cell_type": "code",
   "execution_count": null,
   "id": "2c2d0cdc",
   "metadata": {},
   "outputs": [],
   "source": []
  }
 ],
 "metadata": {
  "kernelspec": {
   "display_name": "Python 3 (ipykernel)",
   "language": "python",
   "name": "python3"
  },
  "language_info": {
   "codemirror_mode": {
    "name": "ipython",
    "version": 3
   },
   "file_extension": ".py",
   "mimetype": "text/x-python",
   "name": "python",
   "nbconvert_exporter": "python",
   "pygments_lexer": "ipython3",
   "version": "3.7.13"
  }
 },
 "nbformat": 4,
 "nbformat_minor": 5
}
