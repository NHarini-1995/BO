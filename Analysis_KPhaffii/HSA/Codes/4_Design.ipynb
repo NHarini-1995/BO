{
 "cells": [
  {
   "cell_type": "code",
   "execution_count": 1,
   "id": "c3415942",
   "metadata": {},
   "outputs": [],
   "source": [
    "import math\n",
    "import collections\n",
    "import pickle\n",
    "import random\n",
    "import scipy\n",
    "import json\n",
    "\n",
    "from matplotlib import pyplot as plt\n",
    "\n",
    "import GPy\n",
    "import numpy as np\n",
    "import pandas as pd\n",
    "from tqdm import tqdm\n",
    "\n",
    "# from Kernel import MixtureViaSumAndProduct, CategoryOverlapKernel\n",
    "from InitialData_Gen import initialize\n",
    "from AcquisitionFunctions import EI, PI, UCB, AcquisitionOnSubspace\n",
    "# from SamplingCategorical import compute_prob_dist_and_draw_hts\n",
    "from UpdateCategoricalWeight import compute_reward_for_all_cat_variable, update_weights_for_all_cat_var\n",
    "from optimization import sample_then_minimize\n",
    "\n",
    "from AskTell import ask_tell\n",
    "\n",
    "from scipy.optimize import minimize\n",
    "\n",
    "from typing import Union, Tuple\n",
    "from paramz.transformations import Logexp"
   ]
  },
  {
   "cell_type": "markdown",
   "id": "2e6c1563",
   "metadata": {},
   "source": [
    "1. C - List of number of categroies corresponding to each categorical variable\n",
    "2. Nc - Number of categorical variables\n",
    "3. Nx - Continuous variables\n",
    "4. h - categorical\n",
    "5. x - continuous\n",
    "6. z - [h, x]\n",
    "\n",
    "7. nDim - Nc + Nx\n",
    "8. bounds - Lower and Upper bounds of both Catergorical variables and continuous variables\n",
    "\n",
    "9. n_iter - Number of iterations to run the algorithm\n",
    "10. initN - Number of intial data points\n",
    "11. batch_size (b) - Number of experiments to be generated in each iteration\n",
    "\n",
    "12. acq_type - Acquisition Type ('EI', 'LCB', 'ThompsonSampling')"
   ]
  },
  {
   "cell_type": "markdown",
   "id": "1ab7e7ce",
   "metadata": {},
   "source": [
    "### 1. Load Model background from the pickle file"
   ]
  },
  {
   "cell_type": "code",
   "execution_count": 2,
   "id": "4693cba8",
   "metadata": {},
   "outputs": [],
   "source": [
    "import sys\n",
    "myString = sys.path[0]\n",
    "split_list = myString.split(\"/\")\n",
    "root = ''\n",
    "for l in split_list[1:-2]:\n",
    "    root = root +'/'+ l\n",
    "    \n",
    "main_file_path = root + '/HSA/'\n",
    "carbon_source_fiepath = root + '/'"
   ]
  },
  {
   "cell_type": "code",
   "execution_count": 3,
   "id": "f93cfb4e",
   "metadata": {},
   "outputs": [],
   "source": [
    "# load data from pkl file\n",
    "background_file = main_file_path +  \"Codes/Round3/3_ModelBackground.pkl\"\n",
    "with open(background_file, \"rb\") as fp:\n",
    "    ModelBackground_3 = pickle.load(fp)\n",
    "    "
   ]
  },
  {
   "cell_type": "markdown",
   "id": "45bfd81f",
   "metadata": {},
   "source": [
    "### 2. Read Experimental condition and results "
   ]
  },
  {
   "cell_type": "code",
   "execution_count": 4,
   "id": "ce2a22d3",
   "metadata": {},
   "outputs": [],
   "source": [
    "Benchmark = np.concatenate((np.arange(0,19).reshape(-1,1), np.array([0.0]*19).reshape(-1,1),\n",
    "                            np.array([0.4]*19).reshape(-1,1), \n",
    "                            np.array([0.15]*19).reshape(-1,1)), axis = 1)"
   ]
  },
  {
   "cell_type": "code",
   "execution_count": 5,
   "id": "b1c4297d",
   "metadata": {},
   "outputs": [
    {
     "data": {
      "text/plain": [
       "array([[ 0.  ,  0.  ,  0.4 ,  0.15],\n",
       "       [ 1.  ,  0.  ,  0.4 ,  0.15],\n",
       "       [ 2.  ,  0.  ,  0.4 ,  0.15],\n",
       "       [ 3.  ,  0.  ,  0.4 ,  0.15],\n",
       "       [ 4.  ,  0.  ,  0.4 ,  0.15],\n",
       "       [ 5.  ,  0.  ,  0.4 ,  0.15],\n",
       "       [ 6.  ,  0.  ,  0.4 ,  0.15],\n",
       "       [ 7.  ,  0.  ,  0.4 ,  0.15],\n",
       "       [ 8.  ,  0.  ,  0.4 ,  0.15],\n",
       "       [ 9.  ,  0.  ,  0.4 ,  0.15],\n",
       "       [10.  ,  0.  ,  0.4 ,  0.15],\n",
       "       [11.  ,  0.  ,  0.4 ,  0.15],\n",
       "       [12.  ,  0.  ,  0.4 ,  0.15],\n",
       "       [13.  ,  0.  ,  0.4 ,  0.15],\n",
       "       [14.  ,  0.  ,  0.4 ,  0.15],\n",
       "       [15.  ,  0.  ,  0.4 ,  0.15],\n",
       "       [16.  ,  0.  ,  0.4 ,  0.15],\n",
       "       [17.  ,  0.  ,  0.4 ,  0.15],\n",
       "       [18.  ,  0.  ,  0.4 ,  0.15]])"
      ]
     },
     "execution_count": 5,
     "metadata": {},
     "output_type": "execute_result"
    }
   ],
   "source": [
    "Benchmark"
   ]
  },
  {
   "cell_type": "code",
   "execution_count": 6,
   "id": "29c5cb4d",
   "metadata": {},
   "outputs": [],
   "source": [
    "N_round = 4\n",
    "Design = {}\n",
    "Result_df = {}\n",
    "bench_val = 0\n",
    "for nr in range(N_round):\n",
    "    file_name = main_file_path + 'Codes/Round' + str(nr) + '/Reconstructed_Round' + str(nr) + '.csv'\n",
    "    Design[nr] = pd.read_csv(file_name)\n",
    "    Column_Names = pd.read_csv(file_name).columns\n",
    "    if nr == 0:\n",
    "        file_name_res = main_file_path + 'Exp/Round' + str(nr) + '/Round' + str(nr) + '_Result_Summary_Repeat.csv'\n",
    "    else:\n",
    "        file_name_res = main_file_path + 'Exp/Round' + str(nr) + '/Round' + str(nr) + '_Result_Summary.csv'\n",
    "        \n",
    "    Result_df[nr] = pd.read_csv(file_name_res)\n",
    "    \n",
    "    if nr == 0:\n",
    "        data = Design[nr].iloc[:,1:].values\n",
    "        result = Result_df[nr]['Specific Productivity'].iloc[:-1,].values.reshape(-1,1)\n",
    "        bench_val = bench_val + Result_df[nr]['Specific Productivity'].iloc[-1,]\n",
    "    else:\n",
    "        data = np.concatenate((data, Design[nr].iloc[:,1:].values), axis = 0)\n",
    "        result = np.concatenate((result, Result_df[nr]['Specific Productivity'].iloc[:-1,].values.reshape(-1,1)), axis = 0)\n",
    "        bench_val = bench_val + Result_df[nr]['Specific Productivity'].iloc[-1,]\n",
    "        \n",
    "Bench_result = np.array([bench_val/N_round] * 19)"
   ]
  },
  {
   "cell_type": "code",
   "execution_count": 7,
   "id": "86edc46e",
   "metadata": {},
   "outputs": [],
   "source": [
    "data = np.concatenate((data, Benchmark), axis = 0)\n",
    "result = np.concatenate((result,Bench_result.reshape(-1,1) ), axis = 0)"
   ]
  },
  {
   "cell_type": "markdown",
   "id": "344d09fe",
   "metadata": {},
   "source": [
    "### 3. Update rewards and weights"
   ]
  },
  {
   "cell_type": "code",
   "execution_count": 8,
   "id": "163cb67b",
   "metadata": {},
   "outputs": [
    {
     "name": "stdout",
     "output_type": "stream",
     "text": [
      "0\n",
      "[-1.187701   -0.03652664 -0.05344928 -0.05885251 -2.78661805 -0.50822141\n",
      " -1.74129561 -2.14866308 -3.22415426 -1.81072497 -1.79079807]\n"
     ]
    }
   ],
   "source": [
    "batch_size = 11\n",
    "random.seed(37)\n",
    "\n",
    "C_list = ModelBackground_3['data_param']['C']\n",
    "\n",
    "ht_next_list_array = np.atleast_2d(ModelBackground_3['Categorical_dist_param']['ht_batch_list'])\n",
    "\n",
    "ht_list_rewards = compute_reward_for_all_cat_variable(ht_next_list_array, C_list,\n",
    "                                                      data, result, batch_size)\n",
    "\n",
    "Wc_list = update_weights_for_all_cat_var(C_list, \n",
    "                ht_list_rewards, ModelBackground_3['Categorical_dist_param']['ht_list'],\n",
    "                ModelBackground_3['Wc_list'], ModelBackground_3['gamma_list'],\n",
    "                ModelBackground_3['Categorical_dist_param']['probabilityDistribution_list'],\n",
    "                batch_size, ModelBackground_3['Categorical_dist_param']['S0'])"
   ]
  },
  {
   "cell_type": "code",
   "execution_count": 9,
   "id": "a1bc9171",
   "metadata": {},
   "outputs": [
    {
     "name": "stdout",
     "output_type": "stream",
     "text": [
      "check2\n",
      "(1000, 1)\n",
      "(1000, 1, 1)\n",
      "[[[0.         0.02702666 0.05540033 0.12262192]]]\n",
      "(1000, 1)\n",
      "(1000, 1, 1)\n",
      "[[[2.         0.22607094 0.52204664 0.22185883]]]\n",
      "(1000, 1)\n",
      "(1000, 1, 1)\n",
      "[[[3.         0.02607013 0.36657125 0.93897095]]]\n",
      "(1000, 1)\n",
      "(1000, 1, 1)\n",
      "[[[4.         0.01595916 0.07996818 0.95156914]]]\n",
      "(1000, 1)\n",
      "(1000, 1, 1)\n",
      "[[[5.         0.29647285 0.94762165 0.96373207]]]\n",
      "(1000, 1)\n",
      "(1000, 1, 1)\n",
      "[[[7.         0.99313661 0.04212708 0.65195584]]]\n",
      "(1000, 1)\n",
      "(1000, 1, 1)\n",
      "[[[9.         0.19487384 0.8080788  0.03801741]]]\n",
      "(1000, 1)\n",
      "(1000, 1, 1)\n",
      "[[[1.00000000e+01 2.39853304e-04 2.20102597e-02 8.07131956e-01]]]\n",
      "(1000, 1)\n",
      "(1000, 1, 1)\n",
      "[[[12.          0.04319949  0.06364263  0.49312303]]]\n",
      "(1000, 1)\n",
      "(1000, 1, 1)\n",
      "[[[15.          0.97278667  0.09216431  0.17801499]]]\n",
      "(1000, 1)\n",
      "(1000, 1, 1)\n",
      "[[[17.          0.08269484  0.05482749  0.02196746]]]\n",
      "       0         1         2         3\n",
      "0    0.0  0.027027  0.055400  0.122622\n",
      "1    2.0  0.226071  0.522047  0.221859\n",
      "2    3.0  0.026070  0.366571  0.938971\n",
      "3    4.0  0.015959  0.079968  0.951569\n",
      "4    5.0  0.296473  0.947622  0.963732\n",
      "5    7.0  0.993137  0.042127  0.651956\n",
      "6    9.0  0.194874  0.808079  0.038017\n",
      "7   10.0  0.000240  0.022010  0.807132\n",
      "8   12.0  0.043199  0.063643  0.493123\n",
      "9   15.0  0.972787  0.092164  0.178015\n",
      "10  17.0  0.082695  0.054827  0.021967\n"
     ]
    }
   ],
   "source": [
    "z_next, Categorical_dist_param = ask_tell(data, result, ModelBackground_3['data_param'], \n",
    "                                          'RBF', 'thompson_sampling', batch_size, \n",
    "                                          Wc_list, ModelBackground_3['gamma_list'])"
   ]
  },
  {
   "cell_type": "code",
   "execution_count": 10,
   "id": "04fdaa98",
   "metadata": {},
   "outputs": [
    {
     "data": {
      "text/plain": [
       "<matplotlib.collections.PathCollection at 0x7f8b8b3f18d0>"
      ]
     },
     "execution_count": 10,
     "metadata": {},
     "output_type": "execute_result"
    },
    {
     "data": {
      "image/png": "[encoded data removed]",
      "text/plain": [
       "<Figure size 432x288 with 1 Axes>"
      ]
     },
     "metadata": {
      "needs_background": "light"
     },
     "output_type": "display_data"
    }
   ],
   "source": [
    "plt.scatter(data[:,0], data[:,1])\n",
    "plt.scatter(z_next[:,0],z_next[:,1])\n"
   ]
  },
  {
   "cell_type": "code",
   "execution_count": 11,
   "id": "41cdc293",
   "metadata": {},
   "outputs": [
    {
     "data": {
      "text/plain": [
       "<matplotlib.collections.PathCollection at 0x7f8bc934d150>"
      ]
     },
     "execution_count": 11,
     "metadata": {},
     "output_type": "execute_result"
    },
    {
     "data": {
      "image/png": "[encoded data removed]",
      "text/plain": [
       "<Figure size 432x288 with 1 Axes>"
      ]
     },
     "metadata": {
      "needs_background": "light"
     },
     "output_type": "display_data"
    }
   ],
   "source": [
    "plt.scatter(data[:,2], data[:,3])\n",
    "plt.scatter(z_next[:,2],z_next[:,3])\n"
   ]
  },
  {
   "cell_type": "code",
   "execution_count": 12,
   "id": "39fdb30b",
   "metadata": {},
   "outputs": [],
   "source": [
    "pd.DataFrame(z_next).to_csv('./Round4/4_ExperimentalDesign.csv')\n",
    "\n"
   ]
  },
  {
   "cell_type": "markdown",
   "id": "151d0825",
   "metadata": {},
   "source": [
    "### 4. Store the Model background parameters"
   ]
  },
  {
   "cell_type": "code",
   "execution_count": 13,
   "id": "9aa06101",
   "metadata": {},
   "outputs": [],
   "source": [
    "ModelBackground_4 = {}\n",
    "ModelBackground_4 = {'gamma_list': ModelBackground_3['gamma_list'],  'budget': ModelBackground_3['budget'],\n",
    "                 'bestUpperBoundEstimate': ModelBackground_3['bestUpperBoundEstimate'], \n",
    "                     'Wc_list_init': ModelBackground_3['Wc_list_init'],\n",
    "                   'Wc_list': Wc_list, 'data_param': ModelBackground_3['data_param'], \n",
    "                   'Categorical_dist_param': Categorical_dist_param}\n",
    "\n",
    "import pickle\n",
    "with open('./Round4/4_ModelBackground.pkl', 'wb') as output:\n",
    "    # Pickle dictionary using protocol 0.\n",
    "    pickle.dump(ModelBackground_4, output)"
   ]
  },
  {
   "cell_type": "markdown",
   "id": "fd9e3518",
   "metadata": {},
   "source": [
    "### 5. Conversion to actual experimental execution"
   ]
  },
  {
   "cell_type": "code",
   "execution_count": 14,
   "id": "0d47d538",
   "metadata": {},
   "outputs": [],
   "source": [
    "Stock_solid = pd.read_excel(carbon_source_fiepath +'CarbonSourceInfo.xlsx', 'Stocks_solid')\n",
    "Stock_liquid = pd.read_excel(carbon_source_fiepath + 'CarbonSourceInfo.xlsx', 'Stocks_liquid')\n",
    "\n",
    "Carbon_Names = Stock_solid['Carbon Source'].values.tolist()\n",
    "Carbon_Names.append(Stock_liquid['Carbon Source'][1])\n",
    "Carbon_Names.append(Stock_liquid['Carbon Source'][2])\n",
    "\n",
    "Carbon_Ub = [50]*17 #[g/L]\n",
    "Carbon_Ub.append(10) # Glycerol [mL/L]\n",
    "Carbon_Ub.append(50) #Ethanol [mL/L]\n",
    "\n",
    "OG_Gly_Ub = 100 #[mL/L]\n",
    "Met_Ub = 100 #[mL/L]\n",
    "\n",
    "Stock_Conc = Stock_solid['g/mL'].values.tolist()\n",
    "Stock_Conc.append(Stock_liquid['mL/mL'][1].tolist())\n",
    "Stock_Conc.append(Stock_liquid['mL/mL'][2].tolist())\n",
    "\n",
    "OG_Stock_Conc = Stock_liquid['mL/mL'][0].tolist()\n",
    "\n"
   ]
  },
  {
   "cell_type": "code",
   "execution_count": 15,
   "id": "8d89cfe6",
   "metadata": {},
   "outputs": [],
   "source": [
    "Selected_Carbon = []\n",
    "Carbon_mL = []\n",
    "OG_Gly_mL = []\n",
    "Met_mL = []\n",
    "\n",
    "\n",
    "for i in range(batch_size):\n",
    "    Selected_Carbon.append(Carbon_Names[int(z_next[i,0])])\n",
    "    temp_factor = Carbon_Ub[int(z_next[i,0])]/ Stock_Conc[int(z_next[i,0])]\n",
    "    temp = z_next[i,1] * temp_factor * 3\n",
    "    Carbon_mL.append(temp)\n",
    "    OG_Gly_mL.append(z_next[i,2] * OG_Gly_Ub * 3/OG_Stock_Conc)\n",
    "    Met_mL.append(z_next[i,3] * Met_Ub * 3)\n",
    "    \n",
    "\n",
    "\n",
    "Experiment_4_3mL = {'Carbon_Type': Selected_Carbon,\n",
    "               'Conc_Carbon [uL]': Carbon_mL,\n",
    "               'Gly_OG [uL]': OG_Gly_mL,\n",
    "               'Met_Prod [uL]': Met_mL}\n",
    "\n",
    "pd.DataFrame(Experiment_4_3mL).to_csv('./Round4/4_ExperimentPlan_mLValue_3mL.csv')"
   ]
  },
  {
   "cell_type": "code",
   "execution_count": null,
   "id": "6cec43e6",
   "metadata": {},
   "outputs": [],
   "source": []
  },
  {
   "cell_type": "code",
   "execution_count": null,
   "id": "a05eaab4",
   "metadata": {},
   "outputs": [],
   "source": []
  },
  {
   "cell_type": "code",
   "execution_count": null,
   "id": "8bb4839d",
   "metadata": {},
   "outputs": [],
   "source": []
  }
 ],
 "metadata": {
  "kernelspec": {
   "display_name": "Python 3 (ipykernel)",
   "language": "python",
   "name": "python3"
  },
  "language_info": {
   "codemirror_mode": {
    "name": "ipython",
    "version": 3
   },
   "file_extension": ".py",
   "mimetype": "text/x-python",
   "name": "python",
   "nbconvert_exporter": "python",
   "pygments_lexer": "ipython3",
   "version": "3.7.13"
  }
 },
 "nbformat": 4,
 "nbformat_minor": 5
}
