{
 "cells": [
  {
   "cell_type": "code",
   "execution_count": 1,
   "id": "c3415942",
   "metadata": {},
   "outputs": [],
   "source": [
    "import math\n",
    "import collections\n",
    "import pickle\n",
    "import random\n",
    "import scipy\n",
    "import json\n",
    "\n",
    "from matplotlib import pyplot as plt\n",
    "\n",
    "import GPy\n",
    "import numpy as np\n",
    "import pandas as pd\n",
    "from tqdm import tqdm\n",
    "\n",
    "# from Kernel import MixtureViaSumAndProduct, CategoryOverlapKernel\n",
    "from InitialData_Gen import initialize\n",
    "from AcquisitionFunctions import EI, PI, UCB, AcquisitionOnSubspace\n",
    "# from SamplingCategorical import compute_prob_dist_and_draw_hts\n",
    "from UpdateCategoricalWeight import compute_reward_for_all_cat_variable, update_weights_for_all_cat_var\n",
    "from optimization import sample_then_minimize\n",
    "\n",
    "from AskTell import ask_tell\n",
    "\n",
    "from scipy.optimize import minimize\n",
    "\n",
    "from typing import Union, Tuple\n",
    "from paramz.transformations import Logexp"
   ]
  },
  {
   "cell_type": "markdown",
   "id": "2e6c1563",
   "metadata": {},
   "source": [
    "1. C - List of number of categroies corresponding to each categorical variable\n",
    "2. Nc - Number of categorical variables\n",
    "3. Nx - Continuous variables\n",
    "4. h - categorical\n",
    "5. x - continuous\n",
    "6. z - [h, x]\n",
    "\n",
    "7. nDim - Nc + Nx\n",
    "8. bounds - Lower and Upper bounds of both Catergorical variables and continuous variables\n",
    "\n",
    "9. n_iter - Number of iterations to run the algorithm\n",
    "10. initN - Number of intial data points\n",
    "11. batch_size (b) - Number of experiments to be generated in each iteration\n",
    "\n",
    "12. acq_type - Acquisition Type ('EI', 'LCB', 'ThompsonSampling')"
   ]
  },
  {
   "cell_type": "markdown",
   "id": "1ab7e7ce",
   "metadata": {},
   "source": [
    "### 1. Load Model background from the pickle file"
   ]
  },
  {
   "cell_type": "code",
   "execution_count": 2,
   "id": "4693cba8",
   "metadata": {},
   "outputs": [],
   "source": [
    "import sys\n",
    "myString = sys.path[0]\n",
    "split_list = myString.split(\"/\")\n",
    "root = ''\n",
    "for l in split_list[1:-2]:\n",
    "    root = root +'/'+ l\n",
    "    \n",
    "main_file_path = root + '/HSA/'\n",
    "carbon_source_fiepath = root + '/'"
   ]
  },
  {
   "cell_type": "code",
   "execution_count": 3,
   "id": "7aef051c",
   "metadata": {},
   "outputs": [],
   "source": [
    "def distr(weights, gamma=0.0):\n",
    "    theSum = float(sum(weights))\n",
    "    return tuple((1.0 - gamma) * (w / theSum) + (gamma / len(weights)) for w in weights)"
   ]
  },
  {
   "cell_type": "markdown",
   "id": "45bfd81f",
   "metadata": {},
   "source": [
    "### 2. Read Experimental condition and results "
   ]
  },
  {
   "cell_type": "code",
   "execution_count": 4,
   "id": "bec0ebab",
   "metadata": {},
   "outputs": [
    {
     "name": "stdout",
     "output_type": "stream",
     "text": [
      "(23, 4)\n",
      "(23, 4)\n",
      "(23, 4)\n",
      "(23, 4)\n"
     ]
    }
   ],
   "source": [
    "Wc_list = {}\n",
    "probabilityDistribution = {}\n",
    "ht_list_rewards = {}\n",
    "batch_size = 11\n",
    "\n",
    "Wc_list[0] = [np.ones(19)]\n",
    "\n",
    "for All_rounds in range(1, 5):\n",
    "    background_file = main_file_path +  \"Codes/Round\"+str(All_rounds)+ \"/\" + str(All_rounds)+\"_ModelBackground.pkl\"\n",
    "    with open(background_file, \"rb\") as fp:\n",
    "        ModelBackground_3 = pickle.load(fp)\n",
    "\n",
    "    probabilityDistribution[All_rounds-1] = [distr(Wc_list[All_rounds-1][0], ModelBackground_3['gamma_list'][0])]\n",
    "    \n",
    "    N_round = All_rounds+1\n",
    "    Design = {}\n",
    "    Result_df = {}\n",
    "    for nr in range(N_round):\n",
    "        file_name = main_file_path + 'Codes/Round' + str(nr) + '/Reconstructed_Round' + str(nr) + '.csv'\n",
    "        Design[nr] = pd.read_csv(file_name)\n",
    "        Column_Names = pd.read_csv(file_name).columns\n",
    "\n",
    "        file_name_res = main_file_path + 'Exp/Round' + str(nr) + '/Round' + str(nr) + '_Result_Summary_final.csv'\n",
    "        Result_df[nr] = pd.read_csv(file_name_res)\n",
    "        if nr == 0:\n",
    "            data_init = Design[nr].iloc[:,1:].values\n",
    "            result_init = Result_df[nr]['Specific Productivity'].iloc[:-1,].values.reshape(-1,1)\n",
    "            data_modified = []\n",
    "            result_modified = []\n",
    "            for nc in range(data_init.shape[0]):\n",
    "                if data_init[nc,1] == 0:\n",
    "                    temp = np.concatenate((np.arange(0,19).reshape(-1,1), \n",
    "                                           np.zeros((19,1)), data_init[nc,2] * np.ones((19,1)), data_init[nc,3]*np.ones((19,1))), axis = 1)\n",
    "                    temp_res = result_init[nc]*np.ones((19,1)) \n",
    "                    data_modified + temp.tolist()\n",
    "                    result_modified + temp_res.tolist()                   \n",
    "                else:\n",
    "                    data_modified.append(data_init[nc,:])\n",
    "                    result_modified.append(result_init[nc]) \n",
    "\n",
    "            data_modified_np = np.array(data_modified)\n",
    "           \n",
    "            print(data_modified_np.shape)\n",
    "            des_bench = np.concatenate((np.arange(0,19).reshape(-1,1), np.zeros((19,1)), 0.4 * np.ones((19,1)), 0.15*np.ones((19,1))), axis = 1)\n",
    "            data = np.concatenate((data_modified, des_bench), axis = 0)\n",
    "\n",
    "            result = np.concatenate((np.array(result_modified), Result_df[nr]['Specific Productivity'].iloc[-1,]*np.ones((19,1))), axis = 0)\n",
    "\n",
    "        else:\n",
    "            data_init = Design[nr].iloc[:,1:].values\n",
    "\n",
    "            result_init = Result_df[nr]['Specific Productivity'].iloc[:-1,].values.reshape(-1,1)\n",
    "            data_modified = []\n",
    "            result_modified = []\n",
    "            for nc in range(data_init.shape[0]):\n",
    "                if data_init[nc,1] == 0:\n",
    "                    temp = np.concatenate((np.arange(0,19).reshape(-1,1), np.zeros((19,1)), \n",
    "                                    data_init[nc,2] * np.ones((19,1)), data_init[nc,3]*np.ones((19,1))), axis = 1)\n",
    "                    data_modified + temp.tolist()\n",
    "\n",
    "                    temp_res = result_init[nc]*np.ones((19,1)) \n",
    "                    result_modified + temp_res.tolist()\n",
    "                else:\n",
    "                    data_modified.append(data_init[nc,:])\n",
    "                    result_modified.append(result_init[nc]) \n",
    "\n",
    "            data_modified_np = np.array(data_modified)\n",
    "\n",
    "            des_bench = np.concatenate((np.arange(0,19).reshape(-1,1), np.zeros((19,1)), 0.4 * np.ones((19,1)), 0.15*np.ones((19,1))), axis = 1)                               \n",
    "            data = np.concatenate((data, data_modified_np, des_bench), axis = 0)\n",
    "\n",
    "            result_mod_array = np.array(result_modified)\n",
    "            result = np.concatenate((result,result_mod_array,Result_df[nr]['Specific Productivity'].iloc[-1,]*np.ones((19,1))), \n",
    "                                     axis = 0)\n",
    "            \n",
    "        mu_y = np.mean(result, 0)\n",
    "        std_y = np.std(result, 0)\n",
    "\n",
    "        result_norm = np.divide((result - mu_y), std_y)\n",
    "        \n",
    "        C_list = ModelBackground_3['data_param']['C']\n",
    "\n",
    "        ht_next_list_array = np.atleast_2d(ModelBackground_3['Categorical_dist_param']['ht_batch_list'])\n",
    "        ht_list_rewards[All_rounds-1] = compute_reward_for_all_cat_variable(ht_next_list_array, C_list,\n",
    "                                                      data,result_norm, batch_size) #np.divide(result, np.max(result))\n",
    "        Wc_out = update_weights_for_all_cat_var(C_list, \n",
    "                ht_list_rewards[All_rounds-1], ModelBackground_3['Categorical_dist_param']['ht_list'],\n",
    "                Wc_list[All_rounds-1], ModelBackground_3['gamma_list'],\n",
    "                probabilityDistribution[All_rounds-1],\n",
    "                batch_size, []) #ModelBackground_3['Categorical_dist_param']['S0']\n",
    "        Wc_list[All_rounds] = Wc_out\n",
    "        \n",
    "        probabilityDistribution[All_rounds] = [distr(Wc_list[All_rounds][0],  \n",
    "                                                       ModelBackground_3['gamma_list'][0])]"
   ]
  },
  {
   "cell_type": "code",
   "execution_count": 5,
   "id": "6d5f1cb6",
   "metadata": {},
   "outputs": [],
   "source": [
    "background_file = main_file_path +  \"Codes/Round4/4_ModelBackground.pkl\"\n",
    "with open(background_file, \"rb\") as fp:\n",
    "    ModelBackground_3 = pickle.load(fp)\n",
    "    \n",
    "ModelBackground_3['data_param']['Meas_Noise'] = 0.034\n",
    "ModelBackground_3['data_param']['trade_off'] = 3 * (1-0.54)/(2.2 - 0.54)"
   ]
  },
  {
   "cell_type": "code",
   "execution_count": 6,
   "id": "29c5cb4d",
   "metadata": {},
   "outputs": [
    {
     "name": "stdout",
     "output_type": "stream",
     "text": [
      "(23, 4)\n",
      "1\n",
      "2\n",
      "3\n",
      "4\n"
     ]
    }
   ],
   "source": [
    "N_round = 5\n",
    "Design = {}\n",
    "Result_df = {}\n",
    "for nr in range(N_round):\n",
    "    file_name = main_file_path + 'Codes/Round' + str(nr) + '/Reconstructed_Round' + str(nr) + '.csv'\n",
    "    Design[nr] = pd.read_csv(file_name)\n",
    "    Column_Names = pd.read_csv(file_name).columns\n",
    "   \n",
    "    file_name_res = main_file_path + 'Exp/Round' + str(nr) + '/Round' + str(nr) + '_Result_Summary_final.csv'\n",
    "    Result_df[nr] = pd.read_csv(file_name_res)\n",
    "    if nr == 0:\n",
    "        data_init = Design[nr].iloc[:,1:].values\n",
    "        result_init = Result_df[nr]['Specific Productivity'].iloc[:-1,].values.reshape(-1,1)\n",
    "        data_modified = []\n",
    "        result_modified = []\n",
    "        for nc in range(data_init.shape[0]):\n",
    "            if data_init[nc,1] == 0:\n",
    "                temp = np.concatenate((np.arange(0,19).reshape(-1,1), \n",
    "                                       np.zeros((19,1)), data_init[nc,2] * np.ones((19,1)), data_init[nc,3]*np.ones((19,1))), axis = 1)\n",
    "                temp_res = result_init[nc]*np.ones((19,1)) \n",
    "                data_modified + temp.tolist()\n",
    "                result_modified + temp_res.tolist()                   \n",
    "            else:\n",
    "                data_modified.append(data_init[nc,:])\n",
    "                result_modified.append(result_init[nc]) \n",
    "                \n",
    "        data_modified_np = np.array(data_modified)\n",
    "        print(data_modified_np.shape)\n",
    "        des_bench = np.concatenate((np.arange(0,19).reshape(-1,1), np.zeros((19,1)), 0.4 * np.ones((19,1)), 0.15*np.ones((19,1))), axis = 1)\n",
    "        data = np.concatenate((data_modified, des_bench), axis = 0)\n",
    "        \n",
    "        result = np.concatenate((np.array(result_modified), Result_df[nr]['Specific Productivity'].iloc[-1,]*np.ones((19,1))), axis = 0)\n",
    "                                        \n",
    "    else:\n",
    "        data_init = Design[nr].iloc[:,1:].values\n",
    "        \n",
    "        result_init = Result_df[nr]['Specific Productivity'].iloc[:-1,].values.reshape(-1,1)\n",
    "        data_modified = []\n",
    "        result_modified = []\n",
    "        for nc in range(data_init.shape[0]):\n",
    "            if data_init[nc,1] == 0:\n",
    "                temp = np.concatenate((np.arange(0,19).reshape(-1,1), np.zeros((19,1)), \n",
    "                                data_init[nc,2] * np.ones((19,1)), data_init[nc,3]*np.ones((19,1))), axis = 1)\n",
    "                data_modified + temp.tolist()\n",
    "                \n",
    "                temp_res = result_init[nc]*np.ones((19,1)) \n",
    "                result_modified + temp_res.tolist()\n",
    "            else:\n",
    "                data_modified.append(data_init[nc,:])\n",
    "                result_modified.append(result_init[nc]) \n",
    "\n",
    "        data_modified_np = np.array(data_modified)\n",
    "        \n",
    "        des_bench = np.concatenate((np.arange(0,19).reshape(-1,1), np.zeros((19,1)), 0.4 * np.ones((19,1)), 0.15*np.ones((19,1))), axis = 1)                               \n",
    "        print(nr)\n",
    "        data = np.concatenate((data, data_modified_np, des_bench), axis = 0)\n",
    "        \n",
    "        result_mod_array = np.array(result_modified)\n",
    "        result = np.concatenate((result,result_mod_array,Result_df[nr]['Specific Productivity'].iloc[-1,]*np.ones((19,1))), \n",
    "                                 axis = 0)\n",
    "    \n",
    "   "
   ]
  },
  {
   "cell_type": "markdown",
   "id": "344d09fe",
   "metadata": {},
   "source": [
    "### 3. Update rewards and weights"
   ]
  },
  {
   "cell_type": "code",
   "execution_count": 7,
   "id": "163cb67b",
   "metadata": {},
   "outputs": [],
   "source": [
    "batch_size = 11\n",
    "random.seed(37)\n",
    "\n",
    "C_list = ModelBackground_3['data_param']['C']\n",
    "\n",
    "ht_next_list_array = np.atleast_2d(ModelBackground_3['Categorical_dist_param']['ht_batch_list'])\n",
    "\n",
    "mu_y = np.mean(result, 0)\n",
    "std_y = np.std(result, 0)\n",
    "\n",
    "mu_x = np.mean(data, 0)\n",
    "std_x = np.std(data, 0)\n",
    "\n",
    "data_norm = (data - mu_x)/std_x\n",
    "data_norm[:,0] = data[:,0]\n",
    "\n",
    "result_norm = (result - mu_y)/std_y\n",
    "\n",
    "ht_list_rewards = compute_reward_for_all_cat_variable(ht_next_list_array, C_list,\n",
    "                                                      data,result_norm, batch_size) # np.divide(result,np.max(result))\n",
    "\n",
    "Wc_list[5] = update_weights_for_all_cat_var(C_list, \n",
    "                ht_list_rewards, ModelBackground_3['Categorical_dist_param']['ht_list'],\n",
    "                Wc_list[4], ModelBackground_3['gamma_list'],\n",
    "                probabilityDistribution[4],\n",
    "                batch_size, [])#ModelBackground_3['Categorical_dist_param']['S0']"
   ]
  },
  {
   "cell_type": "code",
   "execution_count": 8,
   "id": "a1bc9171",
   "metadata": {},
   "outputs": [
    {
     "name": "stdout",
     "output_type": "stream",
     "text": [
      "check2\n"
     ]
    }
   ],
   "source": [
    "z_next_org, Categorical_dist_param, gp = ask_tell(data, result, ModelBackground_3['data_param'], \n",
    "                                          'RBF', 'constant_liar', batch_size, \n",
    "                                          Wc_list[4], ModelBackground_3['gamma_list']) #constant_liar, thompson_sampling"
   ]
  },
  {
   "cell_type": "code",
   "execution_count": 10,
   "id": "39fdb30b",
   "metadata": {},
   "outputs": [],
   "source": [
    "counter = 4\n",
    "z_next = z_next_org\n",
    "z_next[:,1:] = np.round(z_next[:,1:],2)\n",
    "pd.DataFrame(z_next).to_csv('./Round5/5_ExperimentalDesign_' +str(counter)+'.csv') #"
   ]
  },
  {
   "cell_type": "code",
   "execution_count": 11,
   "id": "f366eb09",
   "metadata": {},
   "outputs": [
    {
     "data": {
      "text/plain": [
       "array([[1.2e+01, 9.9e-01, 1.7e-01, 9.9e-01],\n",
       "       [1.7e+01, 1.0e-02, 2.8e-01, 6.0e-02],\n",
       "       [0.0e+00, 4.8e-01, 4.2e-01, 0.0e+00],\n",
       "       [8.0e+00, 1.0e+00, 0.0e+00, 9.6e-01],\n",
       "       [1.8e+01, 0.0e+00, 2.2e-01, 0.0e+00],\n",
       "       [1.1e+01, 9.6e-01, 6.0e-02, 9.1e-01],\n",
       "       [1.7e+01, 1.0e-02, 3.3e-01, 0.0e+00],\n",
       "       [8.0e+00, 1.0e-02, 1.0e-02, 1.0e-02],\n",
       "       [1.0e+00, 4.0e-02, 5.7e-01, 1.5e-01],\n",
       "       [1.0e+01, 1.0e+00, 1.0e-02, 9.2e-01],\n",
       "       [1.2e+01, 1.0e-02, 2.0e-02, 2.0e-01]])"
      ]
     },
     "execution_count": 11,
     "metadata": {},
     "output_type": "execute_result"
    }
   ],
   "source": [
    "z_next_org"
   ]
  },
  {
   "cell_type": "markdown",
   "id": "151d0825",
   "metadata": {},
   "source": [
    "### 4. Store the Model background parameters"
   ]
  },
  {
   "cell_type": "code",
   "execution_count": 12,
   "id": "9aa06101",
   "metadata": {},
   "outputs": [],
   "source": [
    "ModelBackground_4 = {}\n",
    "ModelBackground_4 = {'gamma_list': ModelBackground_3['gamma_list'],  'budget': ModelBackground_3['budget'],\n",
    "                 'bestUpperBoundEstimate': ModelBackground_3['bestUpperBoundEstimate'], \n",
    "                     'Wc_list_init': ModelBackground_3['Wc_list_init'],\n",
    "                   'Wc_list': Wc_list, 'data_param': ModelBackground_3['data_param'], \n",
    "                   'Categorical_dist_param': Categorical_dist_param}\n",
    "\n",
    "import pickle\n",
    "with open('./Round5/5_ModelBackground.pkl', 'wb') as output:\n",
    "    # Pickle dictionary using protocol 0.\n",
    "    pickle.dump(ModelBackground_4, output)"
   ]
  },
  {
   "cell_type": "markdown",
   "id": "fd9e3518",
   "metadata": {},
   "source": [
    "### 5. Conversion to actual experimental execution"
   ]
  },
  {
   "cell_type": "code",
   "execution_count": 13,
   "id": "0d47d538",
   "metadata": {},
   "outputs": [],
   "source": [
    "Stock_solid = pd.read_excel(carbon_source_fiepath +'CarbonSourceInfo.xlsx', 'Stocks_solid')\n",
    "Stock_liquid = pd.read_excel(carbon_source_fiepath + 'CarbonSourceInfo.xlsx', 'Stocks_liquid')\n",
    "\n",
    "Carbon_Names = Stock_solid['Carbon Source'].values.tolist()\n",
    "Carbon_Names.append(Stock_liquid['Carbon Source'][1])\n",
    "Carbon_Names.append(Stock_liquid['Carbon Source'][2])\n",
    "\n",
    "Carbon_Ub = [50]*17 #[g/L]\n",
    "Carbon_Ub.append(10) # Glycerol [mL/L]\n",
    "Carbon_Ub.append(50) #Ethanol [mL/L]\n",
    "\n",
    "OG_Gly_Ub = 100 #[mL/L]\n",
    "Met_Ub = 100 #[mL/L]\n",
    "\n",
    "Stock_Conc = Stock_solid['g/mL'].values.tolist()\n",
    "Stock_Conc.append(Stock_liquid['mL/mL'][1].tolist())\n",
    "Stock_Conc.append(Stock_liquid['mL/mL'][2].tolist())\n",
    "\n",
    "OG_Stock_Conc = Stock_liquid['mL/mL'][0].tolist()\n",
    "\n"
   ]
  },
  {
   "cell_type": "code",
   "execution_count": 14,
   "id": "8d89cfe6",
   "metadata": {},
   "outputs": [],
   "source": [
    "Selected_Carbon = []\n",
    "Carbon_mL = []\n",
    "OG_Gly_mL = []\n",
    "Met_mL = []\n",
    "\n",
    "\n",
    "for i in range(batch_size):\n",
    "    Selected_Carbon.append(Carbon_Names[int(z_next[i,0])])\n",
    "    temp_factor = Carbon_Ub[int(z_next[i,0])]/ Stock_Conc[int(z_next[i,0])]\n",
    "    temp = z_next[i,1] * temp_factor * 3\n",
    "    Carbon_mL.append(temp)\n",
    "    OG_Gly_mL.append(z_next[i,2] * OG_Gly_Ub * 3/OG_Stock_Conc)\n",
    "    Met_mL.append(z_next[i,3] * Met_Ub * 3)\n",
    "    \n",
    "\n",
    "\n",
    "Experiment_4_3mL = {'Carbon_Type': Selected_Carbon,\n",
    "               'Conc_Carbon [uL]': Carbon_mL,\n",
    "               'Gly_OG [uL]': OG_Gly_mL,\n",
    "               'Met_Prod [uL]': Met_mL}\n",
    "\n",
    "pd.DataFrame(Experiment_4_3mL).to_csv('./Round5/5_ExperimentPlan_mLValue_3mL'+str(counter)+'.csv') #"
   ]
  },
  {
   "cell_type": "code",
   "execution_count": 15,
   "id": "6cec43e6",
   "metadata": {},
   "outputs": [
    {
     "data": {
      "text/plain": [
       "<matplotlib.collections.PathCollection at 0x7f8259010350>"
      ]
     },
     "execution_count": 15,
     "metadata": {},
     "output_type": "execute_result"
    },
    {
     "data": {
      "image/png": "[encoded data removed]",
      "text/plain": [
       "<Figure size 432x288 with 1 Axes>"
      ]
     },
     "metadata": {
      "needs_background": "light"
     },
     "output_type": "display_data"
    }
   ],
   "source": [
    "plt.scatter(data[:,0], data[:,1])\n",
    "plt.scatter(z_next[:,0],z_next[:,1])\n"
   ]
  },
  {
   "cell_type": "code",
   "execution_count": 16,
   "id": "a05eaab4",
   "metadata": {},
   "outputs": [
    {
     "data": {
      "text/plain": [
       "<matplotlib.collections.PathCollection at 0x7f82397655d0>"
      ]
     },
     "execution_count": 16,
     "metadata": {},
     "output_type": "execute_result"
    },
    {
     "data": {
      "image/png": "[encoded data removed]",
      "text/plain": [
       "<Figure size 432x288 with 1 Axes>"
      ]
     },
     "metadata": {
      "needs_background": "light"
     },
     "output_type": "display_data"
    }
   ],
   "source": [
    "plt.scatter(data[:,2], data[:,3])\n",
    "plt.scatter(z_next[:,2],z_next[:,3])\n"
   ]
  },
  {
   "cell_type": "code",
   "execution_count": 17,
   "id": "8bb4839d",
   "metadata": {},
   "outputs": [],
   "source": [
    "pd.DataFrame(Experiment_4_3mL).to_csv('./Round5/Actual_Round5_3mL.csv')"
   ]
  },
  {
   "cell_type": "code",
   "execution_count": null,
   "id": "e68d6ba2",
   "metadata": {},
   "outputs": [],
   "source": [
    "Carbon_Names[10]"
   ]
  },
  {
   "cell_type": "code",
   "execution_count": null,
   "id": "c10bf189",
   "metadata": {},
   "outputs": [],
   "source": []
  }
 ],
 "metadata": {
  "kernelspec": {
   "display_name": "Python 3 (ipykernel)",
   "language": "python",
   "name": "python3"
  },
  "language_info": {
   "codemirror_mode": {
    "name": "ipython",
    "version": 3
   },
   "file_extension": ".py",
   "mimetype": "text/x-python",
   "name": "python",
   "nbconvert_exporter": "python",
   "pygments_lexer": "ipython3",
   "version": "3.7.13"
  }
 },
 "nbformat": 4,
 "nbformat_minor": 5
}
