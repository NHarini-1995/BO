{
 "cells": [
  {
   "cell_type": "code",
   "execution_count": 1,
   "id": "c3415942",
   "metadata": {},
   "outputs": [],
   "source": [
    "import math\n",
    "import collections\n",
    "import pickle\n",
    "import random\n",
    "import scipy\n",
    "import json\n",
    "\n",
    "from matplotlib import pyplot as plt\n",
    "\n",
    "import GPy\n",
    "import numpy as np\n",
    "import pandas as pd\n",
    "from tqdm import tqdm\n"
   ]
  },
  {
   "cell_type": "markdown",
   "id": "459b37be",
   "metadata": {},
   "source": [
    "### 1. Perform conversions from volumes and carbon source name to design space"
   ]
  },
  {
   "cell_type": "code",
   "execution_count": 2,
   "id": "a6a5b7df",
   "metadata": {},
   "outputs": [],
   "source": [
    "Stock_solid = pd.read_excel('../CarbonSourceInfo.xlsx', 'Stocks_solid')\n",
    "Stock_liquid = pd.read_excel('../CarbonSourceInfo.xlsx', 'Stocks_liquid')"
   ]
  },
  {
   "cell_type": "markdown",
   "id": "6410c3fa",
   "metadata": {},
   "source": [
    "CARBON NAME"
   ]
  },
  {
   "cell_type": "code",
   "execution_count": 3,
   "id": "2e7cc503",
   "metadata": {},
   "outputs": [],
   "source": [
    "Carbon_Names = Stock_solid['Carbon Source'].values.tolist()\n",
    "Carbon_Names.append(Stock_liquid['Carbon Source'][1])\n",
    "Carbon_Names.append(Stock_liquid['Carbon Source'][2])"
   ]
  },
  {
   "cell_type": "markdown",
   "id": "49f6f58c",
   "metadata": {},
   "source": [
    "UPPER BOUNDS"
   ]
  },
  {
   "cell_type": "code",
   "execution_count": 4,
   "id": "2fdeb638",
   "metadata": {},
   "outputs": [],
   "source": [
    "Carbon_Ub = [50]*17 #[g/L]\n",
    "Carbon_Ub.append(10) # Glycerol [mL/L]\n",
    "Carbon_Ub.append(50) #Ethanol [mL/L]\n",
    "\n",
    "OG_Gly_Ub = 100 #[mL/L]\n",
    "Met_Ub = 100 #[mL/L]"
   ]
  },
  {
   "cell_type": "markdown",
   "id": "daef81d1",
   "metadata": {},
   "source": [
    "STOCK CONCENTRATIONS"
   ]
  },
  {
   "cell_type": "code",
   "execution_count": 5,
   "id": "c6060bcf",
   "metadata": {},
   "outputs": [],
   "source": [
    "Stock_Conc = Stock_solid['g/mL'].values.tolist()\n",
    "Stock_Conc.append(Stock_liquid['mL/mL'][1].tolist())\n",
    "Stock_Conc.append(Stock_liquid['mL/mL'][2].tolist())\n",
    "\n",
    "OG_Stock_Conc = Stock_liquid['mL/mL'][0].tolist()"
   ]
  },
  {
   "cell_type": "code",
   "execution_count": 6,
   "id": "c0f27274",
   "metadata": {},
   "outputs": [
    {
     "name": "stdout",
     "output_type": "stream",
     "text": [
      "23\n"
     ]
    }
   ],
   "source": [
    "Exp_Used = pd.read_csv('Actual_Round0_3mL.csv')\n",
    "initN = Exp_Used.shape[0]\n",
    "print(initN)\n",
    "Exp_Used_CT = Exp_Used[\"Carbon_Type\"].values\n",
    "Exp_Used_CC = Exp_Used[\"Conc_Carbon [uL]\"].values\n",
    "Exp_Used_Gly = Exp_Used[\"Gly_OG [uL]\"].values\n",
    "Exp_Used_Met = Exp_Used[\"Met_Prod [uL]\"].values"
   ]
  },
  {
   "cell_type": "code",
   "execution_count": 7,
   "id": "86afd363",
   "metadata": {},
   "outputs": [],
   "source": [
    "Des_recon_CT = []\n",
    "Des_recon_CC = []\n",
    "Des_recon_Gly = []\n",
    "Des_recon_Met = []\n",
    "\n",
    "for i in range(initN):\n",
    "    index = Carbon_Names.index(Exp_Used_CT[i])\n",
    "    Des_recon_CT.append(index)\n",
    "    temp_factor = Carbon_Ub[index]/ Stock_Conc[index]\n",
    "    cc = Exp_Used_CC[i]/ (temp_factor * 3)\n",
    "    Des_recon_CC.append(cc)\n",
    "    gly = Exp_Used_Gly[i] * OG_Stock_Conc/(OG_Gly_Ub * 3)\n",
    "    Des_recon_Gly.append(gly)\n",
    "    met = Exp_Used_Met[i]/( Met_Ub * 3)\n",
    "    Des_recon_Met.append(met)"
   ]
  },
  {
   "cell_type": "code",
   "execution_count": 8,
   "id": "c3b1ffd0",
   "metadata": {},
   "outputs": [],
   "source": [
    "Design_actual = {'Carbon_Type': Des_recon_CT,\n",
    "               'Conc_Carbon': Des_recon_CC,\n",
    "               'Gly_OG': Des_recon_Gly,\n",
    "               'Met_Prod': Des_recon_Met}"
   ]
  },
  {
   "cell_type": "code",
   "execution_count": 9,
   "id": "fc6ee8ee",
   "metadata": {},
   "outputs": [],
   "source": [
    "pd.DataFrame(Design_actual).to_csv('Reconstructed_Round0.csv')"
   ]
  },
  {
   "cell_type": "code",
   "execution_count": 10,
   "id": "ffd852fe",
   "metadata": {},
   "outputs": [
    {
     "data": {
      "text/plain": [
       "['Sorbitol',\n",
       " 'Mannitol',\n",
       " 'Xylitol',\n",
       " 'Glucose',\n",
       " 'Mannose',\n",
       " 'Pyruvate',\n",
       " 'Fructose',\n",
       " 'Xylose',\n",
       " 'Galactose',\n",
       " 'D-Arabinose',\n",
       " 'Rhamnose',\n",
       " 'Sucrose',\n",
       " 'Lactose',\n",
       " 'Trehalose',\n",
       " 'Ribose',\n",
       " 'Citrate',\n",
       " 'Succinate',\n",
       " 'Glycerol ',\n",
       " 'Ethanol']"
      ]
     },
     "execution_count": 10,
     "metadata": {},
     "output_type": "execute_result"
    }
   ],
   "source": [
    "Carbon_Names"
   ]
  },
  {
   "cell_type": "code",
   "execution_count": null,
   "id": "12705e6f",
   "metadata": {},
   "outputs": [],
   "source": []
  }
 ],
 "metadata": {
  "kernelspec": {
   "display_name": "Python 3 (ipykernel)",
   "language": "python",
   "name": "python3"
  },
  "language_info": {
   "codemirror_mode": {
    "name": "ipython",
    "version": 3
   },
   "file_extension": ".py",
   "mimetype": "text/x-python",
   "name": "python",
   "nbconvert_exporter": "python",
   "pygments_lexer": "ipython3",
   "version": "3.7.13"
  }
 },
 "nbformat": 4,
 "nbformat_minor": 5
}
