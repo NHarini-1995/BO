{
 "cells": [
  {
   "cell_type": "code",
   "execution_count": 1,
   "id": "f27c8be0",
   "metadata": {},
   "outputs": [],
   "source": [
    "import math\n",
    "import collections\n",
    "import pickle\n",
    "import random\n",
    "import scipy\n",
    "import json\n",
    "\n",
    "from matplotlib import pyplot as plt\n",
    "\n",
    "import GPy\n",
    "import numpy as np\n",
    "import pandas as pd\n",
    "from tqdm import tqdm\n"
   ]
  },
  {
   "cell_type": "code",
   "execution_count": 2,
   "id": "ef624963",
   "metadata": {},
   "outputs": [],
   "source": [
    "Output = pd.read_excel('Titer_OD.xlsx', 'Repeat')\n",
    "N_unique = len(Output['Production Condition'].unique())"
   ]
  },
  {
   "cell_type": "code",
   "execution_count": 3,
   "id": "3563b993",
   "metadata": {},
   "outputs": [],
   "source": [
    "initN = Output.shape[0]\n",
    "\n",
    "Titer = []\n",
    "Prod_OD = []\n",
    "OG_OD = []\n",
    "Spec_prod = []\n",
    "Conditions = []\n",
    "names_all = Output['Production Condition'].unique()\n",
    "\n",
    "for name in names_all:\n",
    "    fac = int(Output.shape[0]/N_unique)\n",
    "    Conditions = Conditions + [name]*fac\n",
    "    temp1 = Output['Titer'].loc[Output ['Production Condition'] == name]\n",
    "    temp2 = Output['OD_Prod'].loc[Output ['Production Condition'] == name]\n",
    "    temp3 = Output['OD_OG'].loc[Output ['Production Condition'] == name]\n",
    "    \n",
    "    Titer = Titer + temp1.tolist()\n",
    "    Prod_OD = Prod_OD + temp2.tolist()\n",
    "    OG_OD = OG_OD + temp3.tolist()\n",
    "    Spec_prod = Spec_prod + (temp1/temp2).tolist()\n",
    "\n",
    "Data = {'Condition': Conditions, 'Titer': Titer, \n",
    "         'Specific Productivity': Spec_prod, 'Prod_OD': Prod_OD, 'OG_OD': OG_OD}\n",
    "\n",
    "Round3_summary = pd.DataFrame(Data)"
   ]
  },
  {
   "cell_type": "code",
   "execution_count": 15,
   "id": "88500292",
   "metadata": {},
   "outputs": [],
   "source": [
    "Std_Titer = []\n",
    "Std_Spec_prod = []\n",
    "Conditions = []\n",
    "names_all = Output['Production Condition'].unique()\n",
    "\n",
    "for name in names_all:\n",
    "    fac = 1\n",
    "    Conditions = Conditions + [name]*fac\n",
    "    temp1 = Output['Titer'].loc[Output ['Production Condition'] == name]\n",
    "    temp2 = Output['OD_Prod'].loc[Output ['Production Condition'] == name]\n",
    "    temp3 = Output['OD_OG'].loc[Output ['Production Condition'] == name]\n",
    "    \n",
    "    Std_Titer = Std_Titer + [temp1.std()]\n",
    "    Std_Spec_prod = Std_Spec_prod + [(temp1/temp2).std()]\n",
    "\n",
    "# Data = {'Condition': Conditions, 'Titer': Titer, \n",
    "#          'Specific Productivity': Spec_prod, 'Prod_OD': Prod_OD, 'OG_OD': OG_OD}\n",
    "\n",
    "# Round3_summary = pd.DataFrame(Data)"
   ]
  },
  {
   "cell_type": "code",
   "execution_count": 12,
   "id": "60274d35",
   "metadata": {},
   "outputs": [
    {
     "data": {
      "text/plain": [
       "7.178453849120222"
      ]
     },
     "execution_count": 12,
     "metadata": {},
     "output_type": "execute_result"
    }
   ],
   "source": [
    "temp1.std()"
   ]
  },
  {
   "cell_type": "code",
   "execution_count": null,
   "id": "f16721a7",
   "metadata": {},
   "outputs": [],
   "source": [
    "len(Std_Spec_prod)"
   ]
  },
  {
   "cell_type": "code",
   "execution_count": null,
   "id": "b713c153",
   "metadata": {},
   "outputs": [],
   "source": [
    "# pd.DataFrame(Data).max()\n",
    "plt.scatter(Titer, Spec_prod)"
   ]
  },
  {
   "cell_type": "code",
   "execution_count": null,
   "id": "f5e2fa9c",
   "metadata": {},
   "outputs": [],
   "source": [
    "Round3_summary.to_csv('Round0_Result_Summary_detailed.csv')"
   ]
  },
  {
   "cell_type": "code",
   "execution_count": null,
   "id": "24b9fb9d",
   "metadata": {},
   "outputs": [],
   "source": [
    "Round3_summary"
   ]
  },
  {
   "cell_type": "code",
   "execution_count": null,
   "id": "12f9dca4",
   "metadata": {},
   "outputs": [],
   "source": []
  }
 ],
 "metadata": {
  "kernelspec": {
   "display_name": "Python 3 (ipykernel)",
   "language": "python",
   "name": "python3"
  },
  "language_info": {
   "codemirror_mode": {
    "name": "ipython",
    "version": 3
   },
   "file_extension": ".py",
   "mimetype": "text/x-python",
   "name": "python",
   "nbconvert_exporter": "python",
   "pygments_lexer": "ipython3",
   "version": "3.7.13"
  }
 },
 "nbformat": 4,
 "nbformat_minor": 5
}
