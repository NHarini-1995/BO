{
 "cells": [
  {
   "cell_type": "code",
   "execution_count": 1,
   "id": "f27c8be0",
   "metadata": {},
   "outputs": [],
   "source": [
    "import math\n",
    "import collections\n",
    "import pickle\n",
    "import random\n",
    "import scipy\n",
    "import json\n",
    "\n",
    "from matplotlib import pyplot as plt\n",
    "\n",
    "import GPy\n",
    "import numpy as np\n",
    "import pandas as pd\n",
    "from tqdm import tqdm\n"
   ]
  },
  {
   "cell_type": "code",
   "execution_count": 2,
   "id": "ef624963",
   "metadata": {},
   "outputs": [
    {
     "data": {
      "text/plain": [
       "array(['Exp0', 'Exp1', 'Exp2', 'Exp3', 'Exp4', 'Exp5', 'Exp6', 'Exp7',\n",
       "       'Exp8', 'Exp9', 'Exp10', 'BMGY, BMMY + Cells'], dtype=object)"
      ]
     },
     "execution_count": 2,
     "metadata": {},
     "output_type": "execute_result"
    }
   ],
   "source": [
    "Output = pd.read_excel('Titer_OD.xlsx')\n",
    "Output['Production Condition'].unique()"
   ]
  },
  {
   "cell_type": "code",
   "execution_count": 3,
   "id": "2626d7fb",
   "metadata": {},
   "outputs": [],
   "source": [
    "main_file_path = '/Users/harini/Dropbox (MIT)/Harini Narayanan’s files/1_Home/Biotech/MediaOptimization/BO_MediaOptimization/Molecules/HSA/HSA_Prod_CoCaBO/'\n",
    "carbon_source_filepath = '/Users/harini/Dropbox (MIT)/Harini Narayanan’s files/1_Home/Biotech/MediaOptimization/BO_MediaOptimization/Molecules/'"
   ]
  },
  {
   "cell_type": "code",
   "execution_count": 4,
   "id": "3563b993",
   "metadata": {},
   "outputs": [],
   "source": [
    "initN = Output.shape[0]\n",
    "\n",
    "Titer = []\n",
    "Prod_OD = []\n",
    "OG_OD = []\n",
    "Spec_prod = []\n",
    "Conditions = []\n",
    "names_all = Output['Production Condition'].unique()\n",
    "\n",
    "for name in names_all:\n",
    "    Conditions.append(name)\n",
    "    temp1 = Output['Titer'].loc[Output ['Production Condition'] == name].mean()\n",
    "    temp2 = Output['OD_Prod'].loc[Output ['Production Condition'] == name].mean()\n",
    "    temp3 = Output['OD_OG'].loc[Output ['Production Condition'] == name].mean()\n",
    "    temp4 = (Output['Titer'].loc[Output ['Production Condition'] == name]/Output['OD_Prod'].loc[Output ['Production Condition'] == name]).mean()\n",
    "    \n",
    "    Titer.append(temp1) \n",
    "    Prod_OD.append(temp2)\n",
    "    OG_OD.append(temp3)\n",
    "    Spec_prod.append(temp4)\n",
    "\n",
    "Data = {'Condition': Conditions, 'Titer': Titer, \n",
    "         'Specific Productivity': Spec_prod, 'Prod_OD': Prod_OD, 'OG_OD': OG_OD}\n",
    "\n",
    "\n",
    "Round1_summary = pd.DataFrame(Data)"
   ]
  },
  {
   "cell_type": "code",
   "execution_count": 5,
   "id": "b713c153",
   "metadata": {},
   "outputs": [
    {
     "data": {
      "text/plain": [
       "<matplotlib.collections.PathCollection at 0x7f8ae0a16590>"
      ]
     },
     "execution_count": 5,
     "metadata": {},
     "output_type": "execute_result"
    },
    {
     "data": {
      "image/png": "[encoded data removed]",
      "text/plain": [
       "<Figure size 432x288 with 1 Axes>"
      ]
     },
     "metadata": {
      "needs_background": "light"
     },
     "output_type": "display_data"
    }
   ],
   "source": [
    "plt.scatter(Titer, Spec_prod)"
   ]
  },
  {
   "cell_type": "code",
   "execution_count": 6,
   "id": "f5e2fa9c",
   "metadata": {},
   "outputs": [],
   "source": [
    "Round1_summary.to_csv('Round5_Result_Summary_final.csv')"
   ]
  },
  {
   "cell_type": "code",
   "execution_count": 7,
   "id": "c89d5018",
   "metadata": {},
   "outputs": [],
   "source": [
    "Exp_1_pd = pd.read_csv(main_file_path + 'Codes/Round5/Reconstructed_Round5.csv')\n",
    "\n",
    "Exp_1 = Exp_1_pd.iloc[:,1:].values\n",
    "\n",
    "initN = 11"
   ]
  },
  {
   "cell_type": "code",
   "execution_count": 8,
   "id": "cc8f50a9",
   "metadata": {},
   "outputs": [],
   "source": [
    "Stock_solid = pd.read_excel(carbon_source_filepath+'CarbonSourceInfo.xlsx', 'Stocks_solid')\n",
    "Stock_liquid = pd.read_excel(carbon_source_filepath +'CarbonSourceInfo.xlsx', 'Stocks_liquid')\n",
    "\n",
    "Carbon_Names = Stock_solid['Carbon Source'].values.tolist()\n",
    "Carbon_Names.append(Stock_liquid['Carbon Source'][1])\n",
    "Carbon_Names.append(Stock_liquid['Carbon Source'][2])\n",
    "\n",
    "\n",
    "Carbon_Ub = [50]*17 #[g/L]\n",
    "Carbon_Ub.append(10) # Glycerol [mL/L]\n",
    "Carbon_Ub.append(50) #Ethanol [mL/L]\n",
    "\n",
    "OG_Gly_Ub = 100 #[mL/L]\n",
    "Met_Ub = 100 #[mL/L]\n",
    "\n",
    "\n",
    "Stock_Conc = Stock_solid['g/mL'].values.tolist()\n",
    "Stock_Conc.append(Stock_liquid['mL/mL'][1].tolist())\n",
    "Stock_Conc.append(Stock_liquid['mL/mL'][2].tolist())\n",
    "\n",
    "OG_Stock_Conc = Stock_liquid['mL/mL'][0].tolist()\n",
    "\n",
    "\n",
    "Selected_Carbon = []\n",
    "Carbon_mL = []\n",
    "OG_Gly_mL = []\n",
    "Met_mL = []\n",
    "\n",
    "\n",
    "for i in range(initN):\n",
    "    Selected_Carbon.append(Carbon_Names[int(Exp_1[i,0])])\n",
    "    temp_factor = Carbon_Ub[int(Exp_1[i,0])]\n",
    "    temp = Exp_1[i,1] * temp_factor # (g/L)\n",
    "    Carbon_mL.append(temp)\n",
    "    OG_Gly_mL.append(Exp_1[i,2] * OG_Gly_Ub * 100/1000) #(%)\n",
    "    Met_mL.append(Exp_1[i,3] * Met_Ub * 100/1000)#(%)\n",
    "    \n",
    "    \n",
    "\n",
    "Experiment_1 = {'Carbon_Type': Selected_Carbon,\n",
    "               'Conc_Carbon [g/L]': Carbon_mL,\n",
    "               'Gly_OG [%]': OG_Gly_mL,\n",
    "               'Met_Prod [%]': Met_mL}\n",
    "\n",
    "pd.DataFrame(Experiment_1).to_csv('Round5_Design_Summary.csv')"
   ]
  },
  {
   "cell_type": "code",
   "execution_count": null,
   "id": "24b9fb9d",
   "metadata": {},
   "outputs": [],
   "source": []
  },
  {
   "cell_type": "code",
   "execution_count": null,
   "id": "12f9dca4",
   "metadata": {},
   "outputs": [],
   "source": []
  }
 ],
 "metadata": {
  "kernelspec": {
   "display_name": "Python 3 (ipykernel)",
   "language": "python",
   "name": "python3"
  },
  "language_info": {
   "codemirror_mode": {
    "name": "ipython",
    "version": 3
   },
   "file_extension": ".py",
   "mimetype": "text/x-python",
   "name": "python",
   "nbconvert_exporter": "python",
   "pygments_lexer": "ipython3",
   "version": "3.7.13"
  }
 },
 "nbformat": 4,
 "nbformat_minor": 5
}
