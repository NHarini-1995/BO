{
 "cells": [
  {
   "cell_type": "code",
   "execution_count": 1,
   "id": "c3415942",
   "metadata": {},
   "outputs": [],
   "source": [
    "import math\n",
    "import collections\n",
    "import pickle\n",
    "import random\n",
    "import scipy\n",
    "import json\n",
    "\n",
    "from matplotlib import pyplot as plt\n",
    "\n",
    "import GPy\n",
    "import numpy as np\n",
    "import pandas as pd\n",
    "from tqdm import tqdm\n"
   ]
  },
  {
   "cell_type": "markdown",
   "id": "459b37be",
   "metadata": {},
   "source": [
    "### 1. Perform conversions from volumes and carbon source name to design space"
   ]
  },
  {
   "cell_type": "code",
   "execution_count": 2,
   "id": "a6a5b7df",
   "metadata": {},
   "outputs": [],
   "source": [
    "Stock_solid = pd.read_excel('../CarbonSourceInfo.xlsx', 'Stocks_solid')\n",
    "Stock_liquid = pd.read_excel('../CarbonSourceInfo.xlsx', 'Stocks_liquid')"
   ]
  },
  {
   "cell_type": "markdown",
   "id": "6410c3fa",
   "metadata": {},
   "source": [
    "CARBON NAME"
   ]
  },
  {
   "cell_type": "code",
   "execution_count": 3,
   "id": "2e7cc503",
   "metadata": {},
   "outputs": [],
   "source": [
    "Carbon_Names = Stock_solid['Carbon Source'].values.tolist()\n",
    "Carbon_Names.append(Stock_liquid['Carbon Source'][1])\n",
    "Carbon_Names.append(Stock_liquid['Carbon Source'][2])"
   ]
  },
  {
   "cell_type": "markdown",
   "id": "49f6f58c",
   "metadata": {},
   "source": [
    "UPPER BOUNDS"
   ]
  },
  {
   "cell_type": "code",
   "execution_count": 4,
   "id": "2fdeb638",
   "metadata": {},
   "outputs": [],
   "source": [
    "Carbon_Ub = [50]*17 #[g/L]\n",
    "Carbon_Ub.append(10) # Glycerol [mL/L]\n",
    "Carbon_Ub.append(50) #Ethanol [mL/L]\n",
    "\n",
    "OG_Gly_Ub = 100 #[mL/L]\n",
    "Met_Ub = 100 #[mL/L]"
   ]
  },
  {
   "cell_type": "markdown",
   "id": "daef81d1",
   "metadata": {},
   "source": [
    "STOCK CONCENTRATIONS"
   ]
  },
  {
   "cell_type": "code",
   "execution_count": 5,
   "id": "c6060bcf",
   "metadata": {},
   "outputs": [],
   "source": [
    "Stock_Conc = Stock_solid['g/mL'].values.tolist()\n",
    "Stock_Conc.append(Stock_liquid['mL/mL'][1].tolist())\n",
    "Stock_Conc.append(Stock_liquid['mL/mL'][2].tolist())\n",
    "\n",
    "OG_Stock_Conc = Stock_liquid['mL/mL'][0].tolist()"
   ]
  },
  {
   "cell_type": "code",
   "execution_count": 6,
   "id": "c0f27274",
   "metadata": {},
   "outputs": [
    {
     "name": "stdout",
     "output_type": "stream",
     "text": [
      "11\n"
     ]
    }
   ],
   "source": [
    "Exp_Used = pd.read_csv('Actual_Round2_3mL.csv')\n",
    "initN = Exp_Used.shape[0]\n",
    "print(initN)\n",
    "Exp_Used_CT = Exp_Used[\"Carbon_Type\"].values\n",
    "Exp_Used_CC = Exp_Used[\"Conc_Carbon [uL]\"].values\n",
    "Exp_Used_Gly = Exp_Used[\"Gly_OG [uL]\"].values\n",
    "Exp_Used_Met = Exp_Used[\"Met_Prod [uL]\"].values"
   ]
  },
  {
   "cell_type": "code",
   "execution_count": 7,
   "id": "97b64962",
   "metadata": {},
   "outputs": [
    {
     "data": {
      "text/html": [
       "<div>\n",
       "<style scoped>\n",
       "    .dataframe tbody tr th:only-of-type {\n",
       "        vertical-align: middle;\n",
       "    }\n",
       "\n",
       "    .dataframe tbody tr th {\n",
       "        vertical-align: top;\n",
       "    }\n",
       "\n",
       "    .dataframe thead th {\n",
       "        text-align: right;\n",
       "    }\n",
       "</style>\n",
       "<table border=\"1\" class=\"dataframe\">\n",
       "  <thead>\n",
       "    <tr style=\"text-align: right;\">\n",
       "      <th></th>\n",
       "      <th>Unnamed: 0</th>\n",
       "      <th>Carbon_Type</th>\n",
       "      <th>Conc_Carbon [uL]</th>\n",
       "      <th>Gly_OG [uL]</th>\n",
       "      <th>Met_Prod [uL]</th>\n",
       "    </tr>\n",
       "  </thead>\n",
       "  <tbody>\n",
       "    <tr>\n",
       "      <th>0</th>\n",
       "      <td>0</td>\n",
       "      <td>Mannitol</td>\n",
       "      <td>20</td>\n",
       "      <td>97</td>\n",
       "      <td>149</td>\n",
       "    </tr>\n",
       "    <tr>\n",
       "      <th>1</th>\n",
       "      <td>1</td>\n",
       "      <td>Fructose</td>\n",
       "      <td>8</td>\n",
       "      <td>22</td>\n",
       "      <td>204</td>\n",
       "    </tr>\n",
       "    <tr>\n",
       "      <th>2</th>\n",
       "      <td>2</td>\n",
       "      <td>Mannose</td>\n",
       "      <td>2</td>\n",
       "      <td>14</td>\n",
       "      <td>117</td>\n",
       "    </tr>\n",
       "    <tr>\n",
       "      <th>3</th>\n",
       "      <td>3</td>\n",
       "      <td>Pyruvate</td>\n",
       "      <td>409</td>\n",
       "      <td>119</td>\n",
       "      <td>289</td>\n",
       "    </tr>\n",
       "    <tr>\n",
       "      <th>4</th>\n",
       "      <td>4</td>\n",
       "      <td>Xylitol</td>\n",
       "      <td>63</td>\n",
       "      <td>37</td>\n",
       "      <td>1</td>\n",
       "    </tr>\n",
       "    <tr>\n",
       "      <th>5</th>\n",
       "      <td>5</td>\n",
       "      <td>Galactose</td>\n",
       "      <td>22</td>\n",
       "      <td>83</td>\n",
       "      <td>140</td>\n",
       "    </tr>\n",
       "    <tr>\n",
       "      <th>6</th>\n",
       "      <td>6</td>\n",
       "      <td>Rhamnose</td>\n",
       "      <td>373</td>\n",
       "      <td>106</td>\n",
       "      <td>57</td>\n",
       "    </tr>\n",
       "    <tr>\n",
       "      <th>7</th>\n",
       "      <td>7</td>\n",
       "      <td>Trehalose</td>\n",
       "      <td>1</td>\n",
       "      <td>30</td>\n",
       "      <td>58</td>\n",
       "    </tr>\n",
       "    <tr>\n",
       "      <th>8</th>\n",
       "      <td>8</td>\n",
       "      <td>Citrate</td>\n",
       "      <td>4</td>\n",
       "      <td>350</td>\n",
       "      <td>110</td>\n",
       "    </tr>\n",
       "    <tr>\n",
       "      <th>9</th>\n",
       "      <td>9</td>\n",
       "      <td>Glycerol</td>\n",
       "      <td>1</td>\n",
       "      <td>82</td>\n",
       "      <td>22</td>\n",
       "    </tr>\n",
       "    <tr>\n",
       "      <th>10</th>\n",
       "      <td>10</td>\n",
       "      <td>Ethanol</td>\n",
       "      <td>1</td>\n",
       "      <td>17</td>\n",
       "      <td>36</td>\n",
       "    </tr>\n",
       "  </tbody>\n",
       "</table>\n",
       "</div>"
      ],
      "text/plain": [
       "    Unnamed: 0 Carbon_Type  Conc_Carbon [uL]  Gly_OG [uL]  Met_Prod [uL]\n",
       "0            0    Mannitol                20           97            149\n",
       "1            1    Fructose                 8           22            204\n",
       "2            2     Mannose                 2           14            117\n",
       "3            3    Pyruvate               409          119            289\n",
       "4            4     Xylitol                63           37              1\n",
       "5            5   Galactose                22           83            140\n",
       "6            6    Rhamnose               373          106             57\n",
       "7            7   Trehalose                 1           30             58\n",
       "8            8     Citrate                 4          350            110\n",
       "9            9   Glycerol                  1           82             22\n",
       "10          10     Ethanol                 1           17             36"
      ]
     },
     "execution_count": 7,
     "metadata": {},
     "output_type": "execute_result"
    }
   ],
   "source": [
    "Exp_Used"
   ]
  },
  {
   "cell_type": "code",
   "execution_count": 8,
   "id": "86afd363",
   "metadata": {},
   "outputs": [],
   "source": [
    "Des_recon_CT = []\n",
    "Des_recon_CC = []\n",
    "Des_recon_Gly = []\n",
    "Des_recon_Met = []\n",
    "\n",
    "for i in range(initN):\n",
    "    index = Carbon_Names.index(Exp_Used_CT[i])\n",
    "    Des_recon_CT.append(index)\n",
    "    temp_factor = Carbon_Ub[index]/ Stock_Conc[index]\n",
    "    cc = Exp_Used_CC[i]/ (temp_factor * 3)\n",
    "    Des_recon_CC.append(cc)\n",
    "    gly = Exp_Used_Gly[i] * OG_Stock_Conc/(OG_Gly_Ub * 3)\n",
    "    Des_recon_Gly.append(gly)\n",
    "    met = Exp_Used_Met[i]/( Met_Ub * 3)\n",
    "    Des_recon_Met.append(met)"
   ]
  },
  {
   "cell_type": "code",
   "execution_count": 9,
   "id": "c3b1ffd0",
   "metadata": {},
   "outputs": [],
   "source": [
    "Design_actual = {'Carbon_Type': Des_recon_CT,\n",
    "               'Conc_Carbon': Des_recon_CC,\n",
    "               'Gly_OG': Des_recon_Gly,\n",
    "               'Met_Prod': Des_recon_Met}"
   ]
  },
  {
   "cell_type": "code",
   "execution_count": 10,
   "id": "fc6ee8ee",
   "metadata": {},
   "outputs": [],
   "source": [
    "pd.DataFrame(Design_actual).to_csv('Reconstructed_Round2.csv')"
   ]
  },
  {
   "cell_type": "code",
   "execution_count": 11,
   "id": "ffd852fe",
   "metadata": {},
   "outputs": [
    {
     "data": {
      "text/plain": [
       "['Sorbitol',\n",
       " 'Mannitol',\n",
       " 'Xylitol',\n",
       " 'Glucose',\n",
       " 'Mannose',\n",
       " 'Pyruvate',\n",
       " 'Fructose',\n",
       " 'Xylose',\n",
       " 'Galactose',\n",
       " 'D-Arabinose',\n",
       " 'Rhamnose',\n",
       " 'Sucrose',\n",
       " 'Lactose',\n",
       " 'Trehalose',\n",
       " 'Ribose',\n",
       " 'Citrate',\n",
       " 'Succinate',\n",
       " 'Glycerol ',\n",
       " 'Ethanol']"
      ]
     },
     "execution_count": 11,
     "metadata": {},
     "output_type": "execute_result"
    }
   ],
   "source": [
    "Carbon_Names"
   ]
  },
  {
   "cell_type": "code",
   "execution_count": null,
   "id": "12705e6f",
   "metadata": {},
   "outputs": [],
   "source": []
  }
 ],
 "metadata": {
  "kernelspec": {
   "display_name": "Python 3 (ipykernel)",
   "language": "python",
   "name": "python3"
  },
  "language_info": {
   "codemirror_mode": {
    "name": "ipython",
    "version": 3
   },
   "file_extension": ".py",
   "mimetype": "text/x-python",
   "name": "python",
   "nbconvert_exporter": "python",
   "pygments_lexer": "ipython3",
   "version": "3.7.13"
  }
 },
 "nbformat": 4,
 "nbformat_minor": 5
}
