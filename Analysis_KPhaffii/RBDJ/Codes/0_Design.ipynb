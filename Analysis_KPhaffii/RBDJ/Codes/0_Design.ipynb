{
 "cells": [
  {
   "cell_type": "code",
   "execution_count": 1,
   "id": "c3415942",
   "metadata": {},
   "outputs": [],
   "source": [
    "import math\n",
    "import collections\n",
    "import pickle\n",
    "import random\n",
    "import scipy\n",
    "import json\n",
    "\n",
    "from matplotlib import pyplot as plt\n",
    "\n",
    "import GPy\n",
    "import numpy as np\n",
    "import pandas as pd\n",
    "from tqdm import tqdm\n",
    "\n",
    "# from Kernel import MixtureViaSumAndProduct, CategoryOverlapKernel\n",
    "from InitialData_Gen import initialize\n",
    "from AcquisitionFunctions import EI, PI, UCB, AcquisitionOnSubspace\n",
    "# from SamplingCategorical import compute_prob_dist_and_draw_hts\n",
    "from UpdateCategoricalWeight import compute_reward_for_all_cat_variable, update_weights_for_all_cat_var\n",
    "from optimization import sample_then_minimize\n",
    "\n",
    "from AskTell import ask_tell\n",
    "\n",
    "from scipy.optimize import minimize\n",
    "\n",
    "from typing import Union, Tuple\n",
    "from paramz.transformations import Logexp"
   ]
  },
  {
   "cell_type": "markdown",
   "id": "2e6c1563",
   "metadata": {},
   "source": [
    "1. C - List of number of categroies corresponding to each categorical variable\n",
    "2. Nc - Number of categorical variables\n",
    "3. Nx - Continuous variables\n",
    "4. h - categorical\n",
    "5. x - continuous\n",
    "6. z - [h, x]\n",
    "\n",
    "7. nDim - Nc + Nx\n",
    "8. bounds - Lower and Upper bounds of both Catergorical variables and continuous variables\n",
    "\n",
    "9. n_iter - Number of iterations to run the algorithm\n",
    "10. initN - Number of intial data points\n",
    "11. batch_size (b) - Number of experiments to be generated in each iteration\n",
    "\n",
    "12. acq_type - Acquisition Type ('EI', 'LCB', 'ThompsonSampling')"
   ]
  },
  {
   "cell_type": "markdown",
   "id": "1ab7e7ce",
   "metadata": {},
   "source": [
    "### 1. Defining parameters of the system"
   ]
  },
  {
   "cell_type": "code",
   "execution_count": 2,
   "id": "6d98ced1",
   "metadata": {},
   "outputs": [],
   "source": [
    "import sys\n",
    "myString = sys.path[0]\n",
    "split_list = myString.split(\"/\")\n",
    "root = ''\n",
    "for l in split_list[1:-2]:\n",
    "    root = root +'/'+ l\n",
    "    \n",
    "main_file_path = root + '/RBDJ/'\n",
    "carbon_source_fiepath = root + '/'"
   ]
  },
  {
   "cell_type": "code",
   "execution_count": 3,
   "id": "f93cfb4e",
   "metadata": {},
   "outputs": [],
   "source": [
    "initN = 23\n",
    "Nc = 1\n",
    "C_list = [19] #\n",
    "\n",
    "assert Nc == len(C_list)\n",
    "\n",
    "Nx = 3\n",
    "nDim = Nc + Nx\n",
    "Niter = 1\n",
    "batch_size = 11\n",
    "\n",
    "bounds = [{'name': 'Carbon_Type', 'type': 'categorical', 'domain': np.arange(0, 19)}, #Carbon Source type\n",
    "          {'name': 'Conc_Carbon', 'type': 'continuous', 'domain': (0, 1)},\n",
    "            {'name': 'Gly_OG', 'type': 'continuous', 'domain': (0, 1)},\n",
    "            {'name': 'Met_Prod', 'type': 'continuous', 'domain': (0, 1)}]\n",
    "\n",
    "#0 - lb and 1 - ub\n",
    "\n",
    "data_param = {'C': C_list, 'Nc': Nc, 'Nx': Nx, 'nDim': Nc+Nx, 'bounds': bounds, 'approach_type':'CoCa',\n",
    "'prob_type': 'UnConstrained', 'initN': initN}"
   ]
  },
  {
   "cell_type": "code",
   "execution_count": 4,
   "id": "830c2169",
   "metadata": {},
   "outputs": [],
   "source": [
    "budget = 55\n",
    "bestUpperBoundEstimate = 2 * budget / 3\n",
    "gamma_list = [np.sqrt(C * math.log(C / batch_size) / ((math.e - 1) * batch_size * bestUpperBoundEstimate))\n",
    "                      for C in C_list]\n",
    "\n",
    "gamma_list = [g if not np.isnan(g) else 1 for g in gamma_list]\n",
    "\n",
    "Wc_list_init = [np.ones(C) for C in C_list]\n",
    "Wc_list = Wc_list_init"
   ]
  },
  {
   "cell_type": "code",
   "execution_count": 5,
   "id": "32f86da9",
   "metadata": {},
   "outputs": [],
   "source": [
    "Model_background = {}\n",
    "Model_background = {'gamma_list': gamma_list,  'budget':budget,\n",
    "                 'bestUpperBoundEstimate': bestUpperBoundEstimate, 'Wc_list_init': Wc_list_init,\n",
    "                   'Wc_list': Wc_list, 'data_param': data_param}\n",
    "import pickle\n",
    "with open('0_ModelBackground.pkl', 'wb') as output:\n",
    "    # Pickle dictionary using protocol 0.\n",
    "    pickle.dump(Model_background, output)"
   ]
  },
  {
   "cell_type": "markdown",
   "id": "a4a4b36f",
   "metadata": {},
   "source": [
    "### 2. Creating the Initial Dataset"
   ]
  },
  {
   "cell_type": "code",
   "execution_count": 6,
   "id": "3fa06dc2",
   "metadata": {},
   "outputs": [
    {
     "name": "stdout",
     "output_type": "stream",
     "text": [
      "(23, 1)\n"
     ]
    }
   ],
   "source": [
    "Exp_0 , result_0 = initialize(initN, data_param, seed = 37)\n",
    "pd.DataFrame(Exp_0).to_csv('0_ExperimentalDesign.csv')\n"
   ]
  },
  {
   "cell_type": "markdown",
   "id": "459b37be",
   "metadata": {},
   "source": [
    "### 3. Perform conversions to compute the volumes save that"
   ]
  },
  {
   "cell_type": "code",
   "execution_count": 7,
   "id": "a6a5b7df",
   "metadata": {},
   "outputs": [],
   "source": [
    "Stock_solid = pd.read_excel(carbon_source_fiepath + 'CarbonSourceInfo.xlsx', 'Stocks_solid')\n",
    "Stock_liquid = pd.read_excel(carbon_source_fiepath + 'CarbonSourceInfo.xlsx', 'Stocks_liquid')"
   ]
  },
  {
   "cell_type": "markdown",
   "id": "6410c3fa",
   "metadata": {},
   "source": [
    "CARBON NAME"
   ]
  },
  {
   "cell_type": "code",
   "execution_count": 8,
   "id": "2e7cc503",
   "metadata": {},
   "outputs": [],
   "source": [
    "Carbon_Names = Stock_solid['Carbon Source'].values.tolist()\n",
    "Carbon_Names.append(Stock_liquid['Carbon Source'][1])\n",
    "Carbon_Names.append(Stock_liquid['Carbon Source'][2])"
   ]
  },
  {
   "cell_type": "markdown",
   "id": "49f6f58c",
   "metadata": {},
   "source": [
    "UPPER BOUNDS"
   ]
  },
  {
   "cell_type": "code",
   "execution_count": 9,
   "id": "2fdeb638",
   "metadata": {},
   "outputs": [],
   "source": [
    "Carbon_Ub = [50]*17 #[g/L]\n",
    "Carbon_Ub.append(10) # Glycerol [mL/L]\n",
    "Carbon_Ub.append(50) #Ethanol [mL/L]\n",
    "\n",
    "OG_Gly_Ub = 100 #[mL/L]\n",
    "Met_Ub = 100 #[mL/L]"
   ]
  },
  {
   "cell_type": "markdown",
   "id": "daef81d1",
   "metadata": {},
   "source": [
    "STOCK CONCENTRATIONS"
   ]
  },
  {
   "cell_type": "code",
   "execution_count": null,
   "id": "c6060bcf",
   "metadata": {},
   "outputs": [],
   "source": [
    "Stock_Conc = Stock_solid['g/mL'].values.tolist()\n",
    "Stock_Conc.append(Stock_liquid['mL/mL'][1].tolist())\n",
    "Stock_Conc.append(Stock_liquid['mL/mL'][2].tolist())\n",
    "\n",
    "OG_Stock_Conc = Stock_liquid['mL/mL'][0].tolist()"
   ]
  },
  {
   "cell_type": "code",
   "execution_count": null,
   "id": "b37ab6b7",
   "metadata": {},
   "outputs": [],
   "source": [
    "Selected_Carbon = []\n",
    "Carbon_mL = []\n",
    "OG_Gly_mL = []\n",
    "Met_mL = []\n",
    "\n",
    "\n",
    "for i in range(initN):\n",
    "    Selected_Carbon.append(Carbon_Names[int(Exp_0[i,0])])\n",
    "    temp_factor = Carbon_Ub[int(Exp_0[i,0])]/ Stock_Conc[int(Exp_0[i,0])] \n",
    "    # [g/L]/[g/mL] * [mL] --> g * mL * mL/[L * g] --> 10^-6 L --> uL \n",
    "    temp = Exp_0[i,1] * temp_factor * 3\n",
    "    Carbon_mL.append(temp)\n",
    "    # [mL]*[mL/L] --> 10^-6 L --> 1 uL \n",
    "    OG_Gly_mL.append(Exp_0[i,2] * OG_Gly_Ub * 3/OG_Stock_Conc)\n",
    "    Met_mL.append(Exp_0[i,3] * Met_Ub * 3)\n",
    "    \n",
    "\n",
    "\n",
    "Experiment_0_3mL = {'Carbon_Type': Selected_Carbon,\n",
    "               'Conc_Carbon [uL]': Carbon_mL,\n",
    "               'Gly_OG [uL]': OG_Gly_mL,\n",
    "               'Met_Prod [uL]': Met_mL}"
   ]
  },
  {
   "cell_type": "code",
   "execution_count": null,
   "id": "fc6ee8ee",
   "metadata": {},
   "outputs": [],
   "source": [
    "pd.DataFrame(Experiment_0_3mL).to_csv('0_ExperimentPlan_mLValue_3mL.csv')"
   ]
  },
  {
   "cell_type": "code",
   "execution_count": null,
   "id": "ffd852fe",
   "metadata": {},
   "outputs": [],
   "source": []
  }
 ],
 "metadata": {
  "kernelspec": {
   "display_name": "Python 3 (ipykernel)",
   "language": "python",
   "name": "python3"
  },
  "language_info": {
   "codemirror_mode": {
    "name": "ipython",
    "version": 3
   },
   "file_extension": ".py",
   "mimetype": "text/x-python",
   "name": "python",
   "nbconvert_exporter": "python",
   "pygments_lexer": "ipython3",
   "version": "3.7.13"
  }
 },
 "nbformat": 4,
 "nbformat_minor": 5
}
