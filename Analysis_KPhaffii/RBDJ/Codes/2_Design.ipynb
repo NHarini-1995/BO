{
 "cells": [
  {
   "cell_type": "code",
   "execution_count": 1,
   "id": "c3415942",
   "metadata": {},
   "outputs": [],
   "source": [
    "import math\n",
    "import collections\n",
    "import pickle\n",
    "import random\n",
    "import scipy\n",
    "import json\n",
    "\n",
    "from matplotlib import pyplot as plt\n",
    "\n",
    "import GPy\n",
    "import numpy as np\n",
    "import pandas as pd\n",
    "from tqdm import tqdm\n",
    "\n",
    "# from Kernel import MixtureViaSumAndProduct, CategoryOverlapKernel\n",
    "from InitialData_Gen import initialize\n",
    "from AcquisitionFunctions import EI, PI, UCB, AcquisitionOnSubspace\n",
    "# from SamplingCategorical import compute_prob_dist_and_draw_hts\n",
    "from UpdateCategoricalWeight import compute_reward_for_all_cat_variable, update_weights_for_all_cat_var\n",
    "from optimization import sample_then_minimize\n",
    "\n",
    "from AskTell import ask_tell\n",
    "\n",
    "from scipy.optimize import minimize\n",
    "\n",
    "from typing import Union, Tuple\n",
    "from paramz.transformations import Logexp"
   ]
  },
  {
   "cell_type": "markdown",
   "id": "2e6c1563",
   "metadata": {},
   "source": [
    "1. C - List of number of categroies corresponding to each categorical variable\n",
    "2. Nc - Number of categorical variables\n",
    "3. Nx - Continuous variables\n",
    "4. h - categorical\n",
    "5. x - continuous\n",
    "6. z - [h, x]\n",
    "\n",
    "7. nDim - Nc + Nx\n",
    "8. bounds - Lower and Upper bounds of both Catergorical variables and continuous variables\n",
    "\n",
    "9. n_iter - Number of iterations to run the algorithm\n",
    "10. initN - Number of intial data points\n",
    "11. batch_size (b) - Number of experiments to be generated in each iteration\n",
    "\n",
    "12. acq_type - Acquisition Type ('EI', 'LCB', 'ThompsonSampling')"
   ]
  },
  {
   "cell_type": "markdown",
   "id": "1ab7e7ce",
   "metadata": {},
   "source": [
    "### 1. Load Model background from the pickle file"
   ]
  },
  {
   "cell_type": "code",
   "execution_count": null,
   "id": "cac5903c",
   "metadata": {},
   "outputs": [],
   "source": [
    "import sys\n",
    "myString = sys.path[0]\n",
    "split_list = myString.split(\"/\")\n",
    "root = ''\n",
    "for l in split_list[1:-2]:\n",
    "    root = root +'/'+ l\n",
    "    \n",
    "main_file_path = root + '/RBDJ/'\n",
    "carbon_source_fiepath = root + '/'"
   ]
  },
  {
   "cell_type": "code",
   "execution_count": 2,
   "id": "f93cfb4e",
   "metadata": {},
   "outputs": [],
   "source": [
    "# load data from pkl file\n",
    "background_file = main_file_path +  \"Codes/Round1/1_ModelBackground.pkl\"\n",
    "with open(background_file, \"rb\") as fp:\n",
    "    ModelBackground_1 = pickle.load(fp)"
   ]
  },
  {
   "cell_type": "markdown",
   "id": "45bfd81f",
   "metadata": {},
   "source": [
    "### 2. Read Experimental condition and results "
   ]
  },
  {
   "cell_type": "code",
   "execution_count": 3,
   "id": "3c394e14",
   "metadata": {},
   "outputs": [],
   "source": [
    "#Load a titer quantification file and create the result array\n",
    "round0_summary = pd.read_csv(main_file_path +'Exp/Round0/Round0_Result_Summary.csv')\n",
    "result0 = round0_summary['Specific Productivity'].iloc[:-1,].values.reshape(-1,1)\n",
    "\n",
    "Exp0 = pd.read_csv(main_file_path +\"Codes/Round0/Reconstructed_Round0.csv\")\n",
    "data0 = Exp0.iloc[:,1:].values\n"
   ]
  },
  {
   "cell_type": "code",
   "execution_count": 4,
   "id": "7118ce3d",
   "metadata": {},
   "outputs": [],
   "source": [
    "#Load a titer quantification file and create the result array\n",
    "round1_summary = pd.read_csv(main_file_path +'Exp/Round1/Round1_Result_Summary.csv')\n",
    "result1 = round1_summary['Specific Productivity'].iloc[:-1,].values.reshape(-1,1)\n",
    "\n",
    "Exp1 = pd.read_csv(main_file_path +\"Codes/Round1/Reconstructed_Round1.csv\")\n",
    "data1 = Exp1.iloc[:,1:].values\n"
   ]
  },
  {
   "cell_type": "code",
   "execution_count": 5,
   "id": "9492459e",
   "metadata": {},
   "outputs": [],
   "source": [
    "data = np.concatenate((data0, data1), axis = 0)\n",
    "result = np.concatenate((result0, result1), axis = 0)\n"
   ]
  },
  {
   "cell_type": "markdown",
   "id": "344d09fe",
   "metadata": {},
   "source": [
    "### 3. Update rewards and weights"
   ]
  },
  {
   "cell_type": "code",
   "execution_count": 6,
   "id": "163cb67b",
   "metadata": {},
   "outputs": [
    {
     "name": "stdout",
     "output_type": "stream",
     "text": [
      "0\n",
      "[-3.92045597 -0.47960078 -1.31372427 -0.28387437 -0.40638091 -7.78541352\n",
      " -2.38476325 -2.15687264 -1.63381411 -1.80664713 -0.20264547]\n"
     ]
    }
   ],
   "source": [
    "batch_size = 11\n",
    "C_list = ModelBackground_1['data_param']['C']\n",
    "\n",
    "ht_next_list_array = np.atleast_2d(ModelBackground_1['Categorical_dist_param']['ht_batch_list'])\n",
    "\n",
    "ht_list_rewards = compute_reward_for_all_cat_variable(ht_next_list_array, C_list,\n",
    "                                                      data, result, batch_size)\n",
    "\n",
    "Wc_list = update_weights_for_all_cat_var(C_list, \n",
    "                ht_list_rewards, ModelBackground_1['Categorical_dist_param']['ht_list'],\n",
    "                ModelBackground_1['Wc_list'], ModelBackground_1['gamma_list'],\n",
    "                ModelBackground_1['Categorical_dist_param']['probabilityDistribution_list'],\n",
    "                batch_size, ModelBackground_1['Categorical_dist_param']['S0'])"
   ]
  },
  {
   "cell_type": "code",
   "execution_count": 7,
   "id": "a1bc9171",
   "metadata": {},
   "outputs": [
    {
     "name": "stdout",
     "output_type": "stream",
     "text": [
      "check2\n",
      "1\n",
      "(1000, 1)\n",
      "(1000, 1, 1)\n",
      "[[[1.         0.02068382 0.25912445 0.49532358]]]\n",
      "(1000, 1)\n",
      "(1000, 1, 1)\n",
      "[[[2.         0.32133866 0.09901894 0.00461733]]]\n",
      "(1000, 1)\n",
      "(1000, 1, 1)\n",
      "[[[4.         0.00892727 0.03676999 0.39043469]]]\n",
      "(1000, 1)\n",
      "(1000, 1, 1)\n",
      "[[[5.         0.96086313 0.3178407  0.96193733]]]\n",
      "(1000, 1)\n",
      "(1000, 1, 1)\n",
      "[[[6.         0.04526179 0.05977024 0.67905915]]]\n",
      "(1000, 1)\n",
      "(1000, 1, 1)\n",
      "[[[8.         0.02209513 0.2206751  0.46768387]]]\n",
      "(1000, 1)\n",
      "(1000, 1, 1)\n",
      "[[[10.          0.99468886  0.28231993  0.19095397]]]\n",
      "(1000, 1)\n",
      "(1000, 1, 1)\n",
      "[[[1.30000000e+01 3.15385229e-03 8.09358993e-02 1.94140136e-01]]]\n",
      "(1000, 1)\n",
      "(1000, 1, 1)\n",
      "[[[15.          0.01510439  0.9343982   0.36660942]]]\n",
      "(1000, 1)\n",
      "(1000, 1, 1)\n",
      "[[[1.70000000e+01 1.63031654e-02 2.18462812e-01 7.29475170e-02]]]\n",
      "(1000, 1)\n",
      "(1000, 1, 1)\n",
      "[[[1.80000000e+01 8.68476167e-03 4.53224737e-02 1.20643475e-01]]]\n",
      "       0         1         2         3\n",
      "0    1.0  0.020684  0.259124  0.495324\n",
      "1    2.0  0.321339  0.099019  0.004617\n",
      "2    4.0  0.008927  0.036770  0.390435\n",
      "3    5.0  0.960863  0.317841  0.961937\n",
      "4    6.0  0.045262  0.059770  0.679059\n",
      "5    8.0  0.022095  0.220675  0.467684\n",
      "6   10.0  0.994689  0.282320  0.190954\n",
      "7   13.0  0.003154  0.080936  0.194140\n",
      "8   15.0  0.015104  0.934398  0.366609\n",
      "9   17.0  0.016303  0.218463  0.072948\n",
      "10  18.0  0.008685  0.045322  0.120643\n"
     ]
    }
   ],
   "source": [
    "z_next, Categorical_dist_param = ask_tell(data, result, ModelBackground_1['data_param'], \n",
    "                                          'RBF', 'thompson_sampling', batch_size, \n",
    "                                          Wc_list, ModelBackground_1['gamma_list'])"
   ]
  },
  {
   "cell_type": "code",
   "execution_count": 8,
   "id": "39fdb30b",
   "metadata": {},
   "outputs": [],
   "source": [
    "pd.DataFrame(z_next).to_csv('./Round2/2_ExperimentalDesign.csv')\n",
    "\n"
   ]
  },
  {
   "cell_type": "markdown",
   "id": "151d0825",
   "metadata": {},
   "source": [
    "### 4. Store the Model background parameters"
   ]
  },
  {
   "cell_type": "code",
   "execution_count": 9,
   "id": "9aa06101",
   "metadata": {},
   "outputs": [],
   "source": [
    "ModelBackground_2 = {}\n",
    "ModelBackground_2 = {'gamma_list': ModelBackground_1['gamma_list'],  'budget': ModelBackground_1['budget'],\n",
    "                 'bestUpperBoundEstimate': ModelBackground_1['bestUpperBoundEstimate'], \n",
    "                     'Wc_list_init': ModelBackground_1['Wc_list_init'],\n",
    "                   'Wc_list': Wc_list, 'data_param': ModelBackground_1['data_param'], \n",
    "                   'Categorical_dist_param': Categorical_dist_param}\n",
    "\n",
    "import pickle\n",
    "with open('./Round2/2_ModelBackground.pkl', 'wb') as output:\n",
    "    # Pickle dictionary using protocol 0.\n",
    "    pickle.dump(ModelBackground_2, output)"
   ]
  },
  {
   "cell_type": "markdown",
   "id": "fd9e3518",
   "metadata": {},
   "source": [
    "### 5. Conversion to actual experimental execution"
   ]
  },
  {
   "cell_type": "code",
   "execution_count": 10,
   "id": "0d47d538",
   "metadata": {},
   "outputs": [],
   "source": [
    "Stock_solid = pd.read_excel(carbon_source_fiepath +'CarbonSourceInfo.xlsx', 'Stocks_solid')\n",
    "Stock_liquid = pd.read_excel(carbon_source_fiepath +'CarbonSourceInfo.xlsx', 'Stocks_liquid')\n",
    "\n",
    "Carbon_Names = Stock_solid['Carbon Source'].values.tolist()\n",
    "Carbon_Names.append(Stock_liquid['Carbon Source'][1])\n",
    "Carbon_Names.append(Stock_liquid['Carbon Source'][2])\n",
    "\n",
    "Carbon_Ub = [50]*17 #[g/L]\n",
    "Carbon_Ub.append(10) # Glycerol [mL/L]\n",
    "Carbon_Ub.append(50) #Ethanol [mL/L]\n",
    "\n",
    "OG_Gly_Ub = 100 #[mL/L]\n",
    "Met_Ub = 100 #[mL/L]\n",
    "\n",
    "Stock_Conc = Stock_solid['g/mL'].values.tolist()\n",
    "Stock_Conc.append(Stock_liquid['mL/mL'][1].tolist())\n",
    "Stock_Conc.append(Stock_liquid['mL/mL'][2].tolist())\n",
    "\n",
    "OG_Stock_Conc = Stock_liquid['mL/mL'][0].tolist()\n",
    "\n"
   ]
  },
  {
   "cell_type": "code",
   "execution_count": 11,
   "id": "8d89cfe6",
   "metadata": {},
   "outputs": [],
   "source": [
    "Selected_Carbon = []\n",
    "Carbon_mL = []\n",
    "OG_Gly_mL = []\n",
    "Met_mL = []\n",
    "\n",
    "\n",
    "for i in range(batch_size):\n",
    "    Selected_Carbon.append(Carbon_Names[int(z_next[i,0])])\n",
    "    temp_factor = Carbon_Ub[int(z_next[i,0])]/ Stock_Conc[int(z_next[i,0])]\n",
    "    temp = z_next[i,1] * temp_factor * 3\n",
    "    Carbon_mL.append(temp)\n",
    "    OG_Gly_mL.append(z_next[i,2] * OG_Gly_Ub * 3/OG_Stock_Conc)\n",
    "    Met_mL.append(z_next[i,3] * Met_Ub * 3)\n",
    "    \n",
    "\n",
    "\n",
    "Experiment_2_3mL = {'Carbon_Type': Selected_Carbon,\n",
    "               'Conc_Carbon [uL]': Carbon_mL,\n",
    "               'Gly_OG [uL]': OG_Gly_mL,\n",
    "               'Met_Prod [uL]': Met_mL}\n",
    "\n",
    "pd.DataFrame(Experiment_2_3mL).to_csv('./Round2/2_ExperimentPlan_mLValue_3mL.csv')"
   ]
  },
  {
   "cell_type": "code",
   "execution_count": 12,
   "id": "6cec43e6",
   "metadata": {},
   "outputs": [
    {
     "data": {
      "text/plain": [
       "<matplotlib.collections.PathCollection at 0x7ff1e0eb5b10>"
      ]
     },
     "execution_count": 12,
     "metadata": {},
     "output_type": "execute_result"
    },
    {
     "data": {
      "image/png": "[encoded data removed]",
      "text/plain": [
       "<Figure size 432x288 with 1 Axes>"
      ]
     },
     "metadata": {
      "needs_background": "light"
     },
     "output_type": "display_data"
    }
   ],
   "source": [
    "plt.scatter(data[:,0], data[:,1])\n",
    "plt.scatter(z_next[:,0],z_next[:,1])\n"
   ]
  },
  {
   "cell_type": "code",
   "execution_count": 13,
   "id": "a05eaab4",
   "metadata": {},
   "outputs": [
    {
     "data": {
      "text/plain": [
       "<matplotlib.collections.PathCollection at 0x7ff1f3b27410>"
      ]
     },
     "execution_count": 13,
     "metadata": {},
     "output_type": "execute_result"
    },
    {
     "data": {
      "image/png": "[encoded data removed]",
      "text/plain": [
       "<Figure size 432x288 with 1 Axes>"
      ]
     },
     "metadata": {
      "needs_background": "light"
     },
     "output_type": "display_data"
    }
   ],
   "source": [
    "plt.scatter(data[:,2], data[:,3])\n",
    "plt.scatter(z_next[:,2],z_next[:,3])\n"
   ]
  },
  {
   "cell_type": "code",
   "execution_count": null,
   "id": "8bb4839d",
   "metadata": {},
   "outputs": [],
   "source": []
  }
 ],
 "metadata": {
  "kernelspec": {
   "display_name": "Python 3 (ipykernel)",
   "language": "python",
   "name": "python3"
  },
  "language_info": {
   "codemirror_mode": {
    "name": "ipython",
    "version": 3
   },
   "file_extension": ".py",
   "mimetype": "text/x-python",
   "name": "python",
   "nbconvert_exporter": "python",
   "pygments_lexer": "ipython3",
   "version": "3.7.13"
  }
 },
 "nbformat": 4,
 "nbformat_minor": 5
}
