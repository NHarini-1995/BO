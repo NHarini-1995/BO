{
 "cells": [
  {
   "cell_type": "code",
   "execution_count": 1,
   "id": "c3415942",
   "metadata": {},
   "outputs": [],
   "source": [
    "import math\n",
    "import collections\n",
    "import pickle\n",
    "import random\n",
    "import scipy\n",
    "import json\n",
    "\n",
    "from matplotlib import pyplot as plt\n",
    "\n",
    "import GPy\n",
    "import numpy as np\n",
    "import pandas as pd\n",
    "from tqdm import tqdm\n",
    "\n",
    "# from Kernel import MixtureViaSumAndProduct, CategoryOverlapKernel\n",
    "from InitialData_Gen import initialize\n",
    "from AcquisitionFunctions import EI, PI, UCB, AcquisitionOnSubspace\n",
    "# from SamplingCategorical import compute_prob_dist_and_draw_hts\n",
    "from UpdateCategoricalWeight import compute_reward_for_all_cat_variable, update_weights_for_all_cat_var\n",
    "from optimization import sample_then_minimize\n",
    "\n",
    "from AskTell import ask_tell\n",
    "\n",
    "from scipy.optimize import minimize\n",
    "\n",
    "from typing import Union, Tuple\n",
    "from paramz.transformations import Logexp"
   ]
  },
  {
   "cell_type": "markdown",
   "id": "2e6c1563",
   "metadata": {},
   "source": [
    "1. C - List of number of categroies corresponding to each categorical variable\n",
    "2. Nc - Number of categorical variables\n",
    "3. Nx - Continuous variables\n",
    "4. h - categorical\n",
    "5. x - continuous\n",
    "6. z - [h, x]\n",
    "\n",
    "7. nDim - Nc + Nx\n",
    "8. bounds - Lower and Upper bounds of both Catergorical variables and continuous variables\n",
    "\n",
    "9. n_iter - Number of iterations to run the algorithm\n",
    "10. initN - Number of intial data points\n",
    "11. batch_size (b) - Number of experiments to be generated in each iteration\n",
    "\n",
    "12. acq_type - Acquisition Type ('EI', 'LCB', 'ThompsonSampling')"
   ]
  },
  {
   "cell_type": "markdown",
   "id": "1ab7e7ce",
   "metadata": {},
   "source": [
    "### 1. Load Model background from the pickle file"
   ]
  },
  {
   "cell_type": "code",
   "execution_count": null,
   "id": "f9150e3c",
   "metadata": {},
   "outputs": [],
   "source": [
    "import sys\n",
    "myString = sys.path[0]\n",
    "split_list = myString.split(\"/\")\n",
    "root = ''\n",
    "for l in split_list[1:-2]:\n",
    "    root = root +'/'+ l\n",
    "    \n",
    "main_file_path = root + '/RBDJ/'\n",
    "carbon_source_fiepath = root + '/'"
   ]
  },
  {
   "cell_type": "code",
   "execution_count": 7,
   "id": "f93cfb4e",
   "metadata": {},
   "outputs": [],
   "source": [
    "# load data from pkl file\n",
    "background_file = main_file_path +  \"Codes/Round2/2_ModelBackground.pkl\"\n",
    "with open(background_file, \"rb\") as fp:\n",
    "    ModelBackground_2 = pickle.load(fp)\n",
    "    "
   ]
  },
  {
   "cell_type": "markdown",
   "id": "45bfd81f",
   "metadata": {},
   "source": [
    "### 2. Read Experimental condition and results "
   ]
  },
  {
   "cell_type": "code",
   "execution_count": 5,
   "id": "3c394e14",
   "metadata": {},
   "outputs": [],
   "source": [
    "#Load a titer quantification file and create the result array\n",
    "round0_summary = pd.read_csv(main_file_path +'Exp/Round0/Round0_Result_Summary.csv')\n",
    "result0 = round0_summary['Specific Productivity'].iloc[:-1,].values.reshape(-1,1)\n",
    "\n",
    "Exp0 = pd.read_csv(main_file_path +\"Codes/Round0/Reconstructed_Round0.csv\")\n",
    "data0 = Exp0.iloc[:,1:].values\n"
   ]
  },
  {
   "cell_type": "code",
   "execution_count": 4,
   "id": "7118ce3d",
   "metadata": {},
   "outputs": [],
   "source": [
    "#Load a titer quantification file and create the result array\n",
    "round1_summary = pd.read_csv(main_file_path + 'Exp/Round1/Round1_Result_Summary.csv')\n",
    "result1 = round1_summary['Specific Productivity'].iloc[:-1,].values.reshape(-1,1)\n",
    "\n",
    "Exp1 = pd.read_csv(main_file_path +\"Codes/Round1/Reconstructed_Round1.csv\")\n",
    "data1 = Exp1.iloc[:,1:].values\n"
   ]
  },
  {
   "cell_type": "code",
   "execution_count": 3,
   "id": "b936ec74",
   "metadata": {},
   "outputs": [],
   "source": [
    "#Load a titer quantification file and create the result array\n",
    "round2_summary = pd.read_csv(main_file_path + 'Exp/Round2/Round2_Result_Summary.csv')\n",
    "result2 = round2_summary['Specific Productivity'].iloc[:-1,].values.reshape(-1,1)\n",
    "\n",
    "Exp2 = pd.read_csv(main_file_path + \"Codes/Round2/Reconstructed_Round2.csv\")\n",
    "data2 = Exp2.iloc[:,1:].values\n"
   ]
  },
  {
   "cell_type": "code",
   "execution_count": 6,
   "id": "9492459e",
   "metadata": {},
   "outputs": [],
   "source": [
    "data = np.concatenate((data0, data1, data2), axis = 0)\n",
    "result = np.concatenate((result0, result1, result2), axis = 0)\n"
   ]
  },
  {
   "cell_type": "markdown",
   "id": "344d09fe",
   "metadata": {},
   "source": [
    "### 3. Update rewards and weights"
   ]
  },
  {
   "cell_type": "code",
   "execution_count": 8,
   "id": "163cb67b",
   "metadata": {},
   "outputs": [
    {
     "name": "stdout",
     "output_type": "stream",
     "text": [
      "0\n",
      "[-0.47960078 -1.31372427 -0.40638091 -2.07332995 -1.75474821 -3.33302771\n",
      " -2.05470076 -1.60653801 -3.72537476 -1.62776126 -0.20264547]\n"
     ]
    }
   ],
   "source": [
    "batch_size = 11\n",
    "C_list = ModelBackground_2['data_param']['C']\n",
    "\n",
    "ht_next_list_array = np.atleast_2d(ModelBackground_2['Categorical_dist_param']['ht_batch_list'])\n",
    "\n",
    "ht_list_rewards = compute_reward_for_all_cat_variable(ht_next_list_array, C_list,\n",
    "                                                      data, result, batch_size)\n",
    "\n",
    "Wc_list = update_weights_for_all_cat_var(C_list, \n",
    "                ht_list_rewards, ModelBackground_2['Categorical_dist_param']['ht_list'],\n",
    "                ModelBackground_2['Wc_list'], ModelBackground_2['gamma_list'],\n",
    "                ModelBackground_2['Categorical_dist_param']['probabilityDistribution_list'],\n",
    "                batch_size, ModelBackground_2['Categorical_dist_param']['S0'])"
   ]
  },
  {
   "cell_type": "code",
   "execution_count": 9,
   "id": "a1bc9171",
   "metadata": {},
   "outputs": [
    {
     "name": "stdout",
     "output_type": "stream",
     "text": [
      "check2\n",
      "1\n",
      "(1000, 1)\n",
      "(1000, 1, 1)\n",
      "[[[0.         0.2894349  0.03199961 0.1529373 ]]]\n",
      "(1000, 1)\n",
      "(1000, 1, 1)\n",
      "[[[2.         0.24024592 0.01010408 0.10084353]]]\n",
      "(1000, 1)\n",
      "(1000, 1, 1)\n",
      "[[[3.         0.22751386 0.01710904 0.03871288]]]\n",
      "(1000, 1)\n",
      "(1000, 1, 1)\n",
      "[[[8.         0.04770231 0.03500197 0.05023314]]]\n",
      "(1000, 1)\n",
      "(1000, 1, 1)\n",
      "[[[9.         0.27314975 0.0363245  0.15221524]]]\n",
      "(1000, 1)\n",
      "(1000, 1, 1)\n",
      "[[[10.          0.2785156   0.03190651  0.05445538]]]\n",
      "(1000, 1)\n",
      "(1000, 1, 1)\n",
      "[[[12.          0.19806608  0.11254384  0.05355341]]]\n",
      "(1000, 1)\n",
      "(1000, 1, 1)\n",
      "[[[13.          0.30086259  0.04749586  0.2482395 ]]]\n",
      "(1000, 1)\n",
      "(1000, 1, 1)\n",
      "[[[15.          0.18638632  0.02323059  0.12787796]]]\n",
      "(1000, 1)\n",
      "(1000, 1, 1)\n",
      "[[[16.          0.04758047  0.04106269  0.2136643 ]]]\n",
      "(1000, 1)\n",
      "(1000, 1, 1)\n",
      "[[[17.          0.18353617  0.11033342  0.03720926]]]\n",
      "       0         1         2         3\n",
      "0    0.0  0.289435  0.032000  0.152937\n",
      "1    2.0  0.240246  0.010104  0.100844\n",
      "2    3.0  0.227514  0.017109  0.038713\n",
      "3    8.0  0.047702  0.035002  0.050233\n",
      "4    9.0  0.273150  0.036325  0.152215\n",
      "5   10.0  0.278516  0.031907  0.054455\n",
      "6   12.0  0.198066  0.112544  0.053553\n",
      "7   13.0  0.300863  0.047496  0.248240\n",
      "8   15.0  0.186386  0.023231  0.127878\n",
      "9   16.0  0.047580  0.041063  0.213664\n",
      "10  17.0  0.183536  0.110333  0.037209\n"
     ]
    }
   ],
   "source": [
    "z_next, Categorical_dist_param = ask_tell(data, result, ModelBackground_1['data_param'], \n",
    "                                          'RBF', 'thompson_sampling', batch_size, \n",
    "                                          Wc_list, ModelBackground_1['gamma_list'])"
   ]
  },
  {
   "cell_type": "code",
   "execution_count": 10,
   "id": "39fdb30b",
   "metadata": {},
   "outputs": [],
   "source": [
    "pd.DataFrame(z_next).to_csv('./Round3/3_ExperimentalDesign.csv')\n",
    "\n"
   ]
  },
  {
   "cell_type": "markdown",
   "id": "151d0825",
   "metadata": {},
   "source": [
    "### 4. Store the Model background parameters"
   ]
  },
  {
   "cell_type": "code",
   "execution_count": 11,
   "id": "9aa06101",
   "metadata": {},
   "outputs": [],
   "source": [
    "ModelBackground_3 = {}\n",
    "ModelBackground_3 = {'gamma_list': ModelBackground_2['gamma_list'],  'budget': ModelBackground_2['budget'],\n",
    "                 'bestUpperBoundEstimate': ModelBackground_2['bestUpperBoundEstimate'], \n",
    "                     'Wc_list_init': ModelBackground_2['Wc_list_init'],\n",
    "                   'Wc_list': Wc_list, 'data_param': ModelBackground_2['data_param'], \n",
    "                   'Categorical_dist_param': Categorical_dist_param}\n",
    "\n",
    "import pickle\n",
    "with open('./Round3/3_ModelBackground.pkl', 'wb') as output:\n",
    "    # Pickle dictionary using protocol 0.\n",
    "    pickle.dump(ModelBackground_3, output)"
   ]
  },
  {
   "cell_type": "markdown",
   "id": "fd9e3518",
   "metadata": {},
   "source": [
    "### 5. Conversion to actual experimental execution"
   ]
  },
  {
   "cell_type": "code",
   "execution_count": 12,
   "id": "0d47d538",
   "metadata": {},
   "outputs": [],
   "source": [
    "Stock_solid = pd.read_excel(carbon_source_fiepath +'CarbonSourceInfo.xlsx', 'Stocks_solid')\n",
    "Stock_liquid = pd.read_excel(carbon_source_fiepath +'CarbonSourceInfo.xlsx', 'Stocks_liquid')\n",
    "\n",
    "Carbon_Names = Stock_solid['Carbon Source'].values.tolist()\n",
    "Carbon_Names.append(Stock_liquid['Carbon Source'][1])\n",
    "Carbon_Names.append(Stock_liquid['Carbon Source'][2])\n",
    "\n",
    "Carbon_Ub = [50]*17 #[g/L]\n",
    "Carbon_Ub.append(10) # Glycerol [mL/L]\n",
    "Carbon_Ub.append(50) #Ethanol [mL/L]\n",
    "\n",
    "OG_Gly_Ub = 100 #[mL/L]\n",
    "Met_Ub = 100 #[mL/L]\n",
    "\n",
    "Stock_Conc = Stock_solid['g/mL'].values.tolist()\n",
    "Stock_Conc.append(Stock_liquid['mL/mL'][1].tolist())\n",
    "Stock_Conc.append(Stock_liquid['mL/mL'][2].tolist())\n",
    "\n",
    "OG_Stock_Conc = Stock_liquid['mL/mL'][0].tolist()\n",
    "\n"
   ]
  },
  {
   "cell_type": "code",
   "execution_count": 13,
   "id": "8d89cfe6",
   "metadata": {},
   "outputs": [],
   "source": [
    "Selected_Carbon = []\n",
    "Carbon_mL = []\n",
    "OG_Gly_mL = []\n",
    "Met_mL = []\n",
    "\n",
    "\n",
    "for i in range(batch_size):\n",
    "    Selected_Carbon.append(Carbon_Names[int(z_next[i,0])])\n",
    "    temp_factor = Carbon_Ub[int(z_next[i,0])]/ Stock_Conc[int(z_next[i,0])]\n",
    "    temp = z_next[i,1] * temp_factor * 3\n",
    "    Carbon_mL.append(temp)\n",
    "    OG_Gly_mL.append(z_next[i,2] * OG_Gly_Ub * 3/OG_Stock_Conc)\n",
    "    Met_mL.append(z_next[i,3] * Met_Ub * 3)\n",
    "    \n",
    "\n",
    "\n",
    "Experiment_3_3mL = {'Carbon_Type': Selected_Carbon,\n",
    "               'Conc_Carbon [uL]': Carbon_mL,\n",
    "               'Gly_OG [uL]': OG_Gly_mL,\n",
    "               'Met_Prod [uL]': Met_mL}\n",
    "\n",
    "pd.DataFrame(Experiment_3_3mL).to_csv('./Round3/3_ExperimentPlan_mLValue_3mL.csv')"
   ]
  },
  {
   "cell_type": "code",
   "execution_count": 14,
   "id": "6cec43e6",
   "metadata": {},
   "outputs": [
    {
     "data": {
      "text/plain": [
       "<matplotlib.collections.PathCollection at 0x7f951121c4d0>"
      ]
     },
     "execution_count": 14,
     "metadata": {},
     "output_type": "execute_result"
    },
    {
     "data": {
      "image/png": "[encoded data removed]",
      "text/plain": [
       "<Figure size 432x288 with 1 Axes>"
      ]
     },
     "metadata": {
      "needs_background": "light"
     },
     "output_type": "display_data"
    }
   ],
   "source": [
    "plt.scatter(data[:,0], data[:,1])\n",
    "plt.scatter(z_next[:,0],z_next[:,1])\n"
   ]
  },
  {
   "cell_type": "code",
   "execution_count": 15,
   "id": "a05eaab4",
   "metadata": {},
   "outputs": [
    {
     "data": {
      "text/plain": [
       "<matplotlib.collections.PathCollection at 0x7f9502426050>"
      ]
     },
     "execution_count": 15,
     "metadata": {},
     "output_type": "execute_result"
    },
    {
     "data": {
      "image/png": "[encoded data removed]",
      "text/plain": [
       "<Figure size 432x288 with 1 Axes>"
      ]
     },
     "metadata": {
      "needs_background": "light"
     },
     "output_type": "display_data"
    }
   ],
   "source": [
    "plt.scatter(data[:,2], data[:,3])\n",
    "plt.scatter(z_next[:,2],z_next[:,3])\n"
   ]
  },
  {
   "cell_type": "code",
   "execution_count": null,
   "id": "8bb4839d",
   "metadata": {},
   "outputs": [],
   "source": []
  }
 ],
 "metadata": {
  "kernelspec": {
   "display_name": "Python 3 (ipykernel)",
   "language": "python",
   "name": "python3"
  },
  "language_info": {
   "codemirror_mode": {
    "name": "ipython",
    "version": 3
   },
   "file_extension": ".py",
   "mimetype": "text/x-python",
   "name": "python",
   "nbconvert_exporter": "python",
   "pygments_lexer": "ipython3",
   "version": "3.7.13"
  }
 },
 "nbformat": 4,
 "nbformat_minor": 5
}
