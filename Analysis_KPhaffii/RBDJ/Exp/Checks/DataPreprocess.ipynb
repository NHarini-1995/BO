{
 "cells": [
  {
   "cell_type": "code",
   "execution_count": 1,
   "id": "f27c8be0",
   "metadata": {},
   "outputs": [],
   "source": [
    "import math\n",
    "import collections\n",
    "import pickle\n",
    "import random\n",
    "import scipy\n",
    "import json\n",
    "\n",
    "from matplotlib import pyplot as plt\n",
    "\n",
    "import GPy\n",
    "import numpy as np\n",
    "import pandas as pd\n",
    "from tqdm import tqdm\n"
   ]
  },
  {
   "cell_type": "markdown",
   "id": "0d24a23e",
   "metadata": {},
   "source": [
    "OG_plate1 = pd.read_excel('15Nov22_Checks.xlsx', 'OG_Plate1')\n",
    "OG_plate2 = pd.read_excel('15Nov22_Checks.xlsx', 'OG_Plate2')\n",
    "OG_plate3 = pd.read_excel('15Nov22_Checks.xlsx', 'OG_Plate3')\n",
    "\n",
    "Prod_plate1 = pd.read_excel('15Nov22_Checks.xlsx', 'Prod_Plate1')\n",
    "Prod_plate2 = pd.read_excel('15Nov22_Checks.xlsx', 'Prod_Plate2')\n",
    "Prod_plate3 = pd.read_excel('15Nov22_Checks.xlsx', 'Prod_Plate3')"
   ]
  },
  {
   "cell_type": "markdown",
   "id": "7a94adc5",
   "metadata": {},
   "source": [
    "og = []\n",
    "\n",
    "for row in np.arange(48,52):\n",
    "    og = og + OG_plate1.iloc[row, 8:15].values.tolist()\n",
    "for row in np.arange(48,52):\n",
    "    og = og + OG_plate2.iloc[row, 8:15].values.tolist()\n",
    "for row in np.arange(48,52):\n",
    "    og = og + OG_plate3.iloc[row, 8:15].values.tolist()"
   ]
  },
  {
   "cell_type": "markdown",
   "id": "1be59ab6",
   "metadata": {},
   "source": [
    "Prod = []\n",
    "for row in np.arange(48,52):\n",
    "    Prod = Prod + Prod_plate1.iloc[row, 8:15].values.tolist()\n",
    "for row in np.arange(48,52):\n",
    "    Prod = Prod + Prod_plate2.iloc[row, 8:15].values.tolist()\n",
    "for row in np.arange(48,52):\n",
    "    Prod = Prod + Prod_plate3.iloc[row, 8:15].values.tolist()"
   ]
  },
  {
   "cell_type": "markdown",
   "id": "1a3411bb",
   "metadata": {},
   "source": [
    "OD_data = pd.concat((pd.DataFrame(Prod),pd.DataFrame(og)), axis = 1)\n",
    "OD_data.columns = ['OD_Prod', 'OD_OG']\n",
    "OD_data.to_excel('OD.xlsx', sheet_name='Sheet1', index=False, startcol = 0)"
   ]
  },
  {
   "cell_type": "code",
   "execution_count": 2,
   "id": "ef624963",
   "metadata": {},
   "outputs": [
    {
     "data": {
      "text/html": [
       "<div>\n",
       "<style scoped>\n",
       "    .dataframe tbody tr th:only-of-type {\n",
       "        vertical-align: middle;\n",
       "    }\n",
       "\n",
       "    .dataframe tbody tr th {\n",
       "        vertical-align: top;\n",
       "    }\n",
       "\n",
       "    .dataframe thead th {\n",
       "        text-align: right;\n",
       "    }\n",
       "</style>\n",
       "<table border=\"1\" class=\"dataframe\">\n",
       "  <thead>\n",
       "    <tr style=\"text-align: right;\">\n",
       "      <th></th>\n",
       "      <th>Production Condition</th>\n",
       "      <th>Titer</th>\n",
       "      <th>OD_Prod</th>\n",
       "      <th>OD_OG</th>\n",
       "    </tr>\n",
       "  </thead>\n",
       "  <tbody>\n",
       "    <tr>\n",
       "      <th>0</th>\n",
       "      <td>Exp0</td>\n",
       "      <td>3.553466</td>\n",
       "      <td>25.021250</td>\n",
       "      <td>3.97875</td>\n",
       "    </tr>\n",
       "    <tr>\n",
       "      <th>1</th>\n",
       "      <td>Exp0</td>\n",
       "      <td>3.319323</td>\n",
       "      <td>24.387500</td>\n",
       "      <td>3.74375</td>\n",
       "    </tr>\n",
       "    <tr>\n",
       "      <th>2</th>\n",
       "      <td>Exp0</td>\n",
       "      <td>3.611843</td>\n",
       "      <td>23.621250</td>\n",
       "      <td>3.77000</td>\n",
       "    </tr>\n",
       "    <tr>\n",
       "      <th>3</th>\n",
       "      <td>Exp1</td>\n",
       "      <td>17.978141</td>\n",
       "      <td>9.028750</td>\n",
       "      <td>3.86000</td>\n",
       "    </tr>\n",
       "    <tr>\n",
       "      <th>4</th>\n",
       "      <td>Exp1</td>\n",
       "      <td>17.542393</td>\n",
       "      <td>8.461250</td>\n",
       "      <td>3.81250</td>\n",
       "    </tr>\n",
       "    <tr>\n",
       "      <th>...</th>\n",
       "      <td>...</td>\n",
       "      <td>...</td>\n",
       "      <td>...</td>\n",
       "      <td>...</td>\n",
       "    </tr>\n",
       "    <tr>\n",
       "      <th>67</th>\n",
       "      <td>Exp22</td>\n",
       "      <td>78.727926</td>\n",
       "      <td>6.693750</td>\n",
       "      <td>4.29625</td>\n",
       "    </tr>\n",
       "    <tr>\n",
       "      <th>68</th>\n",
       "      <td>Exp22</td>\n",
       "      <td>82.137571</td>\n",
       "      <td>7.312500</td>\n",
       "      <td>4.74750</td>\n",
       "    </tr>\n",
       "    <tr>\n",
       "      <th>69</th>\n",
       "      <td>Exp23</td>\n",
       "      <td>54.431361</td>\n",
       "      <td>8.892500</td>\n",
       "      <td>4.13375</td>\n",
       "    </tr>\n",
       "    <tr>\n",
       "      <th>70</th>\n",
       "      <td>Exp23</td>\n",
       "      <td>51.222908</td>\n",
       "      <td>8.926250</td>\n",
       "      <td>4.27125</td>\n",
       "    </tr>\n",
       "    <tr>\n",
       "      <th>71</th>\n",
       "      <td>Exp23</td>\n",
       "      <td>58.701855</td>\n",
       "      <td>10.543333</td>\n",
       "      <td>4.16000</td>\n",
       "    </tr>\n",
       "  </tbody>\n",
       "</table>\n",
       "<p>72 rows × 4 columns</p>\n",
       "</div>"
      ],
      "text/plain": [
       "   Production Condition      Titer    OD_Prod    OD_OG\n",
       "0                  Exp0   3.553466  25.021250  3.97875\n",
       "1                  Exp0   3.319323  24.387500  3.74375\n",
       "2                  Exp0   3.611843  23.621250  3.77000\n",
       "3                  Exp1  17.978141   9.028750  3.86000\n",
       "4                  Exp1  17.542393   8.461250  3.81250\n",
       "..                  ...        ...        ...      ...\n",
       "67                Exp22  78.727926   6.693750  4.29625\n",
       "68                Exp22  82.137571   7.312500  4.74750\n",
       "69                Exp23  54.431361   8.892500  4.13375\n",
       "70                Exp23  51.222908   8.926250  4.27125\n",
       "71                Exp23  58.701855  10.543333  4.16000\n",
       "\n",
       "[72 rows x 4 columns]"
      ]
     },
     "execution_count": 2,
     "metadata": {},
     "output_type": "execute_result"
    }
   ],
   "source": [
    "Output = pd.read_excel('Titer_OD.xlsx')\n",
    "Output"
   ]
  },
  {
   "cell_type": "code",
   "execution_count": 3,
   "id": "3563b993",
   "metadata": {},
   "outputs": [],
   "source": [
    "initN = Output.shape[0]\n",
    "\n",
    "Titer = []\n",
    "Prod_OD = []\n",
    "OG_OD = []\n",
    "Spec_prod = []\n",
    "Conditions = []\n",
    "names_all = Output['Production Condition'].unique()\n",
    "\n",
    "for name in names_all:\n",
    "    Conditions.append(name)\n",
    "    temp1 = Output['Titer'].loc[Output ['Production Condition'] == name].mean()\n",
    "    temp2 = Output['OD_Prod'].loc[Output ['Production Condition'] == name].mean()\n",
    "    temp3 = Output['OD_OG'].loc[Output ['Production Condition'] == name].mean()\n",
    "    \n",
    "    Titer.append(temp1) \n",
    "    Prod_OD.append(temp2)\n",
    "    OG_OD.append(temp3)\n",
    "    Spec_prod.append(temp1/temp2)\n",
    "\n",
    "Data = {'Condition': Conditions, 'Titer': Titer, \n",
    "         'Specific Productivity': Spec_prod, 'Prod_OD': Prod_OD, 'OG_OD': OG_OD}\n",
    "\n",
    "Round3_summary = pd.DataFrame(Data)"
   ]
  },
  {
   "cell_type": "code",
   "execution_count": 4,
   "id": "b713c153",
   "metadata": {},
   "outputs": [
    {
     "data": {
      "text/plain": [
       "<matplotlib.collections.PathCollection at 0x7f794a7eeed0>"
      ]
     },
     "execution_count": 4,
     "metadata": {},
     "output_type": "execute_result"
    },
    {
     "data": {
      "image/png": "[encoded data removed]",
      "text/plain": [
       "<Figure size 432x288 with 1 Axes>"
      ]
     },
     "metadata": {
      "needs_background": "light"
     },
     "output_type": "display_data"
    }
   ],
   "source": [
    "plt.scatter(Titer, Spec_prod)"
   ]
  },
  {
   "cell_type": "code",
   "execution_count": 5,
   "id": "f5e2fa9c",
   "metadata": {},
   "outputs": [],
   "source": [
    "Round3_summary.to_csv('Check_Result_Summary.csv')"
   ]
  },
  {
   "cell_type": "code",
   "execution_count": 8,
   "id": "c89d5018",
   "metadata": {},
   "outputs": [],
   "source": [
    "Exp_4_pd = pd.read_csv('/Users/harini/Desktop/BO/BO_MediaOptimization/Molecules/RBDJ/RBDJ_Prod_CoCaBO/Codes/Checks/Reconstructed_Check.csv')\n",
    "\n",
    "Exp_4 = Exp_4_pd.iloc[:,1:].values\n",
    "\n",
    "initN = 24"
   ]
  },
  {
   "cell_type": "code",
   "execution_count": 9,
   "id": "cc8f50a9",
   "metadata": {},
   "outputs": [],
   "source": [
    "Stock_solid = pd.read_excel('/Users/harini/Desktop/BO/BO_MediaOptimization/Molecules/RBDJ/RBDJ_Prod_CoCaBO/Codes/CarbonSourceInfo.xlsx', 'Stocks_solid')\n",
    "Stock_liquid = pd.read_excel('/Users/harini/Desktop/BO/BO_MediaOptimization/Molecules/RBDJ/RBDJ_Prod_CoCaBO/Codes/CarbonSourceInfo.xlsx', 'Stocks_liquid')\n",
    "\n",
    "Carbon_Names = Stock_solid['Carbon Source'].values.tolist()\n",
    "Carbon_Names.append(Stock_liquid['Carbon Source'][1])\n",
    "Carbon_Names.append(Stock_liquid['Carbon Source'][2])\n",
    "\n",
    "\n",
    "Carbon_Ub = [50]*17 #[g/L]\n",
    "Carbon_Ub.append(10) # Glycerol [mL/L]\n",
    "Carbon_Ub.append(50) #Ethanol [mL/L]\n",
    "\n",
    "OG_Gly_Ub = 100 #[mL/L]\n",
    "Met_Ub = 100 #[mL/L]\n",
    "\n",
    "\n",
    "Stock_Conc = Stock_solid['g/mL'].values.tolist()\n",
    "Stock_Conc.append(Stock_liquid['mL/mL'][1].tolist())\n",
    "Stock_Conc.append(Stock_liquid['mL/mL'][2].tolist())\n",
    "\n",
    "OG_Stock_Conc = Stock_liquid['mL/mL'][0].tolist()\n",
    "\n",
    "\n",
    "Selected_Carbon = []\n",
    "Carbon_mL = []\n",
    "OG_Gly_mL = []\n",
    "Met_mL = []\n",
    "\n",
    "\n",
    "for i in range(initN):\n",
    "    Selected_Carbon.append(Carbon_Names[int(Exp_4[i,0])])\n",
    "    temp_factor = Carbon_Ub[int(Exp_4[i,0])]\n",
    "    temp = Exp_4[i,1] * temp_factor # (g/L)\n",
    "    Carbon_mL.append(temp)\n",
    "    OG_Gly_mL.append(Exp_4[i,2] * OG_Gly_Ub * 100/1000) #(%)\n",
    "    Met_mL.append(Exp_4[i,3] * Met_Ub * 100/1000)#(%)\n",
    "    \n",
    "    \n",
    "\n",
    "Experiment_1 = {'Carbon_Type': Selected_Carbon,\n",
    "               'Conc_Carbon [g/L]': Carbon_mL,\n",
    "               'Gly_OG [%]': OG_Gly_mL,\n",
    "               'Met_Prod [%]': Met_mL}\n",
    "\n",
    "pd.DataFrame(Experiment_1).to_csv('Check_Design_Summary.csv')\n"
   ]
  },
  {
   "cell_type": "code",
   "execution_count": null,
   "id": "24b9fb9d",
   "metadata": {},
   "outputs": [],
   "source": []
  },
  {
   "cell_type": "code",
   "execution_count": null,
   "id": "12f9dca4",
   "metadata": {},
   "outputs": [],
   "source": []
  }
 ],
 "metadata": {
  "kernelspec": {
   "display_name": "Python 3 (ipykernel)",
   "language": "python",
   "name": "python3"
  },
  "language_info": {
   "codemirror_mode": {
    "name": "ipython",
    "version": 3
   },
   "file_extension": ".py",
   "mimetype": "text/x-python",
   "name": "python",
   "nbconvert_exporter": "python",
   "pygments_lexer": "ipython3",
   "version": "3.7.13"
  }
 },
 "nbformat": 4,
 "nbformat_minor": 5
}
