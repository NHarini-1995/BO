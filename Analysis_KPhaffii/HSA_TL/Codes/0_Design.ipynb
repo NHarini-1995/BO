{
 "cells": [
  {
   "cell_type": "code",
   "execution_count": 2,
   "id": "c3415942",
   "metadata": {},
   "outputs": [],
   "source": [
    "import math\n",
    "import collections\n",
    "import pickle\n",
    "import random\n",
    "import scipy\n",
    "import json\n",
    "\n",
    "from matplotlib import pyplot as plt\n",
    "\n",
    "import GPy\n",
    "import numpy as np\n",
    "import pandas as pd\n",
    "from tqdm import tqdm\n",
    "\n",
    "# from Kernel import MixtureViaSumAndProduct, CategoryOverlapKernel\n",
    "from InitialData_Gen import initialize\n",
    "from AcquisitionFunctions import EI, PI, UCB, AcquisitionOnSubspace\n",
    "# from SamplingCategorical import compute_prob_dist_and_draw_hts\n",
    "from UpdateCategoricalWeight import compute_reward_for_all_cat_variable, update_weights_for_all_cat_var\n",
    "from optimization import sample_then_minimize\n",
    "\n",
    "from AskTell import ask_tell\n",
    "\n",
    "from scipy.optimize import minimize\n",
    "\n",
    "from typing import Union, Tuple\n",
    "from paramz.transformations import Logexp"
   ]
  },
  {
   "cell_type": "markdown",
   "id": "2e6c1563",
   "metadata": {},
   "source": [
    "1. C - List of number of categroies corresponding to each categorical variable\n",
    "2. Nc - Number of categorical variables\n",
    "3. Nx - Continuous variables\n",
    "4. h - categorical\n",
    "5. x - continuous\n",
    "6. z - [h, x]\n",
    "\n",
    "7. nDim - Nc + Nx\n",
    "8. bounds - Lower and Upper bounds of both Catergorical variables and continuous variables\n",
    "\n",
    "9. n_iter - Number of iterations to run the algorithm\n",
    "10. initN - Number of intial data points\n",
    "11. batch_size (b) - Number of experiments to be generated in each iteration\n",
    "\n",
    "12. acq_type - Acquisition Type ('EI', 'LCB', 'ThompsonSampling')"
   ]
  },
  {
   "cell_type": "markdown",
   "id": "1ab7e7ce",
   "metadata": {},
   "source": [
    "### 1. Load Model background from the pickle file"
   ]
  },
  {
   "cell_type": "code",
   "execution_count": 3,
   "id": "150815bf",
   "metadata": {},
   "outputs": [],
   "source": [
    "import sys\n",
    "myString = sys.path[0]\n",
    "split_list = myString.split(\"/\")\n",
    "root = ''\n",
    "for l in split_list[1:-2]:\n",
    "    root = root +'/'+ l\n",
    "    \n",
    "main_file_path = root + '/HSA_TL/'\n",
    "carbon_source_fiepath = root + '/'"
   ]
  },
  {
   "cell_type": "code",
   "execution_count": 3,
   "id": "3462baed",
   "metadata": {},
   "outputs": [],
   "source": [
    "Stock_solid = pd.read_excel(carbon_source_fiepath + 'CarbonSourceInfo.xlsx', 'Stocks_solid')\n",
    "Stock_liquid = pd.read_excel(carbon_source_fiepath + 'CarbonSourceInfo.xlsx', 'Stocks_liquid')\n",
    "\n",
    "Carbon_Names = Stock_solid['Carbon Source'].values.tolist()\n",
    "Carbon_Names.append(Stock_liquid['Carbon Source'][1])\n",
    "Carbon_Names.append(Stock_liquid['Carbon Source'][2])\n",
    "\n",
    "Carbon_Ub = [50]*17 #[g/L]\n",
    "Carbon_Ub.append(10) # Glycerol [mL/L]\n",
    "Carbon_Ub.append(50) #Ethanol [mL/L]\n",
    "\n",
    "OG_Gly_Ub = 100 #[mL/L]\n",
    "Met_Ub = 100 #[mL/L]\n",
    "\n",
    "Glu_Ub = 50 #mM\n",
    "Tween_Ub = 1# 1%\n",
    "pH_Ub = 6.5# \n",
    "\n",
    "Stock_Conc = Stock_solid['g/mL'].values.tolist()\n",
    "Stock_Conc.append(Stock_liquid['mL/mL'][1].tolist())\n",
    "Stock_Conc.append(Stock_liquid['mL/mL'][2].tolist())\n",
    "\n",
    "OG_Stock_Conc = Stock_liquid['mL/mL'][0].tolist()\n",
    "\n",
    "Glu_Stock_Conc = 250 #mM\n",
    "Tween_Stock_Conc = 50# %\n",
    "pH_Stock_Conc = 1# "
   ]
  },
  {
   "cell_type": "markdown",
   "id": "c1b59acf",
   "metadata": {},
   "source": [
    "### 2. Read Experimental condition and results "
   ]
  },
  {
   "cell_type": "code",
   "execution_count": 4,
   "id": "8cf17845",
   "metadata": {},
   "outputs": [],
   "source": [
    "#Load a titer quantification file and create the result array\n",
    "alt_path = root\n",
    "AllData = pd.read_csv(alt_path +'AllMolecule/HSA_CoCaBO_Prod_AllData.csv')\n",
    "result = AllData['SP'].values.reshape(-1,1)\n",
    "\n",
    "data = AllData.iloc[:,1:5].values"
   ]
  },
  {
   "cell_type": "code",
   "execution_count": 5,
   "id": "14d4bc19",
   "metadata": {},
   "outputs": [],
   "source": [
    "Carbon_mL = []\n",
    "OG_Gly_mL = []\n",
    "Met_mL = []\n",
    "\n",
    "for i in range(data.shape[0]):\n",
    "    if int(data[i,0]) !=19:\n",
    "        temp_factor = Carbon_Ub[int(data[i,0])]\n",
    "    else:\n",
    "        temp_factor = Carbon_Ub[0]\n",
    "    temp = data[i,1]/(temp_factor)\n",
    "    Carbon_mL.append(temp)\n",
    "    OG_Gly_mL.append(data[i,2]/OG_Gly_Ub * 1000/100)\n",
    "    Met_mL.append(data[i,3]/Met_Ub*1000/100)\n",
    "    \n",
    "data_sc = np.concatenate((data[:,0:1],np.array(Carbon_mL).reshape(-1,1),\n",
    "                          np.array(OG_Gly_mL).reshape(-1,1), np.array(Met_mL).reshape(-1,1)), axis = 1)\n",
    "\n",
    "data_sc = np.concatenate((data_sc, \n",
    "                          1e-5 * np.ones((AllData.shape[0],4)), \n",
    "                          0.999 * np.ones((AllData.shape[0],1))), axis = 1)\n",
    "\n"
   ]
  },
  {
   "cell_type": "code",
   "execution_count": 6,
   "id": "f4f99372",
   "metadata": {},
   "outputs": [],
   "source": [
    "Nc = 1\n",
    "C_list = [19] #\n",
    "\n",
    "assert Nc == len(C_list)\n",
    "\n",
    "Nx = 8 #3+3\n",
    "nDim = Nc + Nx\n",
    "Niter = 1\n",
    "batch_size = 10\n",
    "initN = data.shape[0]\n",
    "\n",
    "bounds = [{'name': 'Carbon_Type', 'type': 'categorical', 'domain': np.arange(0, 19)}, #Carbon Source type\n",
    "          {'name': 'Conc_Carbon', 'type': 'continuous', 'domain': (0, 1)},\n",
    "            {'name': 'Gly_OG', 'type': 'continuous', 'domain': (0, 1)},\n",
    "            {'name': 'Met_Prod', 'type': 'continuous', 'domain': (0, 1)},\n",
    "         {'name': 'Glu_OG', 'type': 'continuous', 'domain': (0, 1)},\n",
    "         {'name': 'Tween_OG', 'type': 'continuous', 'domain': (0, 1)},\n",
    "         {'name': 'Glu_Prod', 'type': 'continuous', 'domain': (0, 1)},\n",
    "         {'name': 'Tween_Prod', 'type': 'continuous', 'domain': (0, 1)},\n",
    "         {'name': 'pH', 'type': 'continuous', 'domain': (5.75/6.5, 6.5/6.5)}]\n",
    "\n",
    "#0 - lb and 1 - ub\n",
    "\n",
    "data_param = {'C': C_list, 'Nc': Nc, 'Nx': Nx, 'nDim': Nc+Nx, 'bounds': bounds, 'approach_type':'CoCa',\n",
    "'prob_type': 'UnConstrained', 'initN': initN}\n",
    "\n",
    "\n",
    "budget = 55\n",
    "bestUpperBoundEstimate = 2 * budget / 3\n",
    "gamma_list = [np.sqrt(C * math.log(C / batch_size) / ((math.e - 1) * batch_size * bestUpperBoundEstimate))\n",
    "                      for C in C_list]\n",
    "\n",
    "gamma_list = [g if not np.isnan(g) else 1 for g in gamma_list]\n",
    "\n",
    "Wc_list_init = [np.ones(C) for C in C_list]\n",
    "Wc_list = Wc_list_init\n",
    "\n",
    "Model_background = {}\n",
    "Model_background = {'gamma_list': gamma_list,  'budget':budget,\n",
    "                 'bestUpperBoundEstimate': bestUpperBoundEstimate, 'Wc_list_init': Wc_list_init,\n",
    "                   'Wc_list': Wc_list, 'data_param': data_param}\n",
    "import pickle\n",
    "with open('./Round0/0_ModelBackground.pkl', 'wb') as output:\n",
    "    # Pickle dictionary using protocol 0.\n",
    "    pickle.dump(Model_background, output)\n",
    "    \n",
    "# load data from pkl file\n",
    "background_file = main_file_path +  \"Codes/Round0/0_ModelBackground.pkl\"\n",
    "with open(background_file, \"rb\") as fp:\n",
    "    ModelBackground_0 = pickle.load(fp)"
   ]
  },
  {
   "cell_type": "markdown",
   "id": "727be563",
   "metadata": {},
   "source": [
    "### 3. First iteration to ask the algorithm"
   ]
  },
  {
   "cell_type": "code",
   "execution_count": 7,
   "id": "309c460a",
   "metadata": {},
   "outputs": [
    {
     "name": "stdout",
     "output_type": "stream",
     "text": [
      "check2\n",
      "(1000, 1)\n",
      "(1000, 1, 1000)\n",
      "[[4.         0.21949493 0.02921755 0.8384368  0.88424471 0.56220086\n",
      "  0.24555423 0.9217963  0.91100836]]\n",
      "(1000, 1)\n",
      "(1000, 1, 1000)\n",
      "[[5.         0.24275098 0.95067283 0.2388026  0.23181583 0.42689342\n",
      "  0.45828571 0.7991622  0.97215316]]\n",
      "(1000, 1)\n",
      "(1000, 1, 1000)\n",
      "[[6.         0.76020397 0.96558422 0.51195128 0.61191795 0.65119099\n",
      "  0.21859887 0.44500184 0.92228002]]\n",
      "(1000, 1)\n",
      "(1000, 1, 1000)\n",
      "[[7.         0.59444023 0.44514961 0.13435955 0.2669529  0.00849154\n",
      "  0.50690803 0.43490004 0.97046564]]\n",
      "(1000, 1)\n",
      "(1000, 1, 1000)\n",
      "[[8.         0.0353268  0.35510122 0.82152252 0.02258149 0.13664157\n",
      "  0.51744615 0.25425557 0.94270768]]\n",
      "(1000, 1)\n",
      "(1000, 1, 1000)\n",
      "[[10.          0.32980627  0.12945359  0.29839724  0.3295425   0.54934232\n",
      "   0.9645131   0.30371637  0.93791717]]\n",
      "(1000, 1)\n",
      "(1000, 1, 1000)\n",
      "[[11.          0.8253402   0.44753887  0.20434427  0.07231718  0.66560217\n",
      "   0.29287482  0.77805435  0.89155246]]\n",
      "(1000, 1)\n",
      "(1000, 1, 1000)\n",
      "[[12.          0.21585656  0.87210705  0.09011847  0.56603383  0.6759586\n",
      "   0.66376027  0.76683436  0.93173148]]\n",
      "(1000, 1)\n",
      "(1000, 1, 1000)\n",
      "[[15.          0.43400348  0.12267392  0.50616432  0.33377384  0.8304312\n",
      "   0.36536718  0.95481551  0.93960733]]\n",
      "(1000, 1)\n",
      "(1000, 1, 1000)\n",
      "[[17.          0.31213382  0.34263705  0.38677341  0.4428651   0.58150274\n",
      "   0.3695766   0.08636748  0.95592996]]\n",
      "      0         1         2         3         4         5         6         7  \\\n",
      "0   4.0  0.219495  0.029218  0.838437  0.884245  0.562201  0.245554  0.921796   \n",
      "1   5.0  0.242751  0.950673  0.238803  0.231816  0.426893  0.458286  0.799162   \n",
      "2   6.0  0.760204  0.965584  0.511951  0.611918  0.651191  0.218599  0.445002   \n",
      "3   7.0  0.594440  0.445150  0.134360  0.266953  0.008492  0.506908  0.434900   \n",
      "4   8.0  0.035327  0.355101  0.821523  0.022581  0.136642  0.517446  0.254256   \n",
      "5  10.0  0.329806  0.129454  0.298397  0.329542  0.549342  0.964513  0.303716   \n",
      "6  11.0  0.825340  0.447539  0.204344  0.072317  0.665602  0.292875  0.778054   \n",
      "7  12.0  0.215857  0.872107  0.090118  0.566034  0.675959  0.663760  0.766834   \n",
      "8  15.0  0.434003  0.122674  0.506164  0.333774  0.830431  0.365367  0.954816   \n",
      "9  17.0  0.312134  0.342637  0.386773  0.442865  0.581503  0.369577  0.086367   \n",
      "\n",
      "          8  \n",
      "0  0.911008  \n",
      "1  0.972153  \n",
      "2  0.922280  \n",
      "3  0.970466  \n",
      "4  0.942708  \n",
      "5  0.937917  \n",
      "6  0.891552  \n",
      "7  0.931731  \n",
      "8  0.939607  \n",
      "9  0.955930  \n"
     ]
    }
   ],
   "source": [
    "batch_size = 10\n",
    "\n",
    "random.seed(0)\n",
    "\n",
    "z_next, Categorical_dist_param = ask_tell(data_sc, result, ModelBackground_0['data_param'], \n",
    "                                          'Matern52', 'thompson_sampling',  batch_size, \n",
    "                                           ModelBackground_0['Wc_list'],  ModelBackground_0['gamma_list'])"
   ]
  },
  {
   "cell_type": "code",
   "execution_count": 8,
   "id": "21529ffd",
   "metadata": {},
   "outputs": [],
   "source": [
    "pd.DataFrame(z_next).to_csv('./Round0/0_ExperimentalDesign.csv')"
   ]
  },
  {
   "cell_type": "markdown",
   "id": "09a12230",
   "metadata": {},
   "source": [
    "### 4. Store the Model background parameters"
   ]
  },
  {
   "cell_type": "code",
   "execution_count": 9,
   "id": "420dc5b7",
   "metadata": {},
   "outputs": [],
   "source": [
    "ModelBackground_1 = {}\n",
    "ModelBackground_1 = {'gamma_list': ModelBackground_0['gamma_list'],  'budget': ModelBackground_0['budget'],\n",
    "                 'bestUpperBoundEstimate': ModelBackground_0['bestUpperBoundEstimate'], \n",
    "                     'Wc_list_init': ModelBackground_0['Wc_list_init'],\n",
    "                   'Wc_list': ModelBackground_0['Wc_list'], 'data_param': ModelBackground_0['data_param'], \n",
    "                   'Categorical_dist_param': Categorical_dist_param}\n",
    "\n",
    "import pickle\n",
    "with open('./Round0/0_ModelBackground_Update.pkl', 'wb') as output:\n",
    "    # Pickle dictionary using protocol 0.\n",
    "    pickle.dump(ModelBackground_1, output)"
   ]
  },
  {
   "cell_type": "markdown",
   "id": "f9dd8cc4",
   "metadata": {},
   "source": [
    "### 5. Conversion to actual experimental execution"
   ]
  },
  {
   "cell_type": "code",
   "execution_count": 10,
   "id": "ac0b586e",
   "metadata": {},
   "outputs": [],
   "source": [
    "Selected_Carbon = []\n",
    "Carbon_mL = []\n",
    "OG_Gly_mL = []\n",
    "Met_mL = []\n",
    "Glu_OG_mL = []\n",
    "Tween_OG_mL = []\n",
    "Glu_Prod_mL = []\n",
    "Tween_Prod_mL = []\n",
    "pH_mL = []\n",
    "\n",
    "for i in range(batch_size):\n",
    "    Selected_Carbon.append(Carbon_Names[int(z_next[i,0])])\n",
    "    temp_factor = Carbon_Ub[int(z_next[i,0])]/ Stock_Conc[int(z_next[i,0])]\n",
    "    temp = z_next[i,1] * temp_factor * 3\n",
    "    # [g/L]/[g/mL] * [mL] --> g * mL * mL/[L * g] --> 10^-6 L --> uL \n",
    "    Carbon_mL.append(temp)\n",
    "    # [mL]*[mL/L] --> 10^-6 L --> 1 uL \n",
    "    OG_Gly_mL.append(z_next[i,2] * OG_Gly_Ub * 3/OG_Stock_Conc)\n",
    "    Met_mL.append(z_next[i,3] * Met_Ub * 3)\n",
    "    \n",
    "    Glu_OG_mL.append(z_next[i,4] * Glu_Ub * 3 * 1000/Glu_Stock_Conc) # uL\n",
    "    Tween_OG_mL.append(z_next[i,5] * Tween_Ub * 3 * 1000/Tween_Stock_Conc) #uL\n",
    "    Glu_Prod_mL.append(z_next[i,6] * Glu_Ub * 3 * 1000/Glu_Stock_Conc) # uL\n",
    "    Tween_Prod_mL.append(z_next[i,7] * Tween_Ub * 3 * 1000/Tween_Stock_Conc) #uL\n",
    "    pH_mL.append(z_next[i,8] * pH_Ub ) #* 3/pH_Stock_Conc\n",
    "    \n",
    "\n",
    "\n",
    "Experiment_1_3mL = {'Carbon_Type': Selected_Carbon,\n",
    "               'Conc_Carbon [uL]': Carbon_mL,\n",
    "               'Gly_OG [uL]': OG_Gly_mL,\n",
    "               'Met_Prod [uL]': Met_mL,\n",
    "                'Glu_OG [uL]' :Glu_OG_mL,\n",
    "                'Tween_OG [uL]':Tween_OG_mL,\n",
    "                'Glu_Prod [uL]': Glu_Prod_mL ,\n",
    "                'Tween_Prod [uL]': Tween_Prod_mL ,  \n",
    "                  'pH': pH_mL }\n",
    "\n",
    "pd.DataFrame(Experiment_1_3mL).to_csv('./Round0/0_ExperimentPlan_mLValue_3mL.csv')"
   ]
  },
  {
   "cell_type": "code",
   "execution_count": 11,
   "id": "09d1c3ee",
   "metadata": {},
   "outputs": [
    {
     "data": {
      "text/plain": [
       "<matplotlib.collections.PathCollection at 0x7ff2c0254a90>"
      ]
     },
     "execution_count": 11,
     "metadata": {},
     "output_type": "execute_result"
    },
    {
     "data": {
      "image/png": "[encoded data removed]",
      "text/plain": [
       "<Figure size 432x288 with 1 Axes>"
      ]
     },
     "metadata": {
      "needs_background": "light"
     },
     "output_type": "display_data"
    }
   ],
   "source": [
    "plt.scatter(data_sc[:,0], data_sc[:,1])\n",
    "plt.scatter(z_next[:,0],z_next[:,1])"
   ]
  },
  {
   "cell_type": "code",
   "execution_count": 12,
   "id": "e4c3a030",
   "metadata": {},
   "outputs": [
    {
     "data": {
      "text/plain": [
       "<matplotlib.collections.PathCollection at 0x7ff2908f4d50>"
      ]
     },
     "execution_count": 12,
     "metadata": {},
     "output_type": "execute_result"
    },
    {
     "data": {
      "image/png": "[encoded data removed]",
      "text/plain": [
       "<Figure size 432x288 with 1 Axes>"
      ]
     },
     "metadata": {
      "needs_background": "light"
     },
     "output_type": "display_data"
    }
   ],
   "source": [
    "plt.scatter(data_sc[:,2], data_sc[:,3])\n",
    "plt.scatter(z_next[:,2],z_next[:,3])"
   ]
  },
  {
   "cell_type": "code",
   "execution_count": 13,
   "id": "8c30d85c",
   "metadata": {},
   "outputs": [
    {
     "data": {
      "text/plain": [
       "<matplotlib.collections.PathCollection at 0x7ff2a177c790>"
      ]
     },
     "execution_count": 13,
     "metadata": {},
     "output_type": "execute_result"
    },
    {
     "data": {
      "image/png": "[encoded data removed]",
      "text/plain": [
       "<Figure size 432x288 with 1 Axes>"
      ]
     },
     "metadata": {
      "needs_background": "light"
     },
     "output_type": "display_data"
    }
   ],
   "source": [
    "plt.scatter(data_sc[:,4], data_sc[:,5])\n",
    "plt.scatter(z_next[:,4],z_next[:,5])"
   ]
  },
  {
   "cell_type": "code",
   "execution_count": 14,
   "id": "f341f70a",
   "metadata": {},
   "outputs": [
    {
     "data": {
      "text/plain": [
       "<matplotlib.collections.PathCollection at 0x7ff2a0840cd0>"
      ]
     },
     "execution_count": 14,
     "metadata": {},
     "output_type": "execute_result"
    },
    {
     "data": {
      "image/png": "[encoded data removed]",
      "text/plain": [
       "<Figure size 432x288 with 1 Axes>"
      ]
     },
     "metadata": {
      "needs_background": "light"
     },
     "output_type": "display_data"
    }
   ],
   "source": [
    "plt.scatter(data_sc[:,5], data_sc[:,6])\n",
    "plt.scatter(z_next[:,5],z_next[:,6])"
   ]
  },
  {
   "cell_type": "code",
   "execution_count": 15,
   "id": "a56617f5",
   "metadata": {},
   "outputs": [
    {
     "data": {
      "text/plain": [
       "<matplotlib.collections.PathCollection at 0x7ff2a087eb10>"
      ]
     },
     "execution_count": 15,
     "metadata": {},
     "output_type": "execute_result"
    },
    {
     "data": {
      "image/png": "[encoded data removed]",
      "text/plain": [
       "<Figure size 432x288 with 1 Axes>"
      ]
     },
     "metadata": {
      "needs_background": "light"
     },
     "output_type": "display_data"
    }
   ],
   "source": [
    "plt.scatter(data_sc[:,7], data_sc[:,8])\n",
    "plt.scatter(z_next[:,7],z_next[:,8])"
   ]
  },
  {
   "cell_type": "code",
   "execution_count": null,
   "id": "6fea3feb",
   "metadata": {},
   "outputs": [],
   "source": []
  }
 ],
 "metadata": {
  "kernelspec": {
   "display_name": "Python 3 (ipykernel)",
   "language": "python",
   "name": "python3"
  },
  "language_info": {
   "codemirror_mode": {
    "name": "ipython",
    "version": 3
   },
   "file_extension": ".py",
   "mimetype": "text/x-python",
   "name": "python",
   "nbconvert_exporter": "python",
   "pygments_lexer": "ipython3",
   "version": "3.7.13"
  }
 },
 "nbformat": 4,
 "nbformat_minor": 5
}
