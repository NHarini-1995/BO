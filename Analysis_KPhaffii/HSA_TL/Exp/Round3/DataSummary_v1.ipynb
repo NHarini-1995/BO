{
 "cells": [
  {
   "cell_type": "code",
   "execution_count": 1,
   "id": "f27c8be0",
   "metadata": {},
   "outputs": [],
   "source": [
    "import math\n",
    "import collections\n",
    "import pickle\n",
    "import random\n",
    "import scipy\n",
    "import json\n",
    "\n",
    "from matplotlib import pyplot as plt\n",
    "\n",
    "import GPy\n",
    "import numpy as np\n",
    "import pandas as pd\n",
    "from tqdm import tqdm\n"
   ]
  },
  {
   "cell_type": "code",
   "execution_count": 2,
   "id": "ef624963",
   "metadata": {},
   "outputs": [
    {
     "data": {
      "text/plain": [
       "array(['Exp0', 'Exp1', 'Exp2', 'Exp3', 'Exp4', 'Exp5', 'Exp6', 'Exp7',\n",
       "       'Exp8', 'Exp9', 'Exp10', 'BMGY, BMMY + Cells'], dtype=object)"
      ]
     },
     "execution_count": 2,
     "metadata": {},
     "output_type": "execute_result"
    }
   ],
   "source": [
    "Output = pd.read_excel('Titer_OD.xlsx')\n",
    "Output['Production Condition'].unique()"
   ]
  },
  {
   "cell_type": "code",
   "execution_count": 3,
   "id": "2626d7fb",
   "metadata": {},
   "outputs": [],
   "source": [
    "main_file_path = '/Users/harini/Dropbox (MIT)/Harini Narayanan’s files/1_Home/Biotech/MediaOptimization/BO_MediaOptimization/Molecules/HSA/HSA_TL_Additives_V2/'\n",
    "carbon_source_filepath = '/Users/harini/Dropbox (MIT)/Harini Narayanan’s files/1_Home/Biotech/MediaOptimization/BO_MediaOptimization/Molecules/'"
   ]
  },
  {
   "cell_type": "code",
   "execution_count": 4,
   "id": "3563b993",
   "metadata": {},
   "outputs": [],
   "source": [
    "initN = Output.shape[0]\n",
    "\n",
    "Titer = []\n",
    "Prod_OD = []\n",
    "OG_OD = []\n",
    "Spec_prod = []\n",
    "Conditions = []\n",
    "names_all = Output['Production Condition'].unique()\n",
    "\n",
    "for name in names_all:\n",
    "    \n",
    "    temp1 = Output['Titer'].loc[Output ['Production Condition'] == name].mean()\n",
    "    temp2 = Output['OD_Prod'].loc[Output ['Production Condition'] == name].mean()\n",
    "    temp3 = Output['OD_OG'].loc[Output ['Production Condition'] == name].mean()\n",
    "    temp4 = (Output['Titer'].loc[Output ['Production Condition'] == name]/Output['OD_Prod'].loc[Output ['Production Condition'] == name]).mean()\n",
    "    Conditions.append(name)\n",
    "    \n",
    "    Titer.append(temp1)\n",
    "    Prod_OD.append(temp2)\n",
    "    OG_OD.append(temp3)\n",
    "    Spec_prod.append(temp4)\n",
    "\n",
    "Data = {'Condition': Conditions, 'Titer': Titer, \n",
    "         'Specific Productivity': Spec_prod, 'Prod_OD': Prod_OD, 'OG_OD': OG_OD}\n",
    "\n",
    "\n",
    "Round1_summary = pd.DataFrame(Data)"
   ]
  },
  {
   "cell_type": "code",
   "execution_count": 5,
   "id": "b713c153",
   "metadata": {},
   "outputs": [
    {
     "data": {
      "text/plain": [
       "<matplotlib.collections.PathCollection at 0x7f95310a9a10>"
      ]
     },
     "execution_count": 5,
     "metadata": {},
     "output_type": "execute_result"
    },
    {
     "data": {
      "image/png": "[encoded data removed]",
      "text/plain": [
       "<Figure size 432x288 with 1 Axes>"
      ]
     },
     "metadata": {
      "needs_background": "light"
     },
     "output_type": "display_data"
    }
   ],
   "source": [
    "plt.scatter(Titer, Spec_prod)"
   ]
  },
  {
   "cell_type": "code",
   "execution_count": 6,
   "id": "8d5a436b",
   "metadata": {},
   "outputs": [
    {
     "data": {
      "text/html": [
       "<div>\n",
       "<style scoped>\n",
       "    .dataframe tbody tr th:only-of-type {\n",
       "        vertical-align: middle;\n",
       "    }\n",
       "\n",
       "    .dataframe tbody tr th {\n",
       "        vertical-align: top;\n",
       "    }\n",
       "\n",
       "    .dataframe thead th {\n",
       "        text-align: right;\n",
       "    }\n",
       "</style>\n",
       "<table border=\"1\" class=\"dataframe\">\n",
       "  <thead>\n",
       "    <tr style=\"text-align: right;\">\n",
       "      <th></th>\n",
       "      <th>Condition</th>\n",
       "      <th>Titer</th>\n",
       "      <th>Specific Productivity</th>\n",
       "      <th>Prod_OD</th>\n",
       "      <th>OG_OD</th>\n",
       "    </tr>\n",
       "  </thead>\n",
       "  <tbody>\n",
       "    <tr>\n",
       "      <th>0</th>\n",
       "      <td>Exp0</td>\n",
       "      <td>37.253164</td>\n",
       "      <td>7.320347</td>\n",
       "      <td>5.075625</td>\n",
       "      <td>2.913750</td>\n",
       "    </tr>\n",
       "    <tr>\n",
       "      <th>1</th>\n",
       "      <td>Exp1</td>\n",
       "      <td>52.849031</td>\n",
       "      <td>5.306958</td>\n",
       "      <td>9.967500</td>\n",
       "      <td>3.701250</td>\n",
       "    </tr>\n",
       "    <tr>\n",
       "      <th>2</th>\n",
       "      <td>Exp2</td>\n",
       "      <td>49.221512</td>\n",
       "      <td>8.366431</td>\n",
       "      <td>5.865625</td>\n",
       "      <td>2.452500</td>\n",
       "    </tr>\n",
       "    <tr>\n",
       "      <th>3</th>\n",
       "      <td>Exp3</td>\n",
       "      <td>78.664980</td>\n",
       "      <td>8.294714</td>\n",
       "      <td>9.486875</td>\n",
       "      <td>2.348750</td>\n",
       "    </tr>\n",
       "    <tr>\n",
       "      <th>4</th>\n",
       "      <td>Exp4</td>\n",
       "      <td>83.072113</td>\n",
       "      <td>10.077039</td>\n",
       "      <td>8.245000</td>\n",
       "      <td>3.827500</td>\n",
       "    </tr>\n",
       "    <tr>\n",
       "      <th>5</th>\n",
       "      <td>Exp5</td>\n",
       "      <td>30.871205</td>\n",
       "      <td>2.229433</td>\n",
       "      <td>13.839375</td>\n",
       "      <td>1.443750</td>\n",
       "    </tr>\n",
       "    <tr>\n",
       "      <th>6</th>\n",
       "      <td>Exp6</td>\n",
       "      <td>68.243038</td>\n",
       "      <td>9.755601</td>\n",
       "      <td>7.003750</td>\n",
       "      <td>3.168125</td>\n",
       "    </tr>\n",
       "    <tr>\n",
       "      <th>7</th>\n",
       "      <td>Exp7</td>\n",
       "      <td>82.510007</td>\n",
       "      <td>11.574839</td>\n",
       "      <td>7.127500</td>\n",
       "      <td>2.207500</td>\n",
       "    </tr>\n",
       "    <tr>\n",
       "      <th>8</th>\n",
       "      <td>Exp8</td>\n",
       "      <td>103.740585</td>\n",
       "      <td>10.490688</td>\n",
       "      <td>9.907500</td>\n",
       "      <td>3.130000</td>\n",
       "    </tr>\n",
       "    <tr>\n",
       "      <th>9</th>\n",
       "      <td>Exp9</td>\n",
       "      <td>64.047118</td>\n",
       "      <td>7.829217</td>\n",
       "      <td>8.195625</td>\n",
       "      <td>3.013125</td>\n",
       "    </tr>\n",
       "    <tr>\n",
       "      <th>10</th>\n",
       "      <td>Exp10</td>\n",
       "      <td>1.282974</td>\n",
       "      <td>0.423203</td>\n",
       "      <td>2.689375</td>\n",
       "      <td>2.325000</td>\n",
       "    </tr>\n",
       "    <tr>\n",
       "      <th>11</th>\n",
       "      <td>BMGY, BMMY + Cells</td>\n",
       "      <td>32.095952</td>\n",
       "      <td>2.898879</td>\n",
       "      <td>11.132500</td>\n",
       "      <td>3.191875</td>\n",
       "    </tr>\n",
       "  </tbody>\n",
       "</table>\n",
       "</div>"
      ],
      "text/plain": [
       "             Condition       Titer  Specific Productivity    Prod_OD     OG_OD\n",
       "0                 Exp0   37.253164               7.320347   5.075625  2.913750\n",
       "1                 Exp1   52.849031               5.306958   9.967500  3.701250\n",
       "2                 Exp2   49.221512               8.366431   5.865625  2.452500\n",
       "3                 Exp3   78.664980               8.294714   9.486875  2.348750\n",
       "4                 Exp4   83.072113              10.077039   8.245000  3.827500\n",
       "5                 Exp5   30.871205               2.229433  13.839375  1.443750\n",
       "6                 Exp6   68.243038               9.755601   7.003750  3.168125\n",
       "7                 Exp7   82.510007              11.574839   7.127500  2.207500\n",
       "8                 Exp8  103.740585              10.490688   9.907500  3.130000\n",
       "9                 Exp9   64.047118               7.829217   8.195625  3.013125\n",
       "10               Exp10    1.282974               0.423203   2.689375  2.325000\n",
       "11  BMGY, BMMY + Cells   32.095952               2.898879  11.132500  3.191875"
      ]
     },
     "execution_count": 6,
     "metadata": {},
     "output_type": "execute_result"
    }
   ],
   "source": [
    "Round1_summary"
   ]
  },
  {
   "cell_type": "code",
   "execution_count": 7,
   "id": "f5e2fa9c",
   "metadata": {},
   "outputs": [],
   "source": [
    "Round1_summary.to_csv('Round3_Result_Summary_final.csv')"
   ]
  },
  {
   "cell_type": "code",
   "execution_count": 8,
   "id": "c89d5018",
   "metadata": {},
   "outputs": [],
   "source": [
    "Exp_1_pd = pd.read_csv(main_file_path + 'Codes/Round3/Reconstructed_Round3.csv')\n",
    "\n",
    "Exp_1 = Exp_1_pd.iloc[:,1:].values\n",
    "\n",
    "initN = len(Output['Production Condition'].unique().tolist())-1"
   ]
  },
  {
   "cell_type": "code",
   "execution_count": 9,
   "id": "bf86fd2b",
   "metadata": {},
   "outputs": [
    {
     "data": {
      "text/plain": [
       "11"
      ]
     },
     "execution_count": 9,
     "metadata": {},
     "output_type": "execute_result"
    }
   ],
   "source": [
    "initN"
   ]
  },
  {
   "cell_type": "markdown",
   "id": "2d9a4e64",
   "metadata": {},
   "source": [
    "Converts design space into familiar units e.g., g/L, %, mM etc"
   ]
  },
  {
   "cell_type": "code",
   "execution_count": 10,
   "id": "cc8f50a9",
   "metadata": {},
   "outputs": [],
   "source": [
    "Stock_solid = pd.read_excel(carbon_source_filepath+'CarbonSourceInfo.xlsx', 'Stocks_solid')\n",
    "Stock_liquid = pd.read_excel(carbon_source_filepath +'CarbonSourceInfo.xlsx', 'Stocks_liquid')\n",
    "\n",
    "Carbon_Names = Stock_solid['Carbon Source'].values.tolist()\n",
    "Carbon_Names.append(Stock_liquid['Carbon Source'][1])\n",
    "Carbon_Names.append(Stock_liquid['Carbon Source'][2])\n",
    "\n",
    "\n",
    "Carbon_Ub = [50]*17 #[g/L]\n",
    "Carbon_Ub.append(10) # Glycerol [mL/L]\n",
    "Carbon_Ub.append(50) #Ethanol [mL/L]\n",
    "\n",
    "OG_Gly_Ub = 100 #[mL/L]\n",
    "Met_Ub = 100 #[mL/L]\n",
    "\n",
    "\n",
    "Glu_Ub = 50 #mM\n",
    "Tween_Ub = 1# 1%\n",
    "pH_Ub = 6.5# 5X\n",
    "\n",
    "Glu_Stock_Conc = 250 #mM\n",
    "Tween_Stock_Conc = 50# 1%\n",
    "pH_Stock_Conc = 1# \n",
    "\n",
    "Stock_Conc = Stock_solid['g/mL'].values.tolist()\n",
    "Stock_Conc.append(Stock_liquid['mL/mL'][1].tolist())\n",
    "Stock_Conc.append(Stock_liquid['mL/mL'][2].tolist())\n",
    "\n",
    "OG_Stock_Conc = Stock_liquid['mL/mL'][0].tolist()\n",
    "\n",
    "\n",
    "Selected_Carbon = []\n",
    "Carbon_mL = []\n",
    "OG_Gly_mL = []\n",
    "Met_mL = []\n",
    "\n",
    "Glu_OG_mL = []\n",
    "Tween_OG_mL = []\n",
    "Glu_Prod_mL = []\n",
    "Tween_Prod_mL = []\n",
    "pH_mL = []\n",
    "\n",
    "for i in range(initN):\n",
    "    name = names_all[i]\n",
    "    temp1 = Output['Titer'].loc[Output ['Production Condition'] == name].to_list()\n",
    "    Selected_Carbon = Selected_Carbon + [Carbon_Names[int(Exp_1[i,0])]] #* len(temp1)\n",
    "    \n",
    "    temp_factor = Carbon_Ub[int(Exp_1[i,0])]\n",
    "    temp = Exp_1[i,1] * temp_factor # (g/L)\n",
    "    \n",
    "    Carbon_mL = Carbon_mL + [temp] #* len(temp1)\n",
    "    \n",
    "    OG_Gly_mL = OG_Gly_mL + [Exp_1[i,2] * OG_Gly_Ub * 100/1000] #* len(temp1)  #(%)\n",
    "    \n",
    "    Met_mL = Met_mL + [Exp_1[i,3] * Met_Ub * 100/1000] #* len(temp1) #(%)\n",
    "    \n",
    "    Glu_OG_mL = Glu_OG_mL + [Exp_1[i,4] * Glu_Ub] #* len(temp1) # mM\n",
    "    \n",
    "    Tween_OG_mL = Tween_OG_mL + [Exp_1[i,5] * Tween_Ub] #* len(temp1) #(%)\n",
    "    \n",
    "    Glu_Prod_mL = Glu_Prod_mL + [Exp_1[i,6] * Glu_Ub] #* len(temp1)# mM\n",
    "    \n",
    "    Tween_Prod_mL = Tween_Prod_mL + [Exp_1[i,7] * Tween_Ub]  #* len(temp1) #(%)\n",
    "    \n",
    "    pH_mL = pH_mL + [Exp_1[i,8] * pH_Ub] #* len(temp1) #* 3/pH_Stock_Conc\n",
    "    \n",
    "\n",
    "Experiment_1 = {'Carbon_Type': Selected_Carbon,\n",
    "               'Conc_Carbon [g/L]': Carbon_mL,\n",
    "               'Gly_OG [%]': OG_Gly_mL,\n",
    "               'Met_Prod [%]': Met_mL,\n",
    "                \n",
    "               'Glu_OG [mM]' :Glu_OG_mL,\n",
    "                'Tween_OG [%]':Tween_OG_mL,\n",
    "                'Glu_Prod [mM]': Glu_Prod_mL ,\n",
    "                'Tween_Prod [%]': Tween_Prod_mL ,  \n",
    "                  'pH': pH_mL}\n",
    "\n",
    "pd.DataFrame(Experiment_1).to_csv('Round3_Design_Summary.csv')"
   ]
  },
  {
   "cell_type": "code",
   "execution_count": null,
   "id": "12f9dca4",
   "metadata": {},
   "outputs": [],
   "source": []
  }
 ],
 "metadata": {
  "kernelspec": {
   "display_name": "Python 3 (ipykernel)",
   "language": "python",
   "name": "python3"
  },
  "language_info": {
   "codemirror_mode": {
    "name": "ipython",
    "version": 3
   },
   "file_extension": ".py",
   "mimetype": "text/x-python",
   "name": "python",
   "nbconvert_exporter": "python",
   "pygments_lexer": "ipython3",
   "version": "3.7.13"
  }
 },
 "nbformat": 4,
 "nbformat_minor": 5
}
