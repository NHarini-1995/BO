{
 "cells": [
  {
   "cell_type": "code",
   "execution_count": 1,
   "id": "c3415942",
   "metadata": {},
   "outputs": [],
   "source": [
    "import math\n",
    "import collections\n",
    "import pickle\n",
    "import random\n",
    "import scipy\n",
    "import json\n",
    "\n",
    "from matplotlib import pyplot as plt\n",
    "\n",
    "import GPy\n",
    "import numpy as np\n",
    "import pandas as pd\n",
    "from tqdm import tqdm\n",
    "\n",
    "# from Kernel import MixtureViaSumAndProduct, CategoryOverlapKernel\n",
    "from InitialData_Gen import initialize\n",
    "from AcquisitionFunctions import EI, PI, UCB, AcquisitionOnSubspace\n",
    "# from SamplingCategorical import compute_prob_dist_and_draw_hts\n",
    "from UpdateCategoricalWeight import compute_reward_for_all_cat_variable, update_weights_for_all_cat_var\n",
    "from optimization import sample_then_minimize\n",
    "\n",
    "from AskTell import ask_tell\n",
    "\n",
    "from scipy.optimize import minimize\n",
    "\n",
    "from typing import Union, Tuple\n",
    "from paramz.transformations import Logexp"
   ]
  },
  {
   "cell_type": "markdown",
   "id": "2e6c1563",
   "metadata": {},
   "source": [
    "1. C - List of number of categroies corresponding to each categorical variable\n",
    "2. Nc - Number of categorical variables\n",
    "3. Nx - Continuous variables\n",
    "4. h - categorical\n",
    "5. x - continuous\n",
    "6. z - [h, x]\n",
    "\n",
    "7. nDim - Nc + Nx\n",
    "8. bounds - Lower and Upper bounds of both Catergorical variables and continuous variables\n",
    "\n",
    "9. n_iter - Number of iterations to run the algorithm\n",
    "10. initN - Number of intial data points\n",
    "11. batch_size (b) - Number of experiments to be generated in each iteration\n",
    "\n",
    "12. acq_type - Acquisition Type ('EI', 'LCB', 'ThompsonSampling')"
   ]
  },
  {
   "cell_type": "markdown",
   "id": "1ab7e7ce",
   "metadata": {},
   "source": [
    "### 1. Load Model background from the pickle file"
   ]
  },
  {
   "cell_type": "code",
   "execution_count": 2,
   "id": "8bb3c368",
   "metadata": {},
   "outputs": [],
   "source": [
    "import sys\n",
    "myString = sys.path[0]\n",
    "split_list = myString.split(\"/\")\n",
    "root = ''\n",
    "for l in split_list[1:-2]:\n",
    "    root = root +'/'+ l\n",
    "    \n",
    "main_file_path = root + '/Trastuzumab/'\n",
    "carbon_source_fiepath = root + '/'"
   ]
  },
  {
   "cell_type": "code",
   "execution_count": 3,
   "id": "f93cfb4e",
   "metadata": {},
   "outputs": [],
   "source": [
    "# load data from pkl file\n",
    "background_file = main_file_path +  \"Codes/Round1/1_ModelBackground.pkl\"\n",
    "with open(background_file, \"rb\") as fp:\n",
    "    ModelBackground_1 = pickle.load(fp)\n",
    "    "
   ]
  },
  {
   "cell_type": "markdown",
   "id": "45bfd81f",
   "metadata": {},
   "source": [
    "### 2. Read Experimental condition and results "
   ]
  },
  {
   "cell_type": "code",
   "execution_count": 4,
   "id": "3c394e14",
   "metadata": {},
   "outputs": [],
   "source": [
    "#Load a titer quantification file and create the result array\n",
    "N_round = 2\n",
    "Design = {}\n",
    "Result_df = {}\n",
    "for nr in range(N_round):\n",
    "    file_name = main_file_path + 'Codes/Round' + str(nr) + '/Reconstructed_Round' + str(nr) + '.csv'\n",
    "    Design[nr] = pd.read_csv(file_name)\n",
    "    Column_Names = pd.read_csv(file_name).columns\n",
    "#     if nr == 0:\n",
    "#         file_name_res = main_file_path + 'Exp/Round' + str(nr) + '/Round' + str(nr) + '_Result_Summary_Repeat.csv'\n",
    "#     else:\n",
    "    file_name_res = main_file_path + 'Exp/Round' + str(nr) + '/Round' + str(nr) + '_Result_Summary.csv'\n",
    "    Result_df[nr] = pd.read_csv(file_name_res)\n",
    "    \n",
    "    if nr == 0:\n",
    "        data = Design[nr].iloc[:,1:].values\n",
    "        result = Result_df[nr]['Specific Productivity'].iloc[:-2,].values.reshape(-1,1)\n",
    "    else:\n",
    "        data = np.concatenate((data, Design[nr].iloc[:,1:].values), axis = 0)\n",
    "        result = np.concatenate((result, Result_df[nr]['Specific Productivity'].iloc[:-2,].values.reshape(-1,1)), axis = 0)\n",
    "        "
   ]
  },
  {
   "cell_type": "code",
   "execution_count": 5,
   "id": "2e4a8ddf",
   "metadata": {},
   "outputs": [
    {
     "data": {
      "text/plain": [
       "(34, 1)"
      ]
     },
     "execution_count": 5,
     "metadata": {},
     "output_type": "execute_result"
    }
   ],
   "source": [
    "result.shape"
   ]
  },
  {
   "cell_type": "markdown",
   "id": "344d09fe",
   "metadata": {},
   "source": [
    "### 3. Update rewards and weights"
   ]
  },
  {
   "cell_type": "code",
   "execution_count": 6,
   "id": "163cb67b",
   "metadata": {},
   "outputs": [
    {
     "name": "stdout",
     "output_type": "stream",
     "text": [
      "0\n",
      "[-2.681904   -1.06704588 -0.09228024 -7.17580419 -5.09989409 -2.61213505\n",
      " -1.97187261 -9.07362085 -8.51443392 -3.4647107  -4.31298559]\n"
     ]
    }
   ],
   "source": [
    "batch_size = 11\n",
    "ModelBackground_1['Categorical_dist_param']['ht_batch_list'][-3] = 13\n",
    "ModelBackground_1['Categorical_dist_param']['ht_list'][-3] = 13 \n",
    "\n",
    "C_list = ModelBackground_1['data_param']['C']\n",
    "\n",
    "ht_next_list_array = np.atleast_2d(ModelBackground_1['Categorical_dist_param']['ht_batch_list'])\n",
    "\n",
    "ht_list_rewards = compute_reward_for_all_cat_variable(ht_next_list_array, C_list,\n",
    "                                                      data, result, batch_size)\n",
    "\n",
    "\n",
    "Wc_list = update_weights_for_all_cat_var(C_list, \n",
    "                ht_list_rewards, ModelBackground_1['Categorical_dist_param']['ht_list'],\n",
    "                ModelBackground_1['Wc_list'], ModelBackground_1['gamma_list'],\n",
    "                ModelBackground_1['Categorical_dist_param']['probabilityDistribution_list'],\n",
    "                batch_size, ModelBackground_1['Categorical_dist_param']['S0'])\n"
   ]
  },
  {
   "cell_type": "code",
   "execution_count": 7,
   "id": "a1bc9171",
   "metadata": {},
   "outputs": [
    {
     "name": "stdout",
     "output_type": "stream",
     "text": [
      "check2\n",
      "(1000, 1)\n",
      "(1000, 1, 1)\n",
      "[[[0.         0.18247439 0.68528947 0.68273107]]]\n",
      "(1000, 1)\n",
      "(1000, 1, 1)\n",
      "[[[1.         0.4281284  0.7306722  0.66569569]]]\n",
      "(1000, 1)\n",
      "(1000, 1, 1)\n",
      "[[[2.         0.73634789 0.95434521 0.63817591]]]\n",
      "(1000, 1)\n",
      "(1000, 1, 1)\n",
      "[[[3.         0.36616157 0.18211005 0.34571457]]]\n",
      "(1000, 1)\n",
      "(1000, 1, 1)\n",
      "[[[6.         0.02976387 0.04628394 0.43648905]]]\n",
      "(1000, 1)\n",
      "(1000, 1, 1)\n",
      "[[[10.          0.69752892  0.50568338  0.39180522]]]\n",
      "(1000, 1)\n",
      "(1000, 1, 1)\n",
      "[[[12.          0.42766653  0.16246626  0.61899746]]]\n",
      "(1000, 1)\n",
      "(1000, 1, 1)\n",
      "[[[13.          0.72637933  0.30939113  0.31070054]]]\n",
      "(1000, 1)\n",
      "(1000, 1, 1)\n",
      "[[[14.          0.23624518  0.30676053  0.86034385]]]\n",
      "(1000, 1)\n",
      "(1000, 1, 1)\n",
      "[[[16.          0.4842684   0.19269463  0.34361167]]]\n",
      "(1000, 1)\n",
      "(1000, 1, 1)\n",
      "[[[18.          0.33821725  0.1774442   0.29094413]]]\n",
      "       0         1         2         3\n",
      "0    0.0  0.182474  0.685289  0.682731\n",
      "1    1.0  0.428128  0.730672  0.665696\n",
      "2    2.0  0.736348  0.954345  0.638176\n",
      "3    3.0  0.366162  0.182110  0.345715\n",
      "4    6.0  0.029764  0.046284  0.436489\n",
      "5   10.0  0.697529  0.505683  0.391805\n",
      "6   12.0  0.427667  0.162466  0.618997\n",
      "7   13.0  0.726379  0.309391  0.310701\n",
      "8   14.0  0.236245  0.306761  0.860344\n",
      "9   16.0  0.484268  0.192695  0.343612\n",
      "10  18.0  0.338217  0.177444  0.290944\n"
     ]
    }
   ],
   "source": [
    "z_next, Categorical_dist_param = ask_tell(data, result, ModelBackground_1['data_param'], \n",
    "                                          'RBF', 'thompson_sampling', batch_size, \n",
    "                                          Wc_list, ModelBackground_1['gamma_list'])"
   ]
  },
  {
   "cell_type": "code",
   "execution_count": 8,
   "id": "d7505f41",
   "metadata": {},
   "outputs": [
    {
     "data": {
      "text/plain": [
       "(34, 1)"
      ]
     },
     "execution_count": 8,
     "metadata": {},
     "output_type": "execute_result"
    }
   ],
   "source": [
    "result.shape"
   ]
  },
  {
   "cell_type": "code",
   "execution_count": 9,
   "id": "39fdb30b",
   "metadata": {},
   "outputs": [],
   "source": [
    "pd.DataFrame(z_next).to_csv('./Round2/2_ExperimentalDesign.csv')\n",
    "\n"
   ]
  },
  {
   "cell_type": "markdown",
   "id": "151d0825",
   "metadata": {},
   "source": [
    "### 4. Store the Model background parameters"
   ]
  },
  {
   "cell_type": "code",
   "execution_count": 10,
   "id": "9aa06101",
   "metadata": {},
   "outputs": [],
   "source": [
    "ModelBackground_2 = {}\n",
    "ModelBackground_2 = {'gamma_list': ModelBackground_1['gamma_list'],  'budget': ModelBackground_1['budget'],\n",
    "                 'bestUpperBoundEstimate': ModelBackground_1['bestUpperBoundEstimate'], \n",
    "                     'Wc_list_init': ModelBackground_1['Wc_list_init'],\n",
    "                   'Wc_list': Wc_list, 'data_param': ModelBackground_1['data_param'], \n",
    "                   'Categorical_dist_param': Categorical_dist_param}\n",
    "\n",
    "import pickle\n",
    "with open('./Round2/2_ModelBackground.pkl', 'wb') as output:\n",
    "    # Pickle dictionary using protocol 0.\n",
    "    pickle.dump(ModelBackground_2, output)"
   ]
  },
  {
   "cell_type": "markdown",
   "id": "fd9e3518",
   "metadata": {},
   "source": [
    "### 5. Conversion to actual experimental execution"
   ]
  },
  {
   "cell_type": "code",
   "execution_count": 11,
   "id": "0d47d538",
   "metadata": {},
   "outputs": [],
   "source": [
    "Stock_solid = pd.read_excel(carbon_source_fiepath  + 'CarbonSourceInfo.xlsx', 'Stocks_solid')\n",
    "Stock_liquid = pd.read_excel(carbon_source_fiepath  + 'CarbonSourceInfo.xlsx', 'Stocks_liquid')\n",
    "\n",
    "Carbon_Names = Stock_solid['Carbon Source'].values.tolist()\n",
    "Carbon_Names.append(Stock_liquid['Carbon Source'][1])\n",
    "Carbon_Names.append(Stock_liquid['Carbon Source'][2])\n",
    "\n",
    "Carbon_Ub = [50]*17 #[g/L]\n",
    "Carbon_Ub.append(10) # Glycerol [mL/L]\n",
    "Carbon_Ub.append(50) #Ethanol [mL/L]\n",
    "\n",
    "OG_Gly_Ub = 100 #[mL/L]\n",
    "Met_Ub = 100 #[mL/L]\n",
    "\n",
    "Stock_Conc = Stock_solid['g/mL'].values.tolist()\n",
    "Stock_Conc.append(Stock_liquid['mL/mL'][1].tolist())\n",
    "Stock_Conc.append(Stock_liquid['mL/mL'][2].tolist())\n",
    "\n",
    "OG_Stock_Conc = Stock_liquid['mL/mL'][0].tolist()\n",
    "\n"
   ]
  },
  {
   "cell_type": "code",
   "execution_count": 12,
   "id": "8d89cfe6",
   "metadata": {},
   "outputs": [],
   "source": [
    "Selected_Carbon = []\n",
    "Carbon_mL = []\n",
    "OG_Gly_mL = []\n",
    "Met_mL = []\n",
    "\n",
    "\n",
    "for i in range(batch_size):\n",
    "    Selected_Carbon.append(Carbon_Names[int(z_next[i,0])])\n",
    "    temp_factor = Carbon_Ub[int(z_next[i,0])]/ Stock_Conc[int(z_next[i,0])]\n",
    "    temp = z_next[i,1] * temp_factor * 3\n",
    "    Carbon_mL.append(temp)\n",
    "    OG_Gly_mL.append(z_next[i,2] * OG_Gly_Ub * 3/OG_Stock_Conc)\n",
    "    Met_mL.append(z_next[i,3] * Met_Ub * 3)\n",
    "    \n",
    "\n",
    "\n",
    "Experiment_2_3mL = {'Carbon_Type': Selected_Carbon,\n",
    "               'Conc_Carbon [uL]': Carbon_mL,\n",
    "               'Gly_OG [uL]': OG_Gly_mL,\n",
    "               'Met_Prod [uL]': Met_mL}\n",
    "\n",
    "pd.DataFrame(Experiment_2_3mL).to_csv('./Round2/2_ExperimentPlan_mLValue_3mL.csv')"
   ]
  },
  {
   "cell_type": "code",
   "execution_count": 13,
   "id": "6cec43e6",
   "metadata": {},
   "outputs": [
    {
     "data": {
      "text/plain": [
       "<matplotlib.collections.PathCollection at 0x7f9f6a6f9e90>"
      ]
     },
     "execution_count": 13,
     "metadata": {},
     "output_type": "execute_result"
    },
    {
     "data": {
      "image/png": "[encoded data removed]",
      "text/plain": [
       "<Figure size 432x288 with 1 Axes>"
      ]
     },
     "metadata": {
      "needs_background": "light"
     },
     "output_type": "display_data"
    }
   ],
   "source": [
    "plt.scatter(data[:,0], data[:,1])\n",
    "plt.scatter(z_next[:,0],z_next[:,1])\n"
   ]
  },
  {
   "cell_type": "code",
   "execution_count": 14,
   "id": "a05eaab4",
   "metadata": {},
   "outputs": [
    {
     "data": {
      "text/plain": [
       "<matplotlib.collections.PathCollection at 0x7f9f78dbed10>"
      ]
     },
     "execution_count": 14,
     "metadata": {},
     "output_type": "execute_result"
    },
    {
     "data": {
      "image/png": "[encoded data removed]",
      "text/plain": [
       "<Figure size 432x288 with 1 Axes>"
      ]
     },
     "metadata": {
      "needs_background": "light"
     },
     "output_type": "display_data"
    }
   ],
   "source": [
    "plt.scatter(data[:,2], data[:,3])\n",
    "plt.scatter(z_next[:,2],z_next[:,3])\n"
   ]
  },
  {
   "cell_type": "code",
   "execution_count": null,
   "id": "8bb4839d",
   "metadata": {},
   "outputs": [],
   "source": []
  }
 ],
 "metadata": {
  "kernelspec": {
   "display_name": "Python 3 (ipykernel)",
   "language": "python",
   "name": "python3"
  },
  "language_info": {
   "codemirror_mode": {
    "name": "ipython",
    "version": 3
   },
   "file_extension": ".py",
   "mimetype": "text/x-python",
   "name": "python",
   "nbconvert_exporter": "python",
   "pygments_lexer": "ipython3",
   "version": "3.7.13"
  }
 },
 "nbformat": 4,
 "nbformat_minor": 5
}
