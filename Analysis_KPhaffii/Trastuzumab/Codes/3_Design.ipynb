{
 "cells": [
  {
   "cell_type": "code",
   "execution_count": 1,
   "id": "c3415942",
   "metadata": {},
   "outputs": [],
   "source": [
    "import math\n",
    "import collections\n",
    "import pickle\n",
    "import random\n",
    "import scipy\n",
    "import json\n",
    "\n",
    "from matplotlib import pyplot as plt\n",
    "\n",
    "import GPy\n",
    "import numpy as np\n",
    "import pandas as pd\n",
    "from tqdm import tqdm\n",
    "\n",
    "# from Kernel import MixtureViaSumAndProduct, CategoryOverlapKernel\n",
    "from InitialData_Gen import initialize\n",
    "from AcquisitionFunctions import EI, PI, UCB, AcquisitionOnSubspace\n",
    "# from SamplingCategorical import compute_prob_dist_and_draw_hts\n",
    "from UpdateCategoricalWeight import compute_reward_for_all_cat_variable, update_weights_for_all_cat_var\n",
    "from optimization import sample_then_minimize\n",
    "\n",
    "from AskTell import ask_tell\n",
    "\n",
    "from scipy.optimize import minimize\n",
    "\n",
    "from typing import Union, Tuple\n",
    "from paramz.transformations import Logexp"
   ]
  },
  {
   "cell_type": "markdown",
   "id": "2e6c1563",
   "metadata": {},
   "source": [
    "1. C - List of number of categroies corresponding to each categorical variable\n",
    "2. Nc - Number of categorical variables\n",
    "3. Nx - Continuous variables\n",
    "4. h - categorical\n",
    "5. x - continuous\n",
    "6. z - [h, x]\n",
    "\n",
    "7. nDim - Nc + Nx\n",
    "8. bounds - Lower and Upper bounds of both Catergorical variables and continuous variables\n",
    "\n",
    "9. n_iter - Number of iterations to run the algorithm\n",
    "10. initN - Number of intial data points\n",
    "11. batch_size (b) - Number of experiments to be generated in each iteration\n",
    "\n",
    "12. acq_type - Acquisition Type ('EI', 'LCB', 'ThompsonSampling')"
   ]
  },
  {
   "cell_type": "markdown",
   "id": "1ab7e7ce",
   "metadata": {},
   "source": [
    "### 1. Load Model background from the pickle file"
   ]
  },
  {
   "cell_type": "code",
   "execution_count": 2,
   "id": "c42062cc",
   "metadata": {},
   "outputs": [],
   "source": [
    "import sys\n",
    "myString = sys.path[0]\n",
    "split_list = myString.split(\"/\")\n",
    "root = ''\n",
    "for l in split_list[1:-2]:\n",
    "    root = root +'/'+ l\n",
    "    \n",
    "main_file_path = root + '/Trastuzumab/'\n",
    "carbon_source_fiepath = root + '/'"
   ]
  },
  {
   "cell_type": "code",
   "execution_count": 3,
   "id": "f93cfb4e",
   "metadata": {},
   "outputs": [],
   "source": [
    "# load data from pkl file\n",
    "background_file = main_file_path +  \"Codes/Round2/2_ModelBackground.pkl\"\n",
    "with open(background_file, \"rb\") as fp:\n",
    "    ModelBackground_2 = pickle.load(fp)\n",
    "    "
   ]
  },
  {
   "cell_type": "markdown",
   "id": "45bfd81f",
   "metadata": {},
   "source": [
    "### 2. Read Experimental condition and results "
   ]
  },
  {
   "cell_type": "code",
   "execution_count": 4,
   "id": "3c394e14",
   "metadata": {},
   "outputs": [],
   "source": [
    "N_round = 3\n",
    "Design = {}\n",
    "Result_df = {}\n",
    "for nr in range(N_round):\n",
    "    file_name = main_file_path + 'Codes/Round' + str(nr) + '/Reconstructed_Round' + str(nr) + '.csv'\n",
    "    Design[nr] = pd.read_csv(file_name)\n",
    "    Column_Names = pd.read_csv(file_name).columns\n",
    "    file_name_res = main_file_path + 'Exp/Round' + str(nr) + '/Round' + str(nr) + '_Result_Summary.csv'\n",
    "    Result_df[nr] = pd.read_csv(file_name_res)\n",
    "    \n",
    "    if nr == 0:\n",
    "        data = Design[nr].iloc[:,1:].values\n",
    "        des_bench = np.concatenate((np.arange(0,19).reshape(-1,1), np.zeros((19,1)), 0.4 * np.ones((19,1)), 0.15*np.ones((19,1))), axis = 1)\n",
    "        data = np.concatenate((data, des_bench), axis = 0)\n",
    "        result = Result_df[nr]['Specific Productivity'].iloc[:-1,].values.reshape(-1,1)\n",
    "        result = np.concatenate((result, Result_df[nr]['Specific Productivity'].iloc[-1,]*np.ones((19,1))), axis = 0)\n",
    "        \n",
    "    else:\n",
    "        data = np.concatenate((data, Design[nr].iloc[:,1:].values), axis = 0)\n",
    "        des_bench = np.concatenate((np.arange(0,19).reshape(-1,1), np.zeros((19,1)), 0.4 * np.ones((19,1)), 0.15*np.ones((19,1))), axis = 1)\n",
    "        data = np.concatenate((data, des_bench), axis = 0)\n",
    "        result = np.concatenate((result, Result_df[nr]['Specific Productivity'].iloc[:-1,].values.reshape(-1,1)), axis = 0)\n",
    "        result = np.concatenate((result, Result_df[nr]['Specific Productivity'].iloc[-1,]*np.ones((19,1))), axis = 0)"
   ]
  },
  {
   "cell_type": "code",
   "execution_count": 5,
   "id": "5250e214",
   "metadata": {},
   "outputs": [
    {
     "data": {
      "text/plain": [
       "(102, 1)"
      ]
     },
     "execution_count": 5,
     "metadata": {},
     "output_type": "execute_result"
    }
   ],
   "source": [
    "result.shape "
   ]
  },
  {
   "cell_type": "markdown",
   "id": "344d09fe",
   "metadata": {},
   "source": [
    "### 3. Update rewards and weights"
   ]
  },
  {
   "cell_type": "code",
   "execution_count": 6,
   "id": "163cb67b",
   "metadata": {},
   "outputs": [
    {
     "name": "stdout",
     "output_type": "stream",
     "text": [
      "0\n",
      "[-2.49660778 -0.04745526 -1.74684871 -0.01180233 -3.3013903  -3.36177907\n",
      " -6.4015452  -0.58866723 -1.11581725 -0.23378436 -0.04202983]\n"
     ]
    }
   ],
   "source": [
    "batch_size = 11\n",
    "C_list = ModelBackground_2['data_param']['C']\n",
    "\n",
    "ht_next_list_array = np.atleast_2d(ModelBackground_2['Categorical_dist_param']['ht_batch_list'])\n",
    "\n",
    "ht_list_rewards = compute_reward_for_all_cat_variable(ht_next_list_array, C_list,\n",
    "                                                      data, result, batch_size)\n",
    "\n",
    "Wc_list = update_weights_for_all_cat_var(C_list, \n",
    "                ht_list_rewards, ModelBackground_2['Categorical_dist_param']['ht_list'],\n",
    "                ModelBackground_2['Wc_list'], ModelBackground_2['gamma_list'],\n",
    "                ModelBackground_2['Categorical_dist_param']['probabilityDistribution_list'],\n",
    "                batch_size, ModelBackground_2['Categorical_dist_param']['S0'])"
   ]
  },
  {
   "cell_type": "code",
   "execution_count": 7,
   "id": "a1bc9171",
   "metadata": {},
   "outputs": [
    {
     "name": "stdout",
     "output_type": "stream",
     "text": [
      "check2\n",
      "(1000, 1)\n",
      "(1000, 1, 1)\n",
      "[[[0.         0.04327803 0.40167779 0.06444845]]]\n",
      "(1000, 1)\n",
      "(1000, 1, 1)\n",
      "[[[4.         0.01085071 0.44229481 0.16685211]]]\n",
      "(1000, 1)\n",
      "(1000, 1, 1)\n",
      "[[[5.         0.03091627 0.390231   0.26929156]]]\n",
      "(1000, 1)\n",
      "(1000, 1, 1)\n",
      "[[[9.         0.03450741 0.43648529 0.04208985]]]\n",
      "(1000, 1)\n",
      "(1000, 1, 1)\n",
      "[[[1.00000000e+01 3.20483490e-03 3.33345719e-01 3.21809925e-01]]]\n",
      "(1000, 1)\n",
      "(1000, 1, 1)\n",
      "[[[11.          0.11285628  0.01901071  0.26054065]]]\n",
      "(1000, 1)\n",
      "(1000, 1, 1)\n",
      "[[[12.          0.90712822  0.1198793   0.96421183]]]\n",
      "(1000, 1)\n",
      "(1000, 1, 1)\n",
      "[[[13.          0.06849508  0.38344469  0.08508293]]]\n",
      "(1000, 1)\n",
      "(1000, 1, 1)\n",
      "[[[14.          0.09079158  0.37841216  0.02458696]]]\n",
      "(1000, 1)\n",
      "(1000, 1, 1)\n",
      "[[[1.50000000e+01 6.13373895e-03 3.22413801e-01 3.73858116e-02]]]\n",
      "(1000, 1)\n",
      "(1000, 1, 1)\n",
      "[[[18.          0.06664122  0.43406263  0.01899572]]]\n",
      "       0         1         2         3\n",
      "0    0.0  0.043278  0.401678  0.064448\n",
      "1    4.0  0.010851  0.442295  0.166852\n",
      "2    5.0  0.030916  0.390231  0.269292\n",
      "3    9.0  0.034507  0.436485  0.042090\n",
      "4   10.0  0.003205  0.333346  0.321810\n",
      "5   11.0  0.112856  0.019011  0.260541\n",
      "6   12.0  0.907128  0.119879  0.964212\n",
      "7   13.0  0.068495  0.383445  0.085083\n",
      "8   14.0  0.090792  0.378412  0.024587\n",
      "9   15.0  0.006134  0.322414  0.037386\n",
      "10  18.0  0.066641  0.434063  0.018996\n"
     ]
    }
   ],
   "source": [
    "z_next, Categorical_dist_param = ask_tell(data, result, ModelBackground_2['data_param'], \n",
    "                                          'RBF', 'thompson_sampling', batch_size, \n",
    "                                          Wc_list, ModelBackground_2['gamma_list'])\n",
    "z_next = np.round(z_next,2)"
   ]
  },
  {
   "cell_type": "code",
   "execution_count": 8,
   "id": "39fdb30b",
   "metadata": {},
   "outputs": [],
   "source": [
    "pd.DataFrame(z_next).to_csv('./Round3/3_ExperimentalDesign.csv')\n",
    "\n"
   ]
  },
  {
   "cell_type": "markdown",
   "id": "151d0825",
   "metadata": {},
   "source": [
    "### 4. Store the Model background parameters"
   ]
  },
  {
   "cell_type": "code",
   "execution_count": 9,
   "id": "9aa06101",
   "metadata": {},
   "outputs": [],
   "source": [
    "ModelBackground_3 = {}\n",
    "ModelBackground_3 = {'gamma_list': ModelBackground_2['gamma_list'],  'budget': ModelBackground_2['budget'],\n",
    "                 'bestUpperBoundEstimate': ModelBackground_2['bestUpperBoundEstimate'], \n",
    "                     'Wc_list_init': ModelBackground_2['Wc_list_init'],\n",
    "                   'Wc_list': Wc_list, 'data_param': ModelBackground_2['data_param'], \n",
    "                   'Categorical_dist_param': Categorical_dist_param}\n",
    "\n",
    "import pickle\n",
    "with open('./Round3/3_ModelBackground.pkl', 'wb') as output:\n",
    "    # Pickle dictionary using protocol 0.\n",
    "    pickle.dump(ModelBackground_3, output)"
   ]
  },
  {
   "cell_type": "markdown",
   "id": "fd9e3518",
   "metadata": {},
   "source": [
    "### 5. Conversion to actual experimental execution"
   ]
  },
  {
   "cell_type": "code",
   "execution_count": 10,
   "id": "0d47d538",
   "metadata": {},
   "outputs": [],
   "source": [
    "Stock_solid = pd.read_excel(carbon_source_fiepath + 'CarbonSourceInfo.xlsx', 'Stocks_solid')\n",
    "Stock_liquid = pd.read_excel(carbon_source_fiepath + 'CarbonSourceInfo.xlsx', 'Stocks_liquid')\n",
    "\n",
    "Carbon_Names = Stock_solid['Carbon Source'].values.tolist()\n",
    "Carbon_Names.append(Stock_liquid['Carbon Source'][1])\n",
    "Carbon_Names.append(Stock_liquid['Carbon Source'][2])\n",
    "\n",
    "Carbon_Ub = [50]*17 #[g/L]\n",
    "Carbon_Ub.append(10) # Glycerol [mL/L]\n",
    "Carbon_Ub.append(50) #Ethanol [mL/L]\n",
    "\n",
    "OG_Gly_Ub = 100 #[mL/L]\n",
    "Met_Ub = 100 #[mL/L]\n",
    "\n",
    "Stock_Conc = Stock_solid['g/mL'].values.tolist()\n",
    "Stock_Conc.append(Stock_liquid['mL/mL'][1].tolist())\n",
    "Stock_Conc.append(Stock_liquid['mL/mL'][2].tolist())\n",
    "\n",
    "OG_Stock_Conc = Stock_liquid['mL/mL'][0].tolist()\n",
    "\n"
   ]
  },
  {
   "cell_type": "code",
   "execution_count": 11,
   "id": "8d89cfe6",
   "metadata": {},
   "outputs": [],
   "source": [
    "Selected_Carbon = []\n",
    "Carbon_mL = []\n",
    "OG_Gly_mL = []\n",
    "Met_mL = []\n",
    "\n",
    "\n",
    "for i in range(batch_size):\n",
    "    Selected_Carbon.append(Carbon_Names[int(z_next[i,0])])\n",
    "    temp_factor = Carbon_Ub[int(z_next[i,0])]/ Stock_Conc[int(z_next[i,0])]\n",
    "    temp = z_next[i,1] * temp_factor * 3\n",
    "    Carbon_mL.append(temp)\n",
    "    OG_Gly_mL.append(z_next[i,2] * OG_Gly_Ub * 3/OG_Stock_Conc)\n",
    "    Met_mL.append(z_next[i,3] * Met_Ub * 3)\n",
    "    \n",
    "\n",
    "\n",
    "Experiment_3_3mL = {'Carbon_Type': Selected_Carbon,\n",
    "               'Conc_Carbon [uL]': Carbon_mL,\n",
    "               'Gly_OG [uL]': OG_Gly_mL,\n",
    "               'Met_Prod [uL]': Met_mL}\n",
    "\n",
    "pd.DataFrame(Experiment_3_3mL).to_csv('./Round3/3_ExperimentPlan_mLValue_3mL.csv')"
   ]
  },
  {
   "cell_type": "code",
   "execution_count": 12,
   "id": "6cec43e6",
   "metadata": {},
   "outputs": [
    {
     "data": {
      "text/plain": [
       "<matplotlib.collections.PathCollection at 0x7fe818f4d9d0>"
      ]
     },
     "execution_count": 12,
     "metadata": {},
     "output_type": "execute_result"
    },
    {
     "data": {
      "image/png": "[encoded data removed]",
      "text/plain": [
       "<Figure size 432x288 with 1 Axes>"
      ]
     },
     "metadata": {
      "needs_background": "light"
     },
     "output_type": "display_data"
    }
   ],
   "source": [
    "plt.scatter(data[:,0], data[:,1])\n",
    "plt.scatter(z_next[:,0],z_next[:,1])\n"
   ]
  },
  {
   "cell_type": "code",
   "execution_count": 13,
   "id": "a05eaab4",
   "metadata": {},
   "outputs": [
    {
     "data": {
      "text/plain": [
       "<matplotlib.collections.PathCollection at 0x7fe7f8f5b050>"
      ]
     },
     "execution_count": 13,
     "metadata": {},
     "output_type": "execute_result"
    },
    {
     "data": {
      "image/png": "[encoded data removed]",
      "text/plain": [
       "<Figure size 432x288 with 1 Axes>"
      ]
     },
     "metadata": {
      "needs_background": "light"
     },
     "output_type": "display_data"
    }
   ],
   "source": [
    "plt.scatter(data[:,2], data[:,3])\n",
    "plt.scatter(z_next[:,2],z_next[:,3])\n"
   ]
  },
  {
   "cell_type": "code",
   "execution_count": null,
   "id": "8bb4839d",
   "metadata": {},
   "outputs": [],
   "source": []
  }
 ],
 "metadata": {
  "kernelspec": {
   "display_name": "Python 3 (ipykernel)",
   "language": "python",
   "name": "python3"
  },
  "language_info": {
   "codemirror_mode": {
    "name": "ipython",
    "version": 3
   },
   "file_extension": ".py",
   "mimetype": "text/x-python",
   "name": "python",
   "nbconvert_exporter": "python",
   "pygments_lexer": "ipython3",
   "version": "3.7.13"
  }
 },
 "nbformat": 4,
 "nbformat_minor": 5
}
